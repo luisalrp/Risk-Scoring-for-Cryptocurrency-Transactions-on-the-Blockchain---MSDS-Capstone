{
 "cells": [
  {
   "cell_type": "markdown",
   "metadata": {},
   "source": [
    "# Risk on the Blockchain for Bitcoin"
   ]
  },
  {
   "cell_type": "code",
   "execution_count": 2,
   "metadata": {},
   "outputs": [],
   "source": [
    "# Import Lib's \n",
    "import pandas as pd\n",
    "import hashlib\n",
    "from pandas.io import gbq\n",
    "from random import shuffle\n",
    "from functools import reduce\n",
    "import random\n",
    "import numpy as np\n",
    "from sklearn.model_selection import train_test_split\n",
    "from sklearn.ensemble import RandomForestClassifier\n",
    "from sklearn.metrics import confusion_matrix\n",
    "from sklearn.neighbors import KNeighborsClassifier\n",
    "from sklearn.naive_bayes import GaussianNB\n",
    "from sklearn.naive_bayes import BernoulliNB\n",
    "from sklearn.metrics import classification_report\n",
    "from sklearn.model_selection import cross_val_score\n",
    "from sklearn.decomposition import PCA \n",
    "from sklearn.pipeline import Pipeline\n",
    "from sklearn import metrics as mt"
   ]
  },
  {
   "cell_type": "code",
   "execution_count": 3,
   "metadata": {},
   "outputs": [],
   "source": [
    "## Insert the BigQuery Project ID\n",
    "projectid = \"capstone-202618\""
   ]
  },
  {
   "cell_type": "markdown",
   "metadata": {},
   "source": [
    "#### Query the tx table from BigQuery "
   ]
  },
  {
   "cell_type": "code",
   "execution_count": 4,
   "metadata": {},
   "outputs": [],
   "source": [
    "## Query the table\n",
    "tx = gbq.read_gbq('SELECT * FROM Data.tx LIMIT 10000000', projectid)"
   ]
  },
  {
   "cell_type": "code",
   "execution_count": 6,
   "metadata": {},
   "outputs": [],
   "source": [
    "## Rename the columns\n",
    "tx = tx.rename({'int64_field_0':'txID', 'int64_field_1':'blockID', \n",
    "                'int64_field_2':'n_inputs', 'int64_field_3':'n_outputs'}, axis=1)"
   ]
  },
  {
   "cell_type": "code",
   "execution_count": 7,
   "metadata": {},
   "outputs": [
    {
     "data": {
      "text/html": [
       "<div>\n",
       "<style scoped>\n",
       "    .dataframe tbody tr th:only-of-type {\n",
       "        vertical-align: middle;\n",
       "    }\n",
       "\n",
       "    .dataframe tbody tr th {\n",
       "        vertical-align: top;\n",
       "    }\n",
       "\n",
       "    .dataframe thead th {\n",
       "        text-align: right;\n",
       "    }\n",
       "</style>\n",
       "<table border=\"1\" class=\"dataframe\">\n",
       "  <thead>\n",
       "    <tr style=\"text-align: right;\">\n",
       "      <th></th>\n",
       "      <th>txID</th>\n",
       "      <th>blockID</th>\n",
       "      <th>n_inputs</th>\n",
       "      <th>n_outputs</th>\n",
       "    </tr>\n",
       "  </thead>\n",
       "  <tbody>\n",
       "    <tr>\n",
       "      <th>0</th>\n",
       "      <td>272843234</td>\n",
       "      <td>495187</td>\n",
       "      <td>1</td>\n",
       "      <td>2</td>\n",
       "    </tr>\n",
       "    <tr>\n",
       "      <th>1</th>\n",
       "      <td>272845022</td>\n",
       "      <td>495188</td>\n",
       "      <td>1</td>\n",
       "      <td>2</td>\n",
       "    </tr>\n",
       "    <tr>\n",
       "      <th>2</th>\n",
       "      <td>272845795</td>\n",
       "      <td>495189</td>\n",
       "      <td>1</td>\n",
       "      <td>2</td>\n",
       "    </tr>\n",
       "    <tr>\n",
       "      <th>3</th>\n",
       "      <td>272849076</td>\n",
       "      <td>495191</td>\n",
       "      <td>2</td>\n",
       "      <td>2</td>\n",
       "    </tr>\n",
       "    <tr>\n",
       "      <th>4</th>\n",
       "      <td>272849362</td>\n",
       "      <td>495191</td>\n",
       "      <td>1</td>\n",
       "      <td>2</td>\n",
       "    </tr>\n",
       "  </tbody>\n",
       "</table>\n",
       "</div>"
      ],
      "text/plain": [
       "        txID  blockID  n_inputs  n_outputs\n",
       "0  272843234   495187         1          2\n",
       "1  272845022   495188         1          2\n",
       "2  272845795   495189         1          2\n",
       "3  272849076   495191         2          2\n",
       "4  272849362   495191         1          2"
      ]
     },
     "execution_count": 7,
     "metadata": {},
     "output_type": "execute_result"
    }
   ],
   "source": [
    "## Check the data\n",
    "tx.head()"
   ]
  },
  {
   "cell_type": "markdown",
   "metadata": {},
   "source": [
    "#### Query the txout table from BigQuery "
   ]
  },
  {
   "cell_type": "code",
   "execution_count": 10,
   "metadata": {},
   "outputs": [],
   "source": [
    "## Query the txout table\n",
    "txout = gbq.read_gbq('SELECT * FROM Data.txout LIMIT 10000000', projectid)"
   ]
  },
  {
   "cell_type": "code",
   "execution_count": 12,
   "metadata": {},
   "outputs": [],
   "source": [
    "## Rename the columns\n",
    "txout = txout.rename({'int64_field_0':'txID', 'int64_field_1':'output_seq', \n",
    "                    'int64_field_2':'addrID', 'int64_field_3':'sum'}, axis=1)"
   ]
  },
  {
   "cell_type": "markdown",
   "metadata": {},
   "source": [
    "#### Query the Stone Man Loss Incident from both the tx and txout tables "
   ]
  },
  {
   "cell_type": "code",
   "execution_count": 25,
   "metadata": {},
   "outputs": [],
   "source": [
    "## Query the Stone Man Loss Incident \n",
    "incident1 = gbq.read_gbq('SELECT * FROM Data.tx WHERE int64_field_0 == 101661', projectid)"
   ]
  },
  {
   "cell_type": "code",
   "execution_count": 26,
   "metadata": {},
   "outputs": [],
   "source": [
    "## Rename the columns\n",
    "incident1 = incident1.rename({'int64_field_0':'txID', 'int64_field_1':'blockID', \n",
    "                'int64_field_2':'n_inputs', 'int64_field_3':'n_outputs'}, axis=1)"
   ]
  },
  {
   "cell_type": "code",
   "execution_count": 27,
   "metadata": {},
   "outputs": [
    {
     "data": {
      "text/html": [
       "<div>\n",
       "<style scoped>\n",
       "    .dataframe tbody tr th:only-of-type {\n",
       "        vertical-align: middle;\n",
       "    }\n",
       "\n",
       "    .dataframe tbody tr th {\n",
       "        vertical-align: top;\n",
       "    }\n",
       "\n",
       "    .dataframe thead th {\n",
       "        text-align: right;\n",
       "    }\n",
       "</style>\n",
       "<table border=\"1\" class=\"dataframe\">\n",
       "  <thead>\n",
       "    <tr style=\"text-align: right;\">\n",
       "      <th></th>\n",
       "      <th>txID</th>\n",
       "      <th>blockID</th>\n",
       "      <th>n_inputs</th>\n",
       "      <th>n_outputs</th>\n",
       "    </tr>\n",
       "  </thead>\n",
       "  <tbody>\n",
       "    <tr>\n",
       "      <th>0</th>\n",
       "      <td>101661</td>\n",
       "      <td>73272</td>\n",
       "      <td>1</td>\n",
       "      <td>2</td>\n",
       "    </tr>\n",
       "  </tbody>\n",
       "</table>\n",
       "</div>"
      ],
      "text/plain": [
       "     txID  blockID  n_inputs  n_outputs\n",
       "0  101661    73272         1          2"
      ]
     },
     "execution_count": 27,
     "metadata": {},
     "output_type": "execute_result"
    }
   ],
   "source": [
    "## Check the data\n",
    "incident1.head()"
   ]
  },
  {
   "cell_type": "code",
   "execution_count": 28,
   "metadata": {},
   "outputs": [],
   "source": [
    "## Append the incident1(Stone Man Loss) to the raw tx data\n",
    "tx = incident1.append(tx)"
   ]
  },
  {
   "cell_type": "code",
   "execution_count": 30,
   "metadata": {},
   "outputs": [
    {
     "data": {
      "text/html": [
       "<div>\n",
       "<style scoped>\n",
       "    .dataframe tbody tr th:only-of-type {\n",
       "        vertical-align: middle;\n",
       "    }\n",
       "\n",
       "    .dataframe tbody tr th {\n",
       "        vertical-align: top;\n",
       "    }\n",
       "\n",
       "    .dataframe thead th {\n",
       "        text-align: right;\n",
       "    }\n",
       "</style>\n",
       "<table border=\"1\" class=\"dataframe\">\n",
       "  <thead>\n",
       "    <tr style=\"text-align: right;\">\n",
       "      <th></th>\n",
       "      <th>txID</th>\n",
       "      <th>blockID</th>\n",
       "      <th>n_inputs</th>\n",
       "      <th>n_outputs</th>\n",
       "    </tr>\n",
       "  </thead>\n",
       "  <tbody>\n",
       "    <tr>\n",
       "      <th>0</th>\n",
       "      <td>101661</td>\n",
       "      <td>73272</td>\n",
       "      <td>1</td>\n",
       "      <td>2</td>\n",
       "    </tr>\n",
       "    <tr>\n",
       "      <th>0</th>\n",
       "      <td>272843234</td>\n",
       "      <td>495187</td>\n",
       "      <td>1</td>\n",
       "      <td>2</td>\n",
       "    </tr>\n",
       "    <tr>\n",
       "      <th>1</th>\n",
       "      <td>272845022</td>\n",
       "      <td>495188</td>\n",
       "      <td>1</td>\n",
       "      <td>2</td>\n",
       "    </tr>\n",
       "    <tr>\n",
       "      <th>2</th>\n",
       "      <td>272845795</td>\n",
       "      <td>495189</td>\n",
       "      <td>1</td>\n",
       "      <td>2</td>\n",
       "    </tr>\n",
       "    <tr>\n",
       "      <th>3</th>\n",
       "      <td>272849076</td>\n",
       "      <td>495191</td>\n",
       "      <td>2</td>\n",
       "      <td>2</td>\n",
       "    </tr>\n",
       "  </tbody>\n",
       "</table>\n",
       "</div>"
      ],
      "text/plain": [
       "        txID  blockID  n_inputs  n_outputs\n",
       "0     101661    73272         1          2\n",
       "0  272843234   495187         1          2\n",
       "1  272845022   495188         1          2\n",
       "2  272845795   495189         1          2\n",
       "3  272849076   495191         2          2"
      ]
     },
     "execution_count": 30,
     "metadata": {},
     "output_type": "execute_result"
    }
   ],
   "source": [
    "## Check data\n",
    "tx.head()"
   ]
  },
  {
   "cell_type": "code",
   "execution_count": 17,
   "metadata": {},
   "outputs": [],
   "source": [
    "## Query the txout table for the Stone Man Loss Incident\n",
    "incident1 = gbq.read_gbq('SELECT * FROM Data.txout WHERE int64_field_0 == 101661', projectid)"
   ]
  },
  {
   "cell_type": "code",
   "execution_count": 19,
   "metadata": {},
   "outputs": [],
   "source": [
    "## Rename the columns\n",
    "incident1 = incident1.rename({'int64_field_0':'txID', 'int64_field_1':'output_seq', \n",
    "                    'int64_field_2':'addrID', 'int64_field_3':'sum'}, axis=1)"
   ]
  },
  {
   "cell_type": "code",
   "execution_count": 20,
   "metadata": {},
   "outputs": [
    {
     "data": {
      "text/html": [
       "<div>\n",
       "<style scoped>\n",
       "    .dataframe tbody tr th:only-of-type {\n",
       "        vertical-align: middle;\n",
       "    }\n",
       "\n",
       "    .dataframe tbody tr th {\n",
       "        vertical-align: top;\n",
       "    }\n",
       "\n",
       "    .dataframe thead th {\n",
       "        text-align: right;\n",
       "    }\n",
       "</style>\n",
       "<table border=\"1\" class=\"dataframe\">\n",
       "  <thead>\n",
       "    <tr style=\"text-align: right;\">\n",
       "      <th></th>\n",
       "      <th>txID</th>\n",
       "      <th>output_seq</th>\n",
       "      <th>addrID</th>\n",
       "      <th>sum</th>\n",
       "    </tr>\n",
       "  </thead>\n",
       "  <tbody>\n",
       "    <tr>\n",
       "      <th>0</th>\n",
       "      <td>101661</td>\n",
       "      <td>0</td>\n",
       "      <td>98866</td>\n",
       "      <td>100000000</td>\n",
       "    </tr>\n",
       "    <tr>\n",
       "      <th>1</th>\n",
       "      <td>101661</td>\n",
       "      <td>1</td>\n",
       "      <td>98910</td>\n",
       "      <td>899900000000</td>\n",
       "    </tr>\n",
       "  </tbody>\n",
       "</table>\n",
       "</div>"
      ],
      "text/plain": [
       "     txID  output_seq  addrID           sum\n",
       "0  101661           0   98866     100000000\n",
       "1  101661           1   98910  899900000000"
      ]
     },
     "execution_count": 20,
     "metadata": {},
     "output_type": "execute_result"
    }
   ],
   "source": [
    "## Check the data \n",
    "incident1.head()"
   ]
  },
  {
   "cell_type": "code",
   "execution_count": 22,
   "metadata": {},
   "outputs": [],
   "source": [
    "## Append the Stone Man Incident to the txout raw data\n",
    "txout = incident1.append(txout)"
   ]
  },
  {
   "cell_type": "code",
   "execution_count": 29,
   "metadata": {},
   "outputs": [
    {
     "data": {
      "text/html": [
       "<div>\n",
       "<style scoped>\n",
       "    .dataframe tbody tr th:only-of-type {\n",
       "        vertical-align: middle;\n",
       "    }\n",
       "\n",
       "    .dataframe tbody tr th {\n",
       "        vertical-align: top;\n",
       "    }\n",
       "\n",
       "    .dataframe thead th {\n",
       "        text-align: right;\n",
       "    }\n",
       "</style>\n",
       "<table border=\"1\" class=\"dataframe\">\n",
       "  <thead>\n",
       "    <tr style=\"text-align: right;\">\n",
       "      <th></th>\n",
       "      <th>txID</th>\n",
       "      <th>output_seq</th>\n",
       "      <th>addrID</th>\n",
       "      <th>sum</th>\n",
       "    </tr>\n",
       "  </thead>\n",
       "  <tbody>\n",
       "    <tr>\n",
       "      <th>0</th>\n",
       "      <td>101661</td>\n",
       "      <td>0</td>\n",
       "      <td>98866</td>\n",
       "      <td>100000000</td>\n",
       "    </tr>\n",
       "    <tr>\n",
       "      <th>1</th>\n",
       "      <td>101661</td>\n",
       "      <td>1</td>\n",
       "      <td>98910</td>\n",
       "      <td>899900000000</td>\n",
       "    </tr>\n",
       "    <tr>\n",
       "      <th>0</th>\n",
       "      <td>128712579</td>\n",
       "      <td>15</td>\n",
       "      <td>66206876</td>\n",
       "      <td>10031</td>\n",
       "    </tr>\n",
       "    <tr>\n",
       "      <th>1</th>\n",
       "      <td>128712579</td>\n",
       "      <td>16</td>\n",
       "      <td>137355495</td>\n",
       "      <td>62286</td>\n",
       "    </tr>\n",
       "    <tr>\n",
       "      <th>2</th>\n",
       "      <td>128712579</td>\n",
       "      <td>17</td>\n",
       "      <td>109004316</td>\n",
       "      <td>38045</td>\n",
       "    </tr>\n",
       "  </tbody>\n",
       "</table>\n",
       "</div>"
      ],
      "text/plain": [
       "        txID  output_seq     addrID           sum\n",
       "0     101661           0      98866     100000000\n",
       "1     101661           1      98910  899900000000\n",
       "0  128712579          15   66206876         10031\n",
       "1  128712579          16  137355495         62286\n",
       "2  128712579          17  109004316         38045"
      ]
     },
     "execution_count": 29,
     "metadata": {},
     "output_type": "execute_result"
    }
   ],
   "source": [
    "## Check the data\n",
    "txout.head()"
   ]
  },
  {
   "cell_type": "markdown",
   "metadata": {},
   "source": [
    "#### Query the ___ Incident from both the tx and txout tables "
   ]
  },
  {
   "cell_type": "code",
   "execution_count": null,
   "metadata": {},
   "outputs": [],
   "source": []
  },
  {
   "cell_type": "code",
   "execution_count": null,
   "metadata": {},
   "outputs": [],
   "source": []
  },
  {
   "cell_type": "code",
   "execution_count": null,
   "metadata": {},
   "outputs": [],
   "source": []
  },
  {
   "cell_type": "code",
   "execution_count": null,
   "metadata": {},
   "outputs": [],
   "source": []
  },
  {
   "cell_type": "code",
   "execution_count": null,
   "metadata": {},
   "outputs": [],
   "source": []
  },
  {
   "cell_type": "code",
   "execution_count": null,
   "metadata": {},
   "outputs": [],
   "source": []
  },
  {
   "cell_type": "code",
   "execution_count": null,
   "metadata": {},
   "outputs": [],
   "source": []
  },
  {
   "cell_type": "markdown",
   "metadata": {},
   "source": [
    "#### Merge the two data frames that have everything appened to them"
   ]
  },
  {
   "cell_type": "code",
   "execution_count": 31,
   "metadata": {},
   "outputs": [],
   "source": [
    "data = pd.merge(tx, txout)"
   ]
  },
  {
   "cell_type": "code",
   "execution_count": 36,
   "metadata": {},
   "outputs": [
    {
     "data": {
      "text/html": [
       "<div>\n",
       "<style scoped>\n",
       "    .dataframe tbody tr th:only-of-type {\n",
       "        vertical-align: middle;\n",
       "    }\n",
       "\n",
       "    .dataframe tbody tr th {\n",
       "        vertical-align: top;\n",
       "    }\n",
       "\n",
       "    .dataframe thead th {\n",
       "        text-align: right;\n",
       "    }\n",
       "</style>\n",
       "<table border=\"1\" class=\"dataframe\">\n",
       "  <thead>\n",
       "    <tr style=\"text-align: right;\">\n",
       "      <th></th>\n",
       "      <th>txID</th>\n",
       "      <th>blockID</th>\n",
       "      <th>n_inputs</th>\n",
       "      <th>n_outputs</th>\n",
       "      <th>output_seq</th>\n",
       "      <th>addrID</th>\n",
       "      <th>sum</th>\n",
       "      <th>risk</th>\n",
       "    </tr>\n",
       "  </thead>\n",
       "  <tbody>\n",
       "    <tr>\n",
       "      <th>0</th>\n",
       "      <td>101661</td>\n",
       "      <td>73272</td>\n",
       "      <td>1</td>\n",
       "      <td>2</td>\n",
       "      <td>0</td>\n",
       "      <td>98866</td>\n",
       "      <td>100000000</td>\n",
       "      <td>high</td>\n",
       "    </tr>\n",
       "    <tr>\n",
       "      <th>1</th>\n",
       "      <td>101661</td>\n",
       "      <td>73272</td>\n",
       "      <td>1</td>\n",
       "      <td>2</td>\n",
       "      <td>1</td>\n",
       "      <td>98910</td>\n",
       "      <td>899900000000</td>\n",
       "      <td>high</td>\n",
       "    </tr>\n",
       "    <tr>\n",
       "      <th>2</th>\n",
       "      <td>101661</td>\n",
       "      <td>73272</td>\n",
       "      <td>1</td>\n",
       "      <td>2</td>\n",
       "      <td>0</td>\n",
       "      <td>98866</td>\n",
       "      <td>100000000</td>\n",
       "      <td>high</td>\n",
       "    </tr>\n",
       "    <tr>\n",
       "      <th>3</th>\n",
       "      <td>101661</td>\n",
       "      <td>73272</td>\n",
       "      <td>1</td>\n",
       "      <td>2</td>\n",
       "      <td>1</td>\n",
       "      <td>98910</td>\n",
       "      <td>899900000000</td>\n",
       "      <td>high</td>\n",
       "    </tr>\n",
       "    <tr>\n",
       "      <th>4</th>\n",
       "      <td>67819649</td>\n",
       "      <td>355201</td>\n",
       "      <td>2</td>\n",
       "      <td>2</td>\n",
       "      <td>0</td>\n",
       "      <td>71517379</td>\n",
       "      <td>6980000</td>\n",
       "      <td>low</td>\n",
       "    </tr>\n",
       "  </tbody>\n",
       "</table>\n",
       "</div>"
      ],
      "text/plain": [
       "       txID  blockID  n_inputs  n_outputs  output_seq    addrID           sum  \\\n",
       "0    101661    73272         1          2           0     98866     100000000   \n",
       "1    101661    73272         1          2           1     98910  899900000000   \n",
       "2    101661    73272         1          2           0     98866     100000000   \n",
       "3    101661    73272         1          2           1     98910  899900000000   \n",
       "4  67819649   355201         2          2           0  71517379       6980000   \n",
       "\n",
       "   risk  \n",
       "0  high  \n",
       "1  high  \n",
       "2  high  \n",
       "3  high  \n",
       "4   low  "
      ]
     },
     "execution_count": 36,
     "metadata": {},
     "output_type": "execute_result"
    }
   ],
   "source": [
    "data.head()"
   ]
  },
  {
   "cell_type": "code",
   "execution_count": 35,
   "metadata": {},
   "outputs": [],
   "source": [
    "data['risk'] = np.where(data['txID'] == 101661, 'high', 'low')"
   ]
  },
  {
   "cell_type": "code",
   "execution_count": 49,
   "metadata": {},
   "outputs": [],
   "source": [
    "# data['risk'] = np.where(data['sum'] <= 265884431, 'low', 'high')"
   ]
  },
  {
   "cell_type": "code",
   "execution_count": 38,
   "metadata": {},
   "outputs": [
    {
     "data": {
      "text/html": [
       "<div>\n",
       "<style scoped>\n",
       "    .dataframe tbody tr th:only-of-type {\n",
       "        vertical-align: middle;\n",
       "    }\n",
       "\n",
       "    .dataframe tbody tr th {\n",
       "        vertical-align: top;\n",
       "    }\n",
       "\n",
       "    .dataframe thead th {\n",
       "        text-align: right;\n",
       "    }\n",
       "</style>\n",
       "<table border=\"1\" class=\"dataframe\">\n",
       "  <thead>\n",
       "    <tr style=\"text-align: right;\">\n",
       "      <th></th>\n",
       "      <th>txID</th>\n",
       "      <th>blockID</th>\n",
       "      <th>n_inputs</th>\n",
       "      <th>n_outputs</th>\n",
       "      <th>output_seq</th>\n",
       "      <th>addrID</th>\n",
       "      <th>sum</th>\n",
       "      <th>risk</th>\n",
       "    </tr>\n",
       "  </thead>\n",
       "  <tbody>\n",
       "    <tr>\n",
       "      <th>0</th>\n",
       "      <td>101661</td>\n",
       "      <td>73272</td>\n",
       "      <td>1</td>\n",
       "      <td>2</td>\n",
       "      <td>0</td>\n",
       "      <td>98866</td>\n",
       "      <td>100000000</td>\n",
       "      <td>high</td>\n",
       "    </tr>\n",
       "    <tr>\n",
       "      <th>1</th>\n",
       "      <td>101661</td>\n",
       "      <td>73272</td>\n",
       "      <td>1</td>\n",
       "      <td>2</td>\n",
       "      <td>1</td>\n",
       "      <td>98910</td>\n",
       "      <td>899900000000</td>\n",
       "      <td>high</td>\n",
       "    </tr>\n",
       "    <tr>\n",
       "      <th>2</th>\n",
       "      <td>101661</td>\n",
       "      <td>73272</td>\n",
       "      <td>1</td>\n",
       "      <td>2</td>\n",
       "      <td>0</td>\n",
       "      <td>98866</td>\n",
       "      <td>100000000</td>\n",
       "      <td>high</td>\n",
       "    </tr>\n",
       "    <tr>\n",
       "      <th>3</th>\n",
       "      <td>101661</td>\n",
       "      <td>73272</td>\n",
       "      <td>1</td>\n",
       "      <td>2</td>\n",
       "      <td>1</td>\n",
       "      <td>98910</td>\n",
       "      <td>899900000000</td>\n",
       "      <td>high</td>\n",
       "    </tr>\n",
       "    <tr>\n",
       "      <th>4</th>\n",
       "      <td>67819649</td>\n",
       "      <td>355201</td>\n",
       "      <td>2</td>\n",
       "      <td>2</td>\n",
       "      <td>0</td>\n",
       "      <td>71517379</td>\n",
       "      <td>6980000</td>\n",
       "      <td>low</td>\n",
       "    </tr>\n",
       "  </tbody>\n",
       "</table>\n",
       "</div>"
      ],
      "text/plain": [
       "       txID  blockID  n_inputs  n_outputs  output_seq    addrID           sum  \\\n",
       "0    101661    73272         1          2           0     98866     100000000   \n",
       "1    101661    73272         1          2           1     98910  899900000000   \n",
       "2    101661    73272         1          2           0     98866     100000000   \n",
       "3    101661    73272         1          2           1     98910  899900000000   \n",
       "4  67819649   355201         2          2           0  71517379       6980000   \n",
       "\n",
       "   risk  \n",
       "0  high  \n",
       "1  high  \n",
       "2  high  \n",
       "3  high  \n",
       "4   low  "
      ]
     },
     "execution_count": 38,
     "metadata": {},
     "output_type": "execute_result"
    }
   ],
   "source": [
    "data.head()"
   ]
  },
  {
   "cell_type": "code",
   "execution_count": 37,
   "metadata": {},
   "outputs": [
    {
     "data": {
      "text/html": [
       "<div>\n",
       "<style scoped>\n",
       "    .dataframe tbody tr th:only-of-type {\n",
       "        vertical-align: middle;\n",
       "    }\n",
       "\n",
       "    .dataframe tbody tr th {\n",
       "        vertical-align: top;\n",
       "    }\n",
       "\n",
       "    .dataframe thead th {\n",
       "        text-align: right;\n",
       "    }\n",
       "</style>\n",
       "<table border=\"1\" class=\"dataframe\">\n",
       "  <thead>\n",
       "    <tr style=\"text-align: right;\">\n",
       "      <th></th>\n",
       "      <th>txID</th>\n",
       "      <th>blockID</th>\n",
       "      <th>n_inputs</th>\n",
       "      <th>n_outputs</th>\n",
       "      <th>output_seq</th>\n",
       "      <th>addrID</th>\n",
       "      <th>sum</th>\n",
       "    </tr>\n",
       "    <tr>\n",
       "      <th>risk</th>\n",
       "      <th></th>\n",
       "      <th></th>\n",
       "      <th></th>\n",
       "      <th></th>\n",
       "      <th></th>\n",
       "      <th></th>\n",
       "      <th></th>\n",
       "    </tr>\n",
       "  </thead>\n",
       "  <tbody>\n",
       "    <tr>\n",
       "      <th>high</th>\n",
       "      <td>4</td>\n",
       "      <td>4</td>\n",
       "      <td>4</td>\n",
       "      <td>4</td>\n",
       "      <td>4</td>\n",
       "      <td>4</td>\n",
       "      <td>4</td>\n",
       "    </tr>\n",
       "    <tr>\n",
       "      <th>low</th>\n",
       "      <td>309287</td>\n",
       "      <td>309287</td>\n",
       "      <td>309287</td>\n",
       "      <td>309287</td>\n",
       "      <td>309287</td>\n",
       "      <td>309287</td>\n",
       "      <td>309287</td>\n",
       "    </tr>\n",
       "  </tbody>\n",
       "</table>\n",
       "</div>"
      ],
      "text/plain": [
       "        txID  blockID  n_inputs  n_outputs  output_seq  addrID     sum\n",
       "risk                                                                  \n",
       "high       4        4         4          4           4       4       4\n",
       "low   309287   309287    309287     309287      309287  309287  309287"
      ]
     },
     "execution_count": 37,
     "metadata": {},
     "output_type": "execute_result"
    }
   ],
   "source": [
    "data.groupby('risk').count()"
   ]
  },
  {
   "cell_type": "code",
   "execution_count": 11,
   "metadata": {},
   "outputs": [],
   "source": [
    "######################################################################################################################"
   ]
  },
  {
   "cell_type": "markdown",
   "metadata": {
    "collapsed": true
   },
   "source": [
    "Query the Google BigQuery DB\n"
   ]
  },
  {
   "cell_type": "code",
   "execution_count": 10,
   "metadata": {},
   "outputs": [],
   "source": [
    "## Mt. Gox\n",
    "mt_Gox_Hack = gbq.read_gbq('SELECT timestamp, transaction_id, inputs.input_pubkey_base58, outputs.output_satoshis, outputs.output_pubkey_base58 FROM (FLATTEN(DB.transactions_all, outputs.output_satoshis)) WHERE inputs.input_pubkey_base58 = \"1LNWw6yCxkUmkhArb2Nf2MPw6vG7u5WG7q\"', projectid)"
   ]
  },
  {
   "cell_type": "code",
   "execution_count": 21,
   "metadata": {},
   "outputs": [],
   "source": [
    "# mt_Gox_Hack = mt_Gox_Hack.rename(columns={'transaction_id':'mt_Gox_transaction_id','inputs_input_pubkey_base58':'mt_Gox_input_pubkey', 'outputs_output_satoshis':'mt_Gox_satoshis', \n",
    "#                                           'outputs_output_pubkey_base58':'mt_Gox_output_pubkey'})"
   ]
  },
  {
   "cell_type": "code",
   "execution_count": 40,
   "metadata": {},
   "outputs": [],
   "source": [
    "mt_Gox_Hack = mt_Gox_Hack.rename(columns={'inputs_input_pubkey_base58':'input_pubkey', 'outputs_output_satoshis':'satoshis', \n",
    "                                          'outputs_output_pubkey_base58':'output_pubkey'})"
   ]
  },
  {
   "cell_type": "code",
   "execution_count": 10,
   "metadata": {},
   "outputs": [],
   "source": [
    "# mt_Gox_Hack = mt_Gox_Hack.drop(columns=['mt_Gox_satoshis', 'timestamp'])"
   ]
  },
  {
   "cell_type": "code",
   "execution_count": 41,
   "metadata": {},
   "outputs": [],
   "source": [
    "mt_Gox_Hack['risk'] = 'high'"
   ]
  },
  {
   "cell_type": "code",
   "execution_count": 42,
   "metadata": {},
   "outputs": [
    {
     "data": {
      "text/html": [
       "<div>\n",
       "<style scoped>\n",
       "    .dataframe tbody tr th:only-of-type {\n",
       "        vertical-align: middle;\n",
       "    }\n",
       "\n",
       "    .dataframe tbody tr th {\n",
       "        vertical-align: top;\n",
       "    }\n",
       "\n",
       "    .dataframe thead th {\n",
       "        text-align: right;\n",
       "    }\n",
       "</style>\n",
       "<table border=\"1\" class=\"dataframe\">\n",
       "  <thead>\n",
       "    <tr style=\"text-align: right;\">\n",
       "      <th></th>\n",
       "      <th>timestamp</th>\n",
       "      <th>transaction_id</th>\n",
       "      <th>input_pubkey</th>\n",
       "      <th>satoshis</th>\n",
       "      <th>output_pubkey</th>\n",
       "      <th>risk</th>\n",
       "    </tr>\n",
       "  </thead>\n",
       "  <tbody>\n",
       "    <tr>\n",
       "      <th>0</th>\n",
       "      <td>1374760111000</td>\n",
       "      <td>20c745ad71edc1797ece5584f2fc6e5095d514c4f7588e...</td>\n",
       "      <td>1LNWw6yCxkUmkhArb2Nf2MPw6vG7u5WG7q</td>\n",
       "      <td>298349503</td>\n",
       "      <td>1DCAJRhqWj8QnqSyBFGWe5KugTysRWqNUJ</td>\n",
       "      <td>high</td>\n",
       "    </tr>\n",
       "    <tr>\n",
       "      <th>1</th>\n",
       "      <td>1374760111000</td>\n",
       "      <td>20c745ad71edc1797ece5584f2fc6e5095d514c4f7588e...</td>\n",
       "      <td>1LNWw6yCxkUmkhArb2Nf2MPw6vG7u5WG7q</td>\n",
       "      <td>30000000</td>\n",
       "      <td>18QYuFhuu4ygG421QRwZz2oxHVWCFu7AGQ</td>\n",
       "      <td>high</td>\n",
       "    </tr>\n",
       "    <tr>\n",
       "      <th>2</th>\n",
       "      <td>1370629170000</td>\n",
       "      <td>9fc9675753309d4bff2bd820c8e8481323c5a4056d9921...</td>\n",
       "      <td>1LNWw6yCxkUmkhArb2Nf2MPw6vG7u5WG7q</td>\n",
       "      <td>55000000</td>\n",
       "      <td>1LhUCHFiwGqC27uhqqQ4v5X8Lgbtxk6KwD</td>\n",
       "      <td>high</td>\n",
       "    </tr>\n",
       "    <tr>\n",
       "      <th>3</th>\n",
       "      <td>1370629170000</td>\n",
       "      <td>9fc9675753309d4bff2bd820c8e8481323c5a4056d9921...</td>\n",
       "      <td>1LNWw6yCxkUmkhArb2Nf2MPw6vG7u5WG7q</td>\n",
       "      <td>347739650</td>\n",
       "      <td>16jWwu9PrwMaqpZqmX5CWLRKBPHfmUDrkU</td>\n",
       "      <td>high</td>\n",
       "    </tr>\n",
       "    <tr>\n",
       "      <th>4</th>\n",
       "      <td>1363581739000</td>\n",
       "      <td>0b15e65d7d277a63961bd92b04466a010f04c574bacea8...</td>\n",
       "      <td>1LNWw6yCxkUmkhArb2Nf2MPw6vG7u5WG7q</td>\n",
       "      <td>1000000000</td>\n",
       "      <td>1FEJoFr5uWKo1dCi5sE6HXwEoV8AEe9z6B</td>\n",
       "      <td>high</td>\n",
       "    </tr>\n",
       "  </tbody>\n",
       "</table>\n",
       "</div>"
      ],
      "text/plain": [
       "       timestamp                                     transaction_id  \\\n",
       "0  1374760111000  20c745ad71edc1797ece5584f2fc6e5095d514c4f7588e...   \n",
       "1  1374760111000  20c745ad71edc1797ece5584f2fc6e5095d514c4f7588e...   \n",
       "2  1370629170000  9fc9675753309d4bff2bd820c8e8481323c5a4056d9921...   \n",
       "3  1370629170000  9fc9675753309d4bff2bd820c8e8481323c5a4056d9921...   \n",
       "4  1363581739000  0b15e65d7d277a63961bd92b04466a010f04c574bacea8...   \n",
       "\n",
       "                         input_pubkey    satoshis  \\\n",
       "0  1LNWw6yCxkUmkhArb2Nf2MPw6vG7u5WG7q   298349503   \n",
       "1  1LNWw6yCxkUmkhArb2Nf2MPw6vG7u5WG7q    30000000   \n",
       "2  1LNWw6yCxkUmkhArb2Nf2MPw6vG7u5WG7q    55000000   \n",
       "3  1LNWw6yCxkUmkhArb2Nf2MPw6vG7u5WG7q   347739650   \n",
       "4  1LNWw6yCxkUmkhArb2Nf2MPw6vG7u5WG7q  1000000000   \n",
       "\n",
       "                        output_pubkey  risk  \n",
       "0  1DCAJRhqWj8QnqSyBFGWe5KugTysRWqNUJ  high  \n",
       "1  18QYuFhuu4ygG421QRwZz2oxHVWCFu7AGQ  high  \n",
       "2  1LhUCHFiwGqC27uhqqQ4v5X8Lgbtxk6KwD  high  \n",
       "3  16jWwu9PrwMaqpZqmX5CWLRKBPHfmUDrkU  high  \n",
       "4  1FEJoFr5uWKo1dCi5sE6HXwEoV8AEe9z6B  high  "
      ]
     },
     "execution_count": 42,
     "metadata": {},
     "output_type": "execute_result"
    }
   ],
   "source": [
    "mt_Gox_Hack.head()"
   ]
  },
  {
   "cell_type": "code",
   "execution_count": 50,
   "metadata": {},
   "outputs": [],
   "source": [
    "## May 2012 Bitcoinica Hack\n",
    "# index = Transactions \n",
    "bitcoinica_hack = gbq.read_gbq('SELECT timestamp, transaction_id, inputs.input_pubkey_base58, outputs.output_satoshis, outputs.output_pubkey_base58 FROM (FLATTEN(DB.transactions_all, outputs.output_satoshis)) WHERE transaction_id = \"7a22917744aa9ed740faf3068a2f895424ed816ed1a04012b47df7a493f056e8\"', projectid)"
   ]
  },
  {
   "cell_type": "code",
   "execution_count": 25,
   "metadata": {},
   "outputs": [],
   "source": [
    "# bitcoinica_hack = bitcoinica_hack.rename(columns={'transaction_id':'bitcoinica_hack_transaction_id','inputs_input_pubkey_base58':'bitcoinica_hack_input_pubkey', 'outputs_output_satoshis':'bitcoinica_hack_satoshis', \n",
    "#                                                   'outputs_output_pubkey_base58':'bitcoinica_hack_output_pubkey'})"
   ]
  },
  {
   "cell_type": "code",
   "execution_count": 51,
   "metadata": {},
   "outputs": [],
   "source": [
    "bitcoinica_hack = bitcoinica_hack.rename(columns={'inputs_input_pubkey_base58':'input_pubkey', 'outputs_output_satoshis':'satoshis', \n",
    "                                                'outputs_output_pubkey_base58':'output_pubkey'})"
   ]
  },
  {
   "cell_type": "code",
   "execution_count": 14,
   "metadata": {},
   "outputs": [],
   "source": [
    "# bitcoinica_hack = bitcoinica_hack.drop(columns=['bitcoinica_hack_satoshis', 'timestamp'])"
   ]
  },
  {
   "cell_type": "code",
   "execution_count": 52,
   "metadata": {},
   "outputs": [],
   "source": [
    "bitcoinica_hack['risk'] = 'high'"
   ]
  },
  {
   "cell_type": "code",
   "execution_count": 56,
   "metadata": {},
   "outputs": [
    {
     "data": {
      "text/html": [
       "<div>\n",
       "<style scoped>\n",
       "    .dataframe tbody tr th:only-of-type {\n",
       "        vertical-align: middle;\n",
       "    }\n",
       "\n",
       "    .dataframe tbody tr th {\n",
       "        vertical-align: top;\n",
       "    }\n",
       "\n",
       "    .dataframe thead th {\n",
       "        text-align: right;\n",
       "    }\n",
       "</style>\n",
       "<table border=\"1\" class=\"dataframe\">\n",
       "  <thead>\n",
       "    <tr style=\"text-align: right;\">\n",
       "      <th></th>\n",
       "      <th>timestamp</th>\n",
       "      <th>transaction_id</th>\n",
       "      <th>input_pubkey</th>\n",
       "      <th>satoshis</th>\n",
       "      <th>output_pubkey</th>\n",
       "      <th>risk</th>\n",
       "    </tr>\n",
       "  </thead>\n",
       "  <tbody>\n",
       "    <tr>\n",
       "      <th>0</th>\n",
       "      <td>1336739433000</td>\n",
       "      <td>7a22917744aa9ed740faf3068a2f895424ed816ed1a040...</td>\n",
       "      <td>1KgTc9RSE91fS4Cfc48rbkkkGEHhjLhe7V</td>\n",
       "      <td>1854766867623</td>\n",
       "      <td>182tGyiczhXSSCTciVujNRkkMw1zQxUVhp</td>\n",
       "      <td>high</td>\n",
       "    </tr>\n",
       "    <tr>\n",
       "      <th>1</th>\n",
       "      <td>1336739433000</td>\n",
       "      <td>7a22917744aa9ed740faf3068a2f895424ed816ed1a040...</td>\n",
       "      <td>1CMKwkqWVD6BiuHWtrBFTiiCSuSxyyN677</td>\n",
       "      <td>1854766867623</td>\n",
       "      <td>182tGyiczhXSSCTciVujNRkkMw1zQxUVhp</td>\n",
       "      <td>high</td>\n",
       "    </tr>\n",
       "    <tr>\n",
       "      <th>2</th>\n",
       "      <td>1336739433000</td>\n",
       "      <td>7a22917744aa9ed740faf3068a2f895424ed816ed1a040...</td>\n",
       "      <td>1KsssDbhj8sW5rvcQ6NHiNoxU2wmSVUrQT</td>\n",
       "      <td>1854766867623</td>\n",
       "      <td>182tGyiczhXSSCTciVujNRkkMw1zQxUVhp</td>\n",
       "      <td>high</td>\n",
       "    </tr>\n",
       "    <tr>\n",
       "      <th>3</th>\n",
       "      <td>1336739433000</td>\n",
       "      <td>7a22917744aa9ed740faf3068a2f895424ed816ed1a040...</td>\n",
       "      <td>1Fs1ixzNdPDqLcvsNieUtxd6nX5mZ67SR3</td>\n",
       "      <td>1854766867623</td>\n",
       "      <td>182tGyiczhXSSCTciVujNRkkMw1zQxUVhp</td>\n",
       "      <td>high</td>\n",
       "    </tr>\n",
       "    <tr>\n",
       "      <th>4</th>\n",
       "      <td>1336739433000</td>\n",
       "      <td>7a22917744aa9ed740faf3068a2f895424ed816ed1a040...</td>\n",
       "      <td>1PqfGjpgZpdd4gbbGUsUWPJkVaVqoSLizY</td>\n",
       "      <td>1854766867623</td>\n",
       "      <td>182tGyiczhXSSCTciVujNRkkMw1zQxUVhp</td>\n",
       "      <td>high</td>\n",
       "    </tr>\n",
       "  </tbody>\n",
       "</table>\n",
       "</div>"
      ],
      "text/plain": [
       "       timestamp                                     transaction_id  \\\n",
       "0  1336739433000  7a22917744aa9ed740faf3068a2f895424ed816ed1a040...   \n",
       "1  1336739433000  7a22917744aa9ed740faf3068a2f895424ed816ed1a040...   \n",
       "2  1336739433000  7a22917744aa9ed740faf3068a2f895424ed816ed1a040...   \n",
       "3  1336739433000  7a22917744aa9ed740faf3068a2f895424ed816ed1a040...   \n",
       "4  1336739433000  7a22917744aa9ed740faf3068a2f895424ed816ed1a040...   \n",
       "\n",
       "                         input_pubkey       satoshis  \\\n",
       "0  1KgTc9RSE91fS4Cfc48rbkkkGEHhjLhe7V  1854766867623   \n",
       "1  1CMKwkqWVD6BiuHWtrBFTiiCSuSxyyN677  1854766867623   \n",
       "2  1KsssDbhj8sW5rvcQ6NHiNoxU2wmSVUrQT  1854766867623   \n",
       "3  1Fs1ixzNdPDqLcvsNieUtxd6nX5mZ67SR3  1854766867623   \n",
       "4  1PqfGjpgZpdd4gbbGUsUWPJkVaVqoSLizY  1854766867623   \n",
       "\n",
       "                        output_pubkey  risk  \n",
       "0  182tGyiczhXSSCTciVujNRkkMw1zQxUVhp  high  \n",
       "1  182tGyiczhXSSCTciVujNRkkMw1zQxUVhp  high  \n",
       "2  182tGyiczhXSSCTciVujNRkkMw1zQxUVhp  high  \n",
       "3  182tGyiczhXSSCTciVujNRkkMw1zQxUVhp  high  \n",
       "4  182tGyiczhXSSCTciVujNRkkMw1zQxUVhp  high  "
      ]
     },
     "execution_count": 56,
     "metadata": {},
     "output_type": "execute_result"
    }
   ],
   "source": [
    "bitcoinica_hack.head()"
   ]
  },
  {
   "cell_type": "code",
   "execution_count": 27,
   "metadata": {},
   "outputs": [],
   "source": [
    "# bitcoinica_hack_inpub_list = bitcoinica_hack['bitcoinica_hack_input_pubkey'].unique\n"
   ]
  },
  {
   "cell_type": "code",
   "execution_count": 108,
   "metadata": {},
   "outputs": [],
   "source": [
    "## Get transaction table form BigQuery \n",
    "transaction = gbq.read_gbq('SELECT timestamp, transaction_id, inputs.input_pubkey_base58, outputs.output_satoshis, outputs.output_pubkey_base58 FROM (FLATTEN(DB.transactions_all, outputs.output_satoshis)) WHERE timestamp BETWEEN 1388534400000 and 1514764799000 LIMIT 1250000', projectid)\n",
    "# gbq.to_gbq(transaction, 'DB.Transactions', projectid, if_exists='replace')\n",
    "\n"
   ]
  },
  {
   "cell_type": "code",
   "execution_count": 93,
   "metadata": {},
   "outputs": [
    {
     "data": {
      "text/plain": [
       "timestamp                       4570156\n",
       "transaction_id                  4570156\n",
       "inputs_input_pubkey_base58      3937315\n",
       "outputs_output_satoshis         4570156\n",
       "outputs_output_pubkey_base58    4532291\n",
       "dtype: int64"
      ]
     },
     "execution_count": 93,
     "metadata": {},
     "output_type": "execute_result"
    }
   ],
   "source": [
    "transaction.count()"
   ]
  },
  {
   "cell_type": "code",
   "execution_count": 110,
   "metadata": {},
   "outputs": [
    {
     "data": {
      "text/html": [
       "<div>\n",
       "<style scoped>\n",
       "    .dataframe tbody tr th:only-of-type {\n",
       "        vertical-align: middle;\n",
       "    }\n",
       "\n",
       "    .dataframe tbody tr th {\n",
       "        vertical-align: top;\n",
       "    }\n",
       "\n",
       "    .dataframe thead th {\n",
       "        text-align: right;\n",
       "    }\n",
       "</style>\n",
       "<table border=\"1\" class=\"dataframe\">\n",
       "  <thead>\n",
       "    <tr style=\"text-align: right;\">\n",
       "      <th></th>\n",
       "      <th>timestamp</th>\n",
       "      <th>transaction_id</th>\n",
       "      <th>inputs_input_pubkey_base58</th>\n",
       "      <th>outputs_output_satoshis</th>\n",
       "      <th>outputs_output_pubkey_base58</th>\n",
       "      <th>risk</th>\n",
       "    </tr>\n",
       "  </thead>\n",
       "  <tbody>\n",
       "    <tr>\n",
       "      <th>0</th>\n",
       "      <td>1416201207000</td>\n",
       "      <td>bbc288593aeda0f05b168866fda9a3e49247606023adcc...</td>\n",
       "      <td>14JE4yVMGq4pwAb4k2QKdGKo8mjo75hWgG</td>\n",
       "      <td>1281422340</td>\n",
       "      <td>115rpX7VgS8ZQ92FAfLTqWh7VPvnFjX5W2</td>\n",
       "      <td>high</td>\n",
       "    </tr>\n",
       "    <tr>\n",
       "      <th>1</th>\n",
       "      <td>1416201207000</td>\n",
       "      <td>bbc288593aeda0f05b168866fda9a3e49247606023adcc...</td>\n",
       "      <td>14JE4yVMGq4pwAb4k2QKdGKo8mjo75hWgG</td>\n",
       "      <td>66088</td>\n",
       "      <td>1FZSudc5nKym1NVyqjadhbRyUSbp7YqFMM</td>\n",
       "      <td>low</td>\n",
       "    </tr>\n",
       "    <tr>\n",
       "      <th>2</th>\n",
       "      <td>1415976676000</td>\n",
       "      <td>084cf258db2814b34eb9cf3ffb9ab5788b5bb297a21753...</td>\n",
       "      <td>1HqKBGuXcEQr2C9NXbiM7ZdF7EFtHMLQD2</td>\n",
       "      <td>8022220904</td>\n",
       "      <td>1Do3NWv8TkZVsCmnex8puuymJMVTUFUpef</td>\n",
       "      <td>high</td>\n",
       "    </tr>\n",
       "    <tr>\n",
       "      <th>3</th>\n",
       "      <td>1415976676000</td>\n",
       "      <td>084cf258db2814b34eb9cf3ffb9ab5788b5bb297a21753...</td>\n",
       "      <td>1HqKBGuXcEQr2C9NXbiM7ZdF7EFtHMLQD2</td>\n",
       "      <td>40000</td>\n",
       "      <td>14Z6TmPGkmogxsJ9gP65g866Vv19UgsSvy</td>\n",
       "      <td>low</td>\n",
       "    </tr>\n",
       "    <tr>\n",
       "      <th>4</th>\n",
       "      <td>1415317375000</td>\n",
       "      <td>59ed5fc9ff157c030423a5216bc1f11a00a418514a6a60...</td>\n",
       "      <td>1LuckyR1fFHEsXYyx5QK4UFzv3PEAepPMK</td>\n",
       "      <td>240000</td>\n",
       "      <td>1NxaBCFQwejSZbQfWcYNwgqML5wWoE3rK4</td>\n",
       "      <td>low</td>\n",
       "    </tr>\n",
       "  </tbody>\n",
       "</table>\n",
       "</div>"
      ],
      "text/plain": [
       "       timestamp                                     transaction_id  \\\n",
       "0  1416201207000  bbc288593aeda0f05b168866fda9a3e49247606023adcc...   \n",
       "1  1416201207000  bbc288593aeda0f05b168866fda9a3e49247606023adcc...   \n",
       "2  1415976676000  084cf258db2814b34eb9cf3ffb9ab5788b5bb297a21753...   \n",
       "3  1415976676000  084cf258db2814b34eb9cf3ffb9ab5788b5bb297a21753...   \n",
       "4  1415317375000  59ed5fc9ff157c030423a5216bc1f11a00a418514a6a60...   \n",
       "\n",
       "           inputs_input_pubkey_base58  outputs_output_satoshis  \\\n",
       "0  14JE4yVMGq4pwAb4k2QKdGKo8mjo75hWgG               1281422340   \n",
       "1  14JE4yVMGq4pwAb4k2QKdGKo8mjo75hWgG                    66088   \n",
       "2  1HqKBGuXcEQr2C9NXbiM7ZdF7EFtHMLQD2               8022220904   \n",
       "3  1HqKBGuXcEQr2C9NXbiM7ZdF7EFtHMLQD2                    40000   \n",
       "4  1LuckyR1fFHEsXYyx5QK4UFzv3PEAepPMK                   240000   \n",
       "\n",
       "         outputs_output_pubkey_base58  risk  \n",
       "0  115rpX7VgS8ZQ92FAfLTqWh7VPvnFjX5W2  high  \n",
       "1  1FZSudc5nKym1NVyqjadhbRyUSbp7YqFMM   low  \n",
       "2  1Do3NWv8TkZVsCmnex8puuymJMVTUFUpef  high  \n",
       "3  14Z6TmPGkmogxsJ9gP65g866Vv19UgsSvy   low  \n",
       "4  1NxaBCFQwejSZbQfWcYNwgqML5wWoE3rK4   low  "
      ]
     },
     "execution_count": 110,
     "metadata": {},
     "output_type": "execute_result"
    }
   ],
   "source": [
    "transaction.head()"
   ]
  },
  {
   "cell_type": "markdown",
   "metadata": {},
   "source": [
    "Sample the data "
   ]
  },
  {
   "cell_type": "code",
   "execution_count": 95,
   "metadata": {},
   "outputs": [],
   "source": [
    "trans = transaction.sample(1000000)"
   ]
  },
  {
   "cell_type": "code",
   "execution_count": 28,
   "metadata": {},
   "outputs": [],
   "source": [
    "trans = pd.read_csv(\"Trans_sampled.csv\")"
   ]
  },
  {
   "cell_type": "code",
   "execution_count": 96,
   "metadata": {},
   "outputs": [
    {
     "data": {
      "text/plain": [
       "timestamp                       1000000\n",
       "transaction_id                  1000000\n",
       "inputs_input_pubkey_base58       861799\n",
       "outputs_output_satoshis         1000000\n",
       "outputs_output_pubkey_base58     991698\n",
       "dtype: int64"
      ]
     },
     "execution_count": 96,
     "metadata": {},
     "output_type": "execute_result"
    }
   ],
   "source": [
    "trans.count()"
   ]
  },
  {
   "cell_type": "code",
   "execution_count": 30,
   "metadata": {},
   "outputs": [],
   "source": [
    "trans['risk'] = ''"
   ]
  },
  {
   "cell_type": "code",
   "execution_count": 34,
   "metadata": {},
   "outputs": [
    {
     "data": {
      "text/html": [
       "<div>\n",
       "<style scoped>\n",
       "    .dataframe tbody tr th:only-of-type {\n",
       "        vertical-align: middle;\n",
       "    }\n",
       "\n",
       "    .dataframe tbody tr th {\n",
       "        vertical-align: top;\n",
       "    }\n",
       "\n",
       "    .dataframe thead th {\n",
       "        text-align: right;\n",
       "    }\n",
       "</style>\n",
       "<table border=\"1\" class=\"dataframe\">\n",
       "  <thead>\n",
       "    <tr style=\"text-align: right;\">\n",
       "      <th></th>\n",
       "      <th>timestamp</th>\n",
       "      <th>transaction_id</th>\n",
       "      <th>input_pubkey</th>\n",
       "      <th>satoshis</th>\n",
       "      <th>output_pubkey</th>\n",
       "      <th>risk</th>\n",
       "    </tr>\n",
       "  </thead>\n",
       "  <tbody>\n",
       "    <tr>\n",
       "      <th>0</th>\n",
       "      <td>1454622682000</td>\n",
       "      <td>7924596930a0fc18247cf08ee9cf3d4dfa8b839050f3fb...</td>\n",
       "      <td>17m5KxzT5ypkUSY68DHGjzfvYcQsfKWmxY</td>\n",
       "      <td>85000</td>\n",
       "      <td>135zDqhbNcmPk3gbyeJmH75yiLdVZechsK</td>\n",
       "      <td></td>\n",
       "    </tr>\n",
       "    <tr>\n",
       "      <th>1</th>\n",
       "      <td>1508292791000</td>\n",
       "      <td>e7382000d1651be0788926151c9638f3811eec702fcaf7...</td>\n",
       "      <td>1J37CY8hcdUXQ1KfBhMCsUVafa8XjDsdCn</td>\n",
       "      <td>2554569711</td>\n",
       "      <td>1J37CY8hcdUXQ1KfBhMCsUVafa8XjDsdCn</td>\n",
       "      <td></td>\n",
       "    </tr>\n",
       "    <tr>\n",
       "      <th>2</th>\n",
       "      <td>1466508756000</td>\n",
       "      <td>58f4400b2256e518ee3f2faf87bc1e151a0f7a1fa44a75...</td>\n",
       "      <td>NaN</td>\n",
       "      <td>1178910381</td>\n",
       "      <td>3M9Du3hTieNnE25tjpZaK5XgpuBxYieMHC</td>\n",
       "      <td></td>\n",
       "    </tr>\n",
       "    <tr>\n",
       "      <th>3</th>\n",
       "      <td>1411046836000</td>\n",
       "      <td>bd39e3d7d1f5b23c7f881bf5ba05d636de3c5a7c20e287...</td>\n",
       "      <td>1417UB82UpzZAawfe2RNWkvfiZ24RDoFCj</td>\n",
       "      <td>43085024</td>\n",
       "      <td>1NaZM3q7cURUrr4zrZwWomDNvz28JPk9We</td>\n",
       "      <td></td>\n",
       "    </tr>\n",
       "    <tr>\n",
       "      <th>4</th>\n",
       "      <td>1454474864000</td>\n",
       "      <td>6759e1c98419ed10963ce8f591377d53092137d268314e...</td>\n",
       "      <td>NaN</td>\n",
       "      <td>18175000</td>\n",
       "      <td>15C7EGQ2cbhzJjtAQibWVwM8xUrABnByiH</td>\n",
       "      <td></td>\n",
       "    </tr>\n",
       "  </tbody>\n",
       "</table>\n",
       "</div>"
      ],
      "text/plain": [
       "       timestamp                                     transaction_id  \\\n",
       "0  1454622682000  7924596930a0fc18247cf08ee9cf3d4dfa8b839050f3fb...   \n",
       "1  1508292791000  e7382000d1651be0788926151c9638f3811eec702fcaf7...   \n",
       "2  1466508756000  58f4400b2256e518ee3f2faf87bc1e151a0f7a1fa44a75...   \n",
       "3  1411046836000  bd39e3d7d1f5b23c7f881bf5ba05d636de3c5a7c20e287...   \n",
       "4  1454474864000  6759e1c98419ed10963ce8f591377d53092137d268314e...   \n",
       "\n",
       "                         input_pubkey    satoshis  \\\n",
       "0  17m5KxzT5ypkUSY68DHGjzfvYcQsfKWmxY       85000   \n",
       "1  1J37CY8hcdUXQ1KfBhMCsUVafa8XjDsdCn  2554569711   \n",
       "2                                 NaN  1178910381   \n",
       "3  1417UB82UpzZAawfe2RNWkvfiZ24RDoFCj    43085024   \n",
       "4                                 NaN    18175000   \n",
       "\n",
       "                        output_pubkey risk  \n",
       "0  135zDqhbNcmPk3gbyeJmH75yiLdVZechsK       \n",
       "1  1J37CY8hcdUXQ1KfBhMCsUVafa8XjDsdCn       \n",
       "2  3M9Du3hTieNnE25tjpZaK5XgpuBxYieMHC       \n",
       "3  1NaZM3q7cURUrr4zrZwWomDNvz28JPk9We       \n",
       "4  15C7EGQ2cbhzJjtAQibWVwM8xUrABnByiH       "
      ]
     },
     "execution_count": 34,
     "metadata": {},
     "output_type": "execute_result"
    }
   ],
   "source": [
    "trans.head()"
   ]
  },
  {
   "cell_type": "code",
   "execution_count": 32,
   "metadata": {},
   "outputs": [],
   "source": [
    "trans = trans.rename(columns={'Unnamed: 0':'Sample_ID', 'inputs_input_pubkey_base58':'input_pubkey', 'outputs_output_satoshis':'satoshis', \n",
    "                            'outputs_output_pubkey_base58':'output_pubkey'})"
   ]
  },
  {
   "cell_type": "code",
   "execution_count": 33,
   "metadata": {},
   "outputs": [],
   "source": [
    "trans = trans.drop(columns=['Sample_ID'])"
   ]
  },
  {
   "cell_type": "code",
   "execution_count": 3,
   "metadata": {},
   "outputs": [],
   "source": [
    "# trans.to_csv(\"Trans_sampled.csv\")"
   ]
  },
  {
   "cell_type": "code",
   "execution_count": 2,
   "metadata": {},
   "outputs": [],
   "source": [
    "trans = pd.read_csv(\"Trans_sampled.csv\")"
   ]
  },
  {
   "cell_type": "code",
   "execution_count": 59,
   "metadata": {},
   "outputs": [],
   "source": [
    "# dfs = [mt_Gox_Hack, bitcoinica_hack, trans]\n",
    "# df_final = reduce(lambda left,right: pd.concat(left,right), dfs)"
   ]
  },
  {
   "cell_type": "code",
   "execution_count": 61,
   "metadata": {},
   "outputs": [],
   "source": [
    "result = trans.append(mt_Gox_Hack)"
   ]
  },
  {
   "cell_type": "code",
   "execution_count": 62,
   "metadata": {},
   "outputs": [
    {
     "data": {
      "text/html": [
       "<div>\n",
       "<style scoped>\n",
       "    .dataframe tbody tr th:only-of-type {\n",
       "        vertical-align: middle;\n",
       "    }\n",
       "\n",
       "    .dataframe tbody tr th {\n",
       "        vertical-align: top;\n",
       "    }\n",
       "\n",
       "    .dataframe thead th {\n",
       "        text-align: right;\n",
       "    }\n",
       "</style>\n",
       "<table border=\"1\" class=\"dataframe\">\n",
       "  <thead>\n",
       "    <tr style=\"text-align: right;\">\n",
       "      <th></th>\n",
       "      <th>timestamp</th>\n",
       "      <th>transaction_id</th>\n",
       "      <th>input_pubkey</th>\n",
       "      <th>satoshis</th>\n",
       "      <th>output_pubkey</th>\n",
       "      <th>risk</th>\n",
       "    </tr>\n",
       "  </thead>\n",
       "  <tbody>\n",
       "    <tr>\n",
       "      <th>0</th>\n",
       "      <td>1454622682000</td>\n",
       "      <td>7924596930a0fc18247cf08ee9cf3d4dfa8b839050f3fb...</td>\n",
       "      <td>17m5KxzT5ypkUSY68DHGjzfvYcQsfKWmxY</td>\n",
       "      <td>85000</td>\n",
       "      <td>135zDqhbNcmPk3gbyeJmH75yiLdVZechsK</td>\n",
       "      <td></td>\n",
       "    </tr>\n",
       "    <tr>\n",
       "      <th>1</th>\n",
       "      <td>1508292791000</td>\n",
       "      <td>e7382000d1651be0788926151c9638f3811eec702fcaf7...</td>\n",
       "      <td>1J37CY8hcdUXQ1KfBhMCsUVafa8XjDsdCn</td>\n",
       "      <td>2554569711</td>\n",
       "      <td>1J37CY8hcdUXQ1KfBhMCsUVafa8XjDsdCn</td>\n",
       "      <td></td>\n",
       "    </tr>\n",
       "    <tr>\n",
       "      <th>2</th>\n",
       "      <td>1466508756000</td>\n",
       "      <td>58f4400b2256e518ee3f2faf87bc1e151a0f7a1fa44a75...</td>\n",
       "      <td>NaN</td>\n",
       "      <td>1178910381</td>\n",
       "      <td>3M9Du3hTieNnE25tjpZaK5XgpuBxYieMHC</td>\n",
       "      <td></td>\n",
       "    </tr>\n",
       "    <tr>\n",
       "      <th>3</th>\n",
       "      <td>1411046836000</td>\n",
       "      <td>bd39e3d7d1f5b23c7f881bf5ba05d636de3c5a7c20e287...</td>\n",
       "      <td>1417UB82UpzZAawfe2RNWkvfiZ24RDoFCj</td>\n",
       "      <td>43085024</td>\n",
       "      <td>1NaZM3q7cURUrr4zrZwWomDNvz28JPk9We</td>\n",
       "      <td></td>\n",
       "    </tr>\n",
       "    <tr>\n",
       "      <th>4</th>\n",
       "      <td>1454474864000</td>\n",
       "      <td>6759e1c98419ed10963ce8f591377d53092137d268314e...</td>\n",
       "      <td>NaN</td>\n",
       "      <td>18175000</td>\n",
       "      <td>15C7EGQ2cbhzJjtAQibWVwM8xUrABnByiH</td>\n",
       "      <td></td>\n",
       "    </tr>\n",
       "  </tbody>\n",
       "</table>\n",
       "</div>"
      ],
      "text/plain": [
       "       timestamp                                     transaction_id  \\\n",
       "0  1454622682000  7924596930a0fc18247cf08ee9cf3d4dfa8b839050f3fb...   \n",
       "1  1508292791000  e7382000d1651be0788926151c9638f3811eec702fcaf7...   \n",
       "2  1466508756000  58f4400b2256e518ee3f2faf87bc1e151a0f7a1fa44a75...   \n",
       "3  1411046836000  bd39e3d7d1f5b23c7f881bf5ba05d636de3c5a7c20e287...   \n",
       "4  1454474864000  6759e1c98419ed10963ce8f591377d53092137d268314e...   \n",
       "\n",
       "                         input_pubkey    satoshis  \\\n",
       "0  17m5KxzT5ypkUSY68DHGjzfvYcQsfKWmxY       85000   \n",
       "1  1J37CY8hcdUXQ1KfBhMCsUVafa8XjDsdCn  2554569711   \n",
       "2                                 NaN  1178910381   \n",
       "3  1417UB82UpzZAawfe2RNWkvfiZ24RDoFCj    43085024   \n",
       "4                                 NaN    18175000   \n",
       "\n",
       "                        output_pubkey risk  \n",
       "0  135zDqhbNcmPk3gbyeJmH75yiLdVZechsK       \n",
       "1  1J37CY8hcdUXQ1KfBhMCsUVafa8XjDsdCn       \n",
       "2  3M9Du3hTieNnE25tjpZaK5XgpuBxYieMHC       \n",
       "3  1NaZM3q7cURUrr4zrZwWomDNvz28JPk9We       \n",
       "4  15C7EGQ2cbhzJjtAQibWVwM8xUrABnByiH       "
      ]
     },
     "execution_count": 62,
     "metadata": {},
     "output_type": "execute_result"
    }
   ],
   "source": [
    "result.head()"
   ]
  },
  {
   "cell_type": "code",
   "execution_count": 63,
   "metadata": {},
   "outputs": [
    {
     "data": {
      "text/html": [
       "<div>\n",
       "<style scoped>\n",
       "    .dataframe tbody tr th:only-of-type {\n",
       "        vertical-align: middle;\n",
       "    }\n",
       "\n",
       "    .dataframe tbody tr th {\n",
       "        vertical-align: top;\n",
       "    }\n",
       "\n",
       "    .dataframe thead th {\n",
       "        text-align: right;\n",
       "    }\n",
       "</style>\n",
       "<table border=\"1\" class=\"dataframe\">\n",
       "  <thead>\n",
       "    <tr style=\"text-align: right;\">\n",
       "      <th></th>\n",
       "      <th>timestamp</th>\n",
       "      <th>transaction_id</th>\n",
       "      <th>input_pubkey</th>\n",
       "      <th>satoshis</th>\n",
       "      <th>output_pubkey</th>\n",
       "    </tr>\n",
       "    <tr>\n",
       "      <th>risk</th>\n",
       "      <th></th>\n",
       "      <th></th>\n",
       "      <th></th>\n",
       "      <th></th>\n",
       "      <th></th>\n",
       "    </tr>\n",
       "  </thead>\n",
       "  <tbody>\n",
       "    <tr>\n",
       "      <th></th>\n",
       "      <td>1000000</td>\n",
       "      <td>1000000</td>\n",
       "      <td>861366</td>\n",
       "      <td>1000000</td>\n",
       "      <td>991698</td>\n",
       "    </tr>\n",
       "    <tr>\n",
       "      <th>high</th>\n",
       "      <td>41211</td>\n",
       "      <td>41211</td>\n",
       "      <td>41211</td>\n",
       "      <td>41211</td>\n",
       "      <td>41211</td>\n",
       "    </tr>\n",
       "  </tbody>\n",
       "</table>\n",
       "</div>"
      ],
      "text/plain": [
       "      timestamp  transaction_id  input_pubkey  satoshis  output_pubkey\n",
       "risk                                                                  \n",
       "        1000000         1000000        861366   1000000         991698\n",
       "high      41211           41211         41211     41211          41211"
      ]
     },
     "execution_count": 63,
     "metadata": {},
     "output_type": "execute_result"
    }
   ],
   "source": [
    "result.groupby('risk').count()"
   ]
  },
  {
   "cell_type": "code",
   "execution_count": 64,
   "metadata": {},
   "outputs": [],
   "source": [
    "result2 = result.append(bitcoinica_hack)"
   ]
  },
  {
   "cell_type": "code",
   "execution_count": 65,
   "metadata": {},
   "outputs": [
    {
     "data": {
      "text/html": [
       "<div>\n",
       "<style scoped>\n",
       "    .dataframe tbody tr th:only-of-type {\n",
       "        vertical-align: middle;\n",
       "    }\n",
       "\n",
       "    .dataframe tbody tr th {\n",
       "        vertical-align: top;\n",
       "    }\n",
       "\n",
       "    .dataframe thead th {\n",
       "        text-align: right;\n",
       "    }\n",
       "</style>\n",
       "<table border=\"1\" class=\"dataframe\">\n",
       "  <thead>\n",
       "    <tr style=\"text-align: right;\">\n",
       "      <th></th>\n",
       "      <th>timestamp</th>\n",
       "      <th>transaction_id</th>\n",
       "      <th>input_pubkey</th>\n",
       "      <th>satoshis</th>\n",
       "      <th>output_pubkey</th>\n",
       "      <th>risk</th>\n",
       "    </tr>\n",
       "  </thead>\n",
       "  <tbody>\n",
       "    <tr>\n",
       "      <th>0</th>\n",
       "      <td>1454622682000</td>\n",
       "      <td>7924596930a0fc18247cf08ee9cf3d4dfa8b839050f3fb...</td>\n",
       "      <td>17m5KxzT5ypkUSY68DHGjzfvYcQsfKWmxY</td>\n",
       "      <td>85000</td>\n",
       "      <td>135zDqhbNcmPk3gbyeJmH75yiLdVZechsK</td>\n",
       "      <td></td>\n",
       "    </tr>\n",
       "    <tr>\n",
       "      <th>1</th>\n",
       "      <td>1508292791000</td>\n",
       "      <td>e7382000d1651be0788926151c9638f3811eec702fcaf7...</td>\n",
       "      <td>1J37CY8hcdUXQ1KfBhMCsUVafa8XjDsdCn</td>\n",
       "      <td>2554569711</td>\n",
       "      <td>1J37CY8hcdUXQ1KfBhMCsUVafa8XjDsdCn</td>\n",
       "      <td></td>\n",
       "    </tr>\n",
       "    <tr>\n",
       "      <th>2</th>\n",
       "      <td>1466508756000</td>\n",
       "      <td>58f4400b2256e518ee3f2faf87bc1e151a0f7a1fa44a75...</td>\n",
       "      <td>NaN</td>\n",
       "      <td>1178910381</td>\n",
       "      <td>3M9Du3hTieNnE25tjpZaK5XgpuBxYieMHC</td>\n",
       "      <td></td>\n",
       "    </tr>\n",
       "    <tr>\n",
       "      <th>3</th>\n",
       "      <td>1411046836000</td>\n",
       "      <td>bd39e3d7d1f5b23c7f881bf5ba05d636de3c5a7c20e287...</td>\n",
       "      <td>1417UB82UpzZAawfe2RNWkvfiZ24RDoFCj</td>\n",
       "      <td>43085024</td>\n",
       "      <td>1NaZM3q7cURUrr4zrZwWomDNvz28JPk9We</td>\n",
       "      <td></td>\n",
       "    </tr>\n",
       "    <tr>\n",
       "      <th>4</th>\n",
       "      <td>1454474864000</td>\n",
       "      <td>6759e1c98419ed10963ce8f591377d53092137d268314e...</td>\n",
       "      <td>NaN</td>\n",
       "      <td>18175000</td>\n",
       "      <td>15C7EGQ2cbhzJjtAQibWVwM8xUrABnByiH</td>\n",
       "      <td></td>\n",
       "    </tr>\n",
       "  </tbody>\n",
       "</table>\n",
       "</div>"
      ],
      "text/plain": [
       "       timestamp                                     transaction_id  \\\n",
       "0  1454622682000  7924596930a0fc18247cf08ee9cf3d4dfa8b839050f3fb...   \n",
       "1  1508292791000  e7382000d1651be0788926151c9638f3811eec702fcaf7...   \n",
       "2  1466508756000  58f4400b2256e518ee3f2faf87bc1e151a0f7a1fa44a75...   \n",
       "3  1411046836000  bd39e3d7d1f5b23c7f881bf5ba05d636de3c5a7c20e287...   \n",
       "4  1454474864000  6759e1c98419ed10963ce8f591377d53092137d268314e...   \n",
       "\n",
       "                         input_pubkey    satoshis  \\\n",
       "0  17m5KxzT5ypkUSY68DHGjzfvYcQsfKWmxY       85000   \n",
       "1  1J37CY8hcdUXQ1KfBhMCsUVafa8XjDsdCn  2554569711   \n",
       "2                                 NaN  1178910381   \n",
       "3  1417UB82UpzZAawfe2RNWkvfiZ24RDoFCj    43085024   \n",
       "4                                 NaN    18175000   \n",
       "\n",
       "                        output_pubkey risk  \n",
       "0  135zDqhbNcmPk3gbyeJmH75yiLdVZechsK       \n",
       "1  1J37CY8hcdUXQ1KfBhMCsUVafa8XjDsdCn       \n",
       "2  3M9Du3hTieNnE25tjpZaK5XgpuBxYieMHC       \n",
       "3  1NaZM3q7cURUrr4zrZwWomDNvz28JPk9We       \n",
       "4  15C7EGQ2cbhzJjtAQibWVwM8xUrABnByiH       "
      ]
     },
     "execution_count": 65,
     "metadata": {},
     "output_type": "execute_result"
    }
   ],
   "source": [
    "result2.head()"
   ]
  },
  {
   "cell_type": "code",
   "execution_count": 67,
   "metadata": {},
   "outputs": [
    {
     "data": {
      "text/html": [
       "<div>\n",
       "<style scoped>\n",
       "    .dataframe tbody tr th:only-of-type {\n",
       "        vertical-align: middle;\n",
       "    }\n",
       "\n",
       "    .dataframe tbody tr th {\n",
       "        vertical-align: top;\n",
       "    }\n",
       "\n",
       "    .dataframe thead th {\n",
       "        text-align: right;\n",
       "    }\n",
       "</style>\n",
       "<table border=\"1\" class=\"dataframe\">\n",
       "  <thead>\n",
       "    <tr style=\"text-align: right;\">\n",
       "      <th></th>\n",
       "      <th>timestamp</th>\n",
       "      <th>transaction_id</th>\n",
       "      <th>input_pubkey</th>\n",
       "      <th>satoshis</th>\n",
       "      <th>output_pubkey</th>\n",
       "    </tr>\n",
       "    <tr>\n",
       "      <th>risk</th>\n",
       "      <th></th>\n",
       "      <th></th>\n",
       "      <th></th>\n",
       "      <th></th>\n",
       "      <th></th>\n",
       "    </tr>\n",
       "  </thead>\n",
       "  <tbody>\n",
       "    <tr>\n",
       "      <th></th>\n",
       "      <td>1000000</td>\n",
       "      <td>1000000</td>\n",
       "      <td>861366</td>\n",
       "      <td>1000000</td>\n",
       "      <td>991698</td>\n",
       "    </tr>\n",
       "    <tr>\n",
       "      <th>high</th>\n",
       "      <td>41241</td>\n",
       "      <td>41241</td>\n",
       "      <td>41241</td>\n",
       "      <td>41241</td>\n",
       "      <td>41241</td>\n",
       "    </tr>\n",
       "  </tbody>\n",
       "</table>\n",
       "</div>"
      ],
      "text/plain": [
       "      timestamp  transaction_id  input_pubkey  satoshis  output_pubkey\n",
       "risk                                                                  \n",
       "        1000000         1000000        861366   1000000         991698\n",
       "high      41241           41241         41241     41241          41241"
      ]
     },
     "execution_count": 67,
     "metadata": {},
     "output_type": "execute_result"
    }
   ],
   "source": [
    "result2.groupby('risk').count()"
   ]
  },
  {
   "cell_type": "code",
   "execution_count": null,
   "metadata": {},
   "outputs": [],
   "source": [
    "trans_list = ['7a22917744aa9ed740faf3068a2f895424ed816ed1a040', ]"
   ]
  },
  {
   "cell_type": "code",
   "execution_count": 121,
   "metadata": {},
   "outputs": [],
   "source": [
    "## Both Mt. Gox and Bitcoinica\n",
    "inpub_list = ['1LNWw6yCxkUmkhArb2Nf2MPw6vG7u5WG7q', '1CMKwkqWVD6BiuHWtrBFTiiCSuSxyyN677', '1KsssDbhj8sW5rvcQ6NHiNoxU2wmSVUrQT',\n",
    "              '1PqfGjpgZpdd4gbbGUsUWPJkVaVqoSLizY', '1PMCKJc5dy5qiXEjCLE7rNN38F117txf8D', '1Fy7piz4aEJBNLUZKUfA6fDQuYyavbod7m',\n",
    "              '1FnkfHqrBVWVSRxqkKW72frCTujmo2tt9R', '1A62DnxpWARroVYXM7X7huZe7kysMug3mM', '12t1Dp1Cat6z7cnMGP5oGE1LsxD8wNJZTE', \n",
    "              '15EKqUPkSb6DfoMmKgatMskiAkwCdh8n7b', '1KuNvyWFqc5wBSWUCyJLDgv12vequwMMCS', '1A62DnxpWARroVYXM7X7huZe7kysMug3mM', \n",
    "              '1KxFvsetNsiPP6oKcHAe3D29Wq2R2Kzfxu', '1DMcPxrjDxQ7DpnPhNVnx2Pgs8jiwk7EiX', '1JRvN52epYmWdk3bZXE3sZxgVeTo5qN3LS',\n",
    "              '1HPnh4o5pmmK1784TjtPyVTFj3mhyiBajn', '16ighKEKdAPqPDhw3r8KfmjhQWVHSBzBeU', '19WsmzLuZW25WtvGLmhzVjCcRDf4KAmjYz', \n",
    "              '1kvhbNMVbwEV1dPhh5QKfPdf8Z5DoW7zc', '16ywQheQqeGMjjBeREPQ5motMQZfHghDKi', '142xFX8VJNmdkPTvMrff4rRG5d11NHEAA8',\n",
    "              '1KuNvyWFqc5wBSWUCyJLDgv12vequwMMCS', '16Htoo4s3jMmRFzCqU32HtQhpWJnF7FJ21', '1JfAAbfKAK6nNVNr9bdRuMwzM7ojuBS6gh',\n",
    "              '18MsaLYNa5a6Un5qauip1EChxQ4ibrNBhj', '1vgTYAxdF1DaKXUP1SAAe4QmJ95MJh5HG', '1EdgCDGYBn4twN1doYzQ9bUozBsuCJFY93',\n",
    "              '1kvhbNMVbwEV1dPhh5QKfPdf8Z5DoW7zc', '18RoAhyH8FsFWXCF54owJzReKch5MAMHsg', '1KgTc9RSE91fS4Cfc48rbkkkGEHhjLhe7V',\n",
    "              '1KgTc9RSE91fS4Cfc48rbkkkGEHhjLhe7V']"
   ]
  },
  {
   "cell_type": "code",
   "execution_count": 124,
   "metadata": {},
   "outputs": [],
   "source": [
    "inpub_list = abs(hash(inpub_list))"
   ]
  },
  {
   "cell_type": "code",
   "execution_count": null,
   "metadata": {},
   "outputs": [],
   "source": []
  },
  {
   "cell_type": "code",
   "execution_count": null,
   "metadata": {},
   "outputs": [],
   "source": [
    "trans['hack'] = np.where(trans['input_pubkey'] == 610780436, 'low', 'high')"
   ]
  },
  {
   "cell_type": "code",
   "execution_count": null,
   "metadata": {},
   "outputs": [],
   "source": []
  },
  {
   "cell_type": "markdown",
   "metadata": {},
   "source": [
    "Now we, flag each of the transactions in the training set with high/low risk"
   ]
  },
  {
   "cell_type": "code",
   "execution_count": 5,
   "metadata": {},
   "outputs": [],
   "source": [
    "## The average transaction is worth 0.92 BTC, which is equal to 92,000,000 satoshis. \n",
    "## Create a variable to hold the average satosshis\n",
    "avg_sat = 610780436\n",
    "trans['risk'] = np.where(trans['satoshis'] <= 610780436, 'low', 'high')"
   ]
  },
  {
   "cell_type": "code",
   "execution_count": 15,
   "metadata": {},
   "outputs": [],
   "source": [
    "# Convert transaction_id to integer\n",
    "for y in trans['transaction_id']:\n",
    "    trans['transaction_id'] = abs(hash(y))"
   ]
  },
  {
   "cell_type": "code",
   "execution_count": 103,
   "metadata": {},
   "outputs": [
    {
     "data": {
      "text/plain": [
       "3253103400149891883"
      ]
     },
     "execution_count": 103,
     "metadata": {},
     "output_type": "execute_result"
    }
   ],
   "source": [
    "n = 'None'\n",
    "abs(hash(n))"
   ]
  },
  {
   "cell_type": "code",
   "execution_count": 102,
   "metadata": {},
   "outputs": [
    {
     "data": {
      "text/plain": [
       "5894463979814294565"
      ]
     },
     "execution_count": 102,
     "metadata": {},
     "output_type": "execute_result"
    }
   ],
   "source": [
    "NaN = 'NaN'\n",
    "abs(hash(NaN))"
   ]
  },
  {
   "cell_type": "code",
   "execution_count": 22,
   "metadata": {},
   "outputs": [],
   "source": [
    "# Convert input_pubkey to integer\n",
    "for w in trans['input_pubkey']:\n",
    "    trans['input_pubkey'] = abs(hash(w))"
   ]
  },
  {
   "cell_type": "code",
   "execution_count": 29,
   "metadata": {},
   "outputs": [],
   "source": [
    "# Convert output_pubkey to integer\n",
    "for z in trans['output_pubkey']:\n",
    "    trans['output_pubkey'] = abs(hash(z))"
   ]
  },
  {
   "cell_type": "code",
   "execution_count": 77,
   "metadata": {},
   "outputs": [],
   "source": [
    "trans.to_csv(\"trans_flagged.csv\")"
   ]
  },
  {
   "cell_type": "code",
   "execution_count": 3,
   "metadata": {},
   "outputs": [],
   "source": [
    "trans = pd.read_csv(\"trans_flagged.csv\")"
   ]
  },
  {
   "cell_type": "code",
   "execution_count": 5,
   "metadata": {},
   "outputs": [],
   "source": [
    "trans = trans.drop(columns='Unnamed: 0')"
   ]
  },
  {
   "cell_type": "code",
   "execution_count": 6,
   "metadata": {},
   "outputs": [
    {
     "data": {
      "text/html": [
       "<div>\n",
       "<style scoped>\n",
       "    .dataframe tbody tr th:only-of-type {\n",
       "        vertical-align: middle;\n",
       "    }\n",
       "\n",
       "    .dataframe tbody tr th {\n",
       "        vertical-align: top;\n",
       "    }\n",
       "\n",
       "    .dataframe thead th {\n",
       "        text-align: right;\n",
       "    }\n",
       "</style>\n",
       "<table border=\"1\" class=\"dataframe\">\n",
       "  <thead>\n",
       "    <tr style=\"text-align: right;\">\n",
       "      <th></th>\n",
       "      <th>timestamp</th>\n",
       "      <th>transaction_id</th>\n",
       "      <th>input_pubkey</th>\n",
       "      <th>satoshis</th>\n",
       "      <th>output_pubkey</th>\n",
       "      <th>risk</th>\n",
       "    </tr>\n",
       "  </thead>\n",
       "  <tbody>\n",
       "    <tr>\n",
       "      <th>0</th>\n",
       "      <td>1454622682000</td>\n",
       "      <td>1556704086554120743</td>\n",
       "      <td>5610622358866825713</td>\n",
       "      <td>85000</td>\n",
       "      <td>6389026776455554319</td>\n",
       "      <td>low</td>\n",
       "    </tr>\n",
       "    <tr>\n",
       "      <th>1</th>\n",
       "      <td>1508292791000</td>\n",
       "      <td>1556704086554120743</td>\n",
       "      <td>5610622358866825713</td>\n",
       "      <td>2554569711</td>\n",
       "      <td>6389026776455554319</td>\n",
       "      <td>high</td>\n",
       "    </tr>\n",
       "    <tr>\n",
       "      <th>2</th>\n",
       "      <td>1466508756000</td>\n",
       "      <td>1556704086554120743</td>\n",
       "      <td>5610622358866825713</td>\n",
       "      <td>1178910381</td>\n",
       "      <td>6389026776455554319</td>\n",
       "      <td>high</td>\n",
       "    </tr>\n",
       "    <tr>\n",
       "      <th>3</th>\n",
       "      <td>1411046836000</td>\n",
       "      <td>1556704086554120743</td>\n",
       "      <td>5610622358866825713</td>\n",
       "      <td>43085024</td>\n",
       "      <td>6389026776455554319</td>\n",
       "      <td>low</td>\n",
       "    </tr>\n",
       "    <tr>\n",
       "      <th>4</th>\n",
       "      <td>1454474864000</td>\n",
       "      <td>1556704086554120743</td>\n",
       "      <td>5610622358866825713</td>\n",
       "      <td>18175000</td>\n",
       "      <td>6389026776455554319</td>\n",
       "      <td>low</td>\n",
       "    </tr>\n",
       "  </tbody>\n",
       "</table>\n",
       "</div>"
      ],
      "text/plain": [
       "       timestamp       transaction_id         input_pubkey    satoshis  \\\n",
       "0  1454622682000  1556704086554120743  5610622358866825713       85000   \n",
       "1  1508292791000  1556704086554120743  5610622358866825713  2554569711   \n",
       "2  1466508756000  1556704086554120743  5610622358866825713  1178910381   \n",
       "3  1411046836000  1556704086554120743  5610622358866825713    43085024   \n",
       "4  1454474864000  1556704086554120743  5610622358866825713    18175000   \n",
       "\n",
       "         output_pubkey  risk  \n",
       "0  6389026776455554319   low  \n",
       "1  6389026776455554319  high  \n",
       "2  6389026776455554319  high  \n",
       "3  6389026776455554319   low  \n",
       "4  6389026776455554319   low  "
      ]
     },
     "execution_count": 6,
     "metadata": {},
     "output_type": "execute_result"
    }
   ],
   "source": [
    "trans.head()"
   ]
  },
  {
   "cell_type": "code",
   "execution_count": 68,
   "metadata": {},
   "outputs": [
    {
     "data": {
      "text/plain": [
       "610780436.731065"
      ]
     },
     "execution_count": 68,
     "metadata": {},
     "output_type": "execute_result"
    }
   ],
   "source": [
    "trans[\"satoshis\"].mean()"
   ]
  },
  {
   "cell_type": "code",
   "execution_count": 69,
   "metadata": {},
   "outputs": [
    {
     "data": {
      "text/plain": [
       "10209459050.342167"
      ]
     },
     "execution_count": 69,
     "metadata": {},
     "output_type": "execute_result"
    }
   ],
   "source": [
    "trans[\"satoshis\"].std()"
   ]
  },
  {
   "cell_type": "code",
   "execution_count": 76,
   "metadata": {},
   "outputs": [
    {
     "data": {
      "text/html": [
       "<div>\n",
       "<style scoped>\n",
       "    .dataframe tbody tr th:only-of-type {\n",
       "        vertical-align: middle;\n",
       "    }\n",
       "\n",
       "    .dataframe tbody tr th {\n",
       "        vertical-align: top;\n",
       "    }\n",
       "\n",
       "    .dataframe thead th {\n",
       "        text-align: right;\n",
       "    }\n",
       "</style>\n",
       "<table border=\"1\" class=\"dataframe\">\n",
       "  <thead>\n",
       "    <tr style=\"text-align: right;\">\n",
       "      <th></th>\n",
       "      <th>timestamp</th>\n",
       "      <th>transaction_id</th>\n",
       "      <th>input_pubkey</th>\n",
       "      <th>satoshis</th>\n",
       "      <th>output_pubkey</th>\n",
       "    </tr>\n",
       "    <tr>\n",
       "      <th>risk</th>\n",
       "      <th></th>\n",
       "      <th></th>\n",
       "      <th></th>\n",
       "      <th></th>\n",
       "      <th></th>\n",
       "    </tr>\n",
       "  </thead>\n",
       "  <tbody>\n",
       "    <tr>\n",
       "      <th>high</th>\n",
       "      <td>87514</td>\n",
       "      <td>87514</td>\n",
       "      <td>87514</td>\n",
       "      <td>87514</td>\n",
       "      <td>87514</td>\n",
       "    </tr>\n",
       "    <tr>\n",
       "      <th>low</th>\n",
       "      <td>912486</td>\n",
       "      <td>912486</td>\n",
       "      <td>912486</td>\n",
       "      <td>912486</td>\n",
       "      <td>912486</td>\n",
       "    </tr>\n",
       "  </tbody>\n",
       "</table>\n",
       "</div>"
      ],
      "text/plain": [
       "      timestamp  transaction_id  input_pubkey  satoshis  output_pubkey\n",
       "risk                                                                  \n",
       "high      87514           87514         87514     87514          87514\n",
       "low      912486          912486        912486    912486         912486"
      ]
     },
     "execution_count": 76,
     "metadata": {},
     "output_type": "execute_result"
    }
   ],
   "source": [
    "trans.groupby('risk').count()"
   ]
  },
  {
   "cell_type": "code",
   "execution_count": 11,
   "metadata": {},
   "outputs": [],
   "source": [
    "######################################################################################################################"
   ]
  },
  {
   "cell_type": "markdown",
   "metadata": {},
   "source": [
    "# Modeling"
   ]
  },
  {
   "cell_type": "markdown",
   "metadata": {},
   "source": [
    "## Random Forest "
   ]
  },
  {
   "cell_type": "code",
   "execution_count": 52,
   "metadata": {},
   "outputs": [
    {
     "data": {
      "text/html": [
       "<div>\n",
       "<style scoped>\n",
       "    .dataframe tbody tr th:only-of-type {\n",
       "        vertical-align: middle;\n",
       "    }\n",
       "\n",
       "    .dataframe tbody tr th {\n",
       "        vertical-align: top;\n",
       "    }\n",
       "\n",
       "    .dataframe thead th {\n",
       "        text-align: right;\n",
       "    }\n",
       "</style>\n",
       "<table border=\"1\" class=\"dataframe\">\n",
       "  <thead>\n",
       "    <tr style=\"text-align: right;\">\n",
       "      <th></th>\n",
       "      <th>txID</th>\n",
       "      <th>blockID</th>\n",
       "      <th>n_inputs</th>\n",
       "      <th>n_outputs</th>\n",
       "      <th>output_seq</th>\n",
       "      <th>addrID</th>\n",
       "      <th>sum</th>\n",
       "      <th>risk</th>\n",
       "    </tr>\n",
       "  </thead>\n",
       "  <tbody>\n",
       "    <tr>\n",
       "      <th>0</th>\n",
       "      <td>67819649</td>\n",
       "      <td>355201</td>\n",
       "      <td>2</td>\n",
       "      <td>2</td>\n",
       "      <td>0</td>\n",
       "      <td>71517379</td>\n",
       "      <td>6980000</td>\n",
       "      <td>low</td>\n",
       "    </tr>\n",
       "    <tr>\n",
       "      <th>1</th>\n",
       "      <td>67819649</td>\n",
       "      <td>355201</td>\n",
       "      <td>2</td>\n",
       "      <td>2</td>\n",
       "      <td>1</td>\n",
       "      <td>74772360</td>\n",
       "      <td>5820000</td>\n",
       "      <td>low</td>\n",
       "    </tr>\n",
       "    <tr>\n",
       "      <th>2</th>\n",
       "      <td>67820418</td>\n",
       "      <td>355202</td>\n",
       "      <td>9</td>\n",
       "      <td>2</td>\n",
       "      <td>0</td>\n",
       "      <td>74773993</td>\n",
       "      <td>722000000</td>\n",
       "      <td>high</td>\n",
       "    </tr>\n",
       "    <tr>\n",
       "      <th>3</th>\n",
       "      <td>67820418</td>\n",
       "      <td>355202</td>\n",
       "      <td>9</td>\n",
       "      <td>2</td>\n",
       "      <td>1</td>\n",
       "      <td>74773994</td>\n",
       "      <td>743700000</td>\n",
       "      <td>high</td>\n",
       "    </tr>\n",
       "    <tr>\n",
       "      <th>4</th>\n",
       "      <td>67821808</td>\n",
       "      <td>355203</td>\n",
       "      <td>1</td>\n",
       "      <td>2</td>\n",
       "      <td>0</td>\n",
       "      <td>68844506</td>\n",
       "      <td>810000</td>\n",
       "      <td>low</td>\n",
       "    </tr>\n",
       "  </tbody>\n",
       "</table>\n",
       "</div>"
      ],
      "text/plain": [
       "       txID  blockID  n_inputs  n_outputs  output_seq    addrID        sum  \\\n",
       "0  67819649   355201         2          2           0  71517379    6980000   \n",
       "1  67819649   355201         2          2           1  74772360    5820000   \n",
       "2  67820418   355202         9          2           0  74773993  722000000   \n",
       "3  67820418   355202         9          2           1  74773994  743700000   \n",
       "4  67821808   355203         1          2           0  68844506     810000   \n",
       "\n",
       "   risk  \n",
       "0   low  \n",
       "1   low  \n",
       "2  high  \n",
       "3  high  \n",
       "4   low  "
      ]
     },
     "execution_count": 52,
     "metadata": {},
     "output_type": "execute_result"
    }
   ],
   "source": [
    "data.head()"
   ]
  },
  {
   "cell_type": "markdown",
   "metadata": {},
   "source": [
    "Split the data for modleing "
   ]
  },
  {
   "cell_type": "code",
   "execution_count": 54,
   "metadata": {},
   "outputs": [],
   "source": [
    "y = data['risk']"
   ]
  },
  {
   "cell_type": "code",
   "execution_count": 55,
   "metadata": {},
   "outputs": [
    {
     "data": {
      "text/plain": [
       "0     low\n",
       "1     low\n",
       "2    high\n",
       "3    high\n",
       "4     low\n",
       "Name: risk, dtype: object"
      ]
     },
     "execution_count": 55,
     "metadata": {},
     "output_type": "execute_result"
    }
   ],
   "source": [
    "y.head()"
   ]
  },
  {
   "cell_type": "code",
   "execution_count": 91,
   "metadata": {},
   "outputs": [],
   "source": [
    "X = data.drop(['risk', 'output_seq', 'blockID', 'sum'], axis=1)"
   ]
  },
  {
   "cell_type": "code",
   "execution_count": 92,
   "metadata": {},
   "outputs": [
    {
     "data": {
      "text/html": [
       "<div>\n",
       "<style scoped>\n",
       "    .dataframe tbody tr th:only-of-type {\n",
       "        vertical-align: middle;\n",
       "    }\n",
       "\n",
       "    .dataframe tbody tr th {\n",
       "        vertical-align: top;\n",
       "    }\n",
       "\n",
       "    .dataframe thead th {\n",
       "        text-align: right;\n",
       "    }\n",
       "</style>\n",
       "<table border=\"1\" class=\"dataframe\">\n",
       "  <thead>\n",
       "    <tr style=\"text-align: right;\">\n",
       "      <th></th>\n",
       "      <th>txID</th>\n",
       "      <th>n_inputs</th>\n",
       "      <th>n_outputs</th>\n",
       "      <th>addrID</th>\n",
       "    </tr>\n",
       "  </thead>\n",
       "  <tbody>\n",
       "    <tr>\n",
       "      <th>0</th>\n",
       "      <td>67819649</td>\n",
       "      <td>2</td>\n",
       "      <td>2</td>\n",
       "      <td>71517379</td>\n",
       "    </tr>\n",
       "    <tr>\n",
       "      <th>1</th>\n",
       "      <td>67819649</td>\n",
       "      <td>2</td>\n",
       "      <td>2</td>\n",
       "      <td>74772360</td>\n",
       "    </tr>\n",
       "    <tr>\n",
       "      <th>2</th>\n",
       "      <td>67820418</td>\n",
       "      <td>9</td>\n",
       "      <td>2</td>\n",
       "      <td>74773993</td>\n",
       "    </tr>\n",
       "    <tr>\n",
       "      <th>3</th>\n",
       "      <td>67820418</td>\n",
       "      <td>9</td>\n",
       "      <td>2</td>\n",
       "      <td>74773994</td>\n",
       "    </tr>\n",
       "    <tr>\n",
       "      <th>4</th>\n",
       "      <td>67821808</td>\n",
       "      <td>1</td>\n",
       "      <td>2</td>\n",
       "      <td>68844506</td>\n",
       "    </tr>\n",
       "  </tbody>\n",
       "</table>\n",
       "</div>"
      ],
      "text/plain": [
       "       txID  n_inputs  n_outputs    addrID\n",
       "0  67819649         2          2  71517379\n",
       "1  67819649         2          2  74772360\n",
       "2  67820418         9          2  74773993\n",
       "3  67820418         9          2  74773994\n",
       "4  67821808         1          2  68844506"
      ]
     },
     "execution_count": 92,
     "metadata": {},
     "output_type": "execute_result"
    }
   ],
   "source": [
    "X.head()"
   ]
  },
  {
   "cell_type": "code",
   "execution_count": 93,
   "metadata": {},
   "outputs": [],
   "source": [
    "# Split the data for Cross-Validation \n",
    "x_train, x_test, y_train, y_test = train_test_split(X, y, test_size=0.2, random_state=11)"
   ]
  },
  {
   "cell_type": "code",
   "execution_count": 94,
   "metadata": {},
   "outputs": [],
   "source": [
    "# Create an random forest instance \n",
    "rf = RandomForestClassifier(n_estimators=25, random_state=11)"
   ]
  },
  {
   "cell_type": "code",
   "execution_count": 95,
   "metadata": {},
   "outputs": [
    {
     "data": {
      "text/plain": [
       "RandomForestClassifier(bootstrap=True, class_weight=None, criterion='gini',\n",
       "            max_depth=None, max_features='auto', max_leaf_nodes=None,\n",
       "            min_impurity_decrease=0.0, min_impurity_split=None,\n",
       "            min_samples_leaf=1, min_samples_split=2,\n",
       "            min_weight_fraction_leaf=0.0, n_estimators=25, n_jobs=1,\n",
       "            oob_score=False, random_state=11, verbose=0, warm_start=False)"
      ]
     },
     "execution_count": 95,
     "metadata": {},
     "output_type": "execute_result"
    }
   ],
   "source": [
    "rf.fit(x_train,y_train)  # train object"
   ]
  },
  {
   "cell_type": "code",
   "execution_count": 96,
   "metadata": {},
   "outputs": [],
   "source": [
    "y_hat = rf.predict(x_test) # get test set precitions"
   ]
  },
  {
   "cell_type": "code",
   "execution_count": 97,
   "metadata": {},
   "outputs": [],
   "source": [
    "pred = rf.predict(x_test)"
   ]
  },
  {
   "cell_type": "code",
   "execution_count": 98,
   "metadata": {},
   "outputs": [
    {
     "name": "stdout",
     "output_type": "stream",
     "text": [
      "0.924237184432444\n"
     ]
    }
   ],
   "source": [
    "acc=rf.score(x_test,y_test)\n",
    "print(acc)"
   ]
  },
  {
   "cell_type": "markdown",
   "metadata": {},
   "source": [
    "KNN"
   ]
  },
  {
   "cell_type": "code",
   "execution_count": 107,
   "metadata": {},
   "outputs": [],
   "source": [
    "KNN = KNeighborsClassifier(n_neighbors=10, n_jobs=5)"
   ]
  },
  {
   "cell_type": "code",
   "execution_count": 108,
   "metadata": {},
   "outputs": [],
   "source": [
    "# Train the reusable KNN classifier on the training data\n",
    "KNN.fit(X,y)  # train object\n",
    "y_hat = KNN.predict(x_test) # get test set precitions"
   ]
  },
  {
   "cell_type": "code",
   "execution_count": 109,
   "metadata": {},
   "outputs": [
    {
     "name": "stdout",
     "output_type": "stream",
     "text": [
      "0.937777659546168\n"
     ]
    }
   ],
   "source": [
    "# Accuracy for the iterations of training/testing\n",
    "accuracy_KNN = mt.accuracy_score(y_test,y_hat)\n",
    "print(accuracy_KNN)"
   ]
  },
  {
   "cell_type": "code",
   "execution_count": 110,
   "metadata": {},
   "outputs": [
    {
     "name": "stdout",
     "output_type": "stream",
     "text": [
      "             precision    recall  f1-score   support\n",
      "\n",
      "       high       0.67      0.44      0.53      6018\n",
      "        low       0.95      0.98      0.97     69164\n",
      "\n",
      "avg / total       0.93      0.94      0.93     75182\n",
      "\n"
     ]
    }
   ],
   "source": [
    "#Metric report \n",
    "metrics_KNN = classification_report(y_test,y_hat)\n",
    "print(metrics_KNN)"
   ]
  },
  {
   "cell_type": "code",
   "execution_count": null,
   "metadata": {},
   "outputs": [],
   "source": []
  }
 ],
 "metadata": {
  "kernelspec": {
   "display_name": "Python 3",
   "language": "python",
   "name": "python3"
  },
  "language_info": {
   "codemirror_mode": {
    "name": "ipython",
    "version": 3
   },
   "file_extension": ".py",
   "mimetype": "text/x-python",
   "name": "python",
   "nbconvert_exporter": "python",
   "pygments_lexer": "ipython3",
   "version": "3.6.4"
  }
 },
 "nbformat": 4,
 "nbformat_minor": 2
}
