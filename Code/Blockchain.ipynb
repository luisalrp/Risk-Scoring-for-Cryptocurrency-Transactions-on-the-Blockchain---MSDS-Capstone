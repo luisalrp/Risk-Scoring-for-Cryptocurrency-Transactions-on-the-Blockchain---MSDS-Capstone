{
 "cells": [
  {
   "cell_type": "markdown",
   "metadata": {},
   "source": [
    "# Building a reputation score on the Blockchain for Bitcoin"
   ]
  },
  {
   "cell_type": "markdown",
   "metadata": {},
   "source": [
    "### This is in intro that will describe our workflow process. Below you will find detailed steps on our thought process and how we are implemeting our project. \n",
    "\n",
    "##### Getting set up \n",
    "** Step 1: Open both this notebook and the BigQuery DB **\n",
    "\n",
    "** Step 2: Import the Lib's & insert the BigQuery project ID **\n",
    "\n",
    "##### Creating the DB using SQL & BigQuery \n",
    "** Step 3: Define the exchanges which will be used as a baseline for flagging **\n",
    "\n",
    "** Step 4: Map each address and save it as a table to the BigQuery DB ** \n",
    "\n",
    "##### Setup middleware (decision tree) \n",
    "** Will take an input (address) and based on the flagging that is set up spit out a reputation score **\n"
   ]
  },
  {
   "cell_type": "code",
   "execution_count": 1,
   "metadata": {
    "collapsed": true
   },
   "outputs": [],
   "source": [
    "# Import Lib's \n",
    "import pandas as pd\n",
    "from pandas.io import gbq\n",
    "import random"
   ]
  },
  {
   "cell_type": "code",
   "execution_count": 2,
   "metadata": {
    "collapsed": true
   },
   "outputs": [],
   "source": [
    "# Insert the BigQuery Project ID\n",
    "projectid = \"capstone-202618\""
   ]
  },
  {
   "cell_type": "markdown",
   "metadata": {},
   "source": [
    "### Define the exchanges"
   ]
  },
  {
   "cell_type": "code",
   "execution_count": 3,
   "metadata": {},
   "outputs": [
    {
     "name": "stdout",
     "output_type": "stream",
     "text": [
      "Please visit this URL to authorize this application: https://accounts.google.com/o/oauth2/auth?response_type=code&client_id=495642085510-k0tmvj2m941jhre2nbqka17vqpjfddtd.apps.googleusercontent.com&redirect_uri=urn%3Aietf%3Awg%3Aoauth%3A2.0%3Aoob&scope=https%3A%2F%2Fwww.googleapis.com%2Fauth%2Fbigquery&state=xFBfv9SyUGRfhe3ItekgCmFnX2ovM8&prompt=consent&access_type=offline\n",
      "Enter the authorization code: 4/AACi44NWnaFeJGRCQE9RgUvmalMRV8XRTXTwDfiGLcnkGERFLtkxu8Q\n"
     ]
    }
   ],
   "source": [
    "# Mt.Gox Hack \n",
    "mt_Gox_Hack = gbq.read_gbq('SELECT * FROM (FLATTEN(FLATTEN(DB.transactions_all, inputs.input_pubkey_base58_error), outputs.output_satoshis)) WHERE inputs.input_pubkey_base58 == \"1LNWw6yCxkUmkhArb2Nf2MPw6vG7u5WG7q\"', projectid)\n"
   ]
  },
  {
   "cell_type": "markdown",
   "metadata": {},
   "source": [
    "### Map the transaction history for a single transactor (address)\n",
    "\n",
    "Step 1. Pick a random address to start with.\n",
    "\n",
    "Step 2. Run a query that pulls the timestamp, transaction_id, input_pubkey, output_satoshis, and output_pubkey.\n",
    "\n",
    "Step 3. For each output_pubkey in the quiered input_key, run a sparate query.\n",
    "\n",
    "**Example, address1 has a pubkey of \"19HeuNTKobTgSbZyJf8sSHNEe5BchS1oW4\" whch returns five differnet pubkeys that it has sent coins to. The first being \"1MsciWujD7AM7EuUDXDXBd7AgKZTBXU6v9\". Now, address2 is a query ran for \"1MsciWujD7AM7EuUDXDXBd7AgKZTBXU6v9\". The second being \"1Mb3nGCcfaKQiA4jSDsu38XYo13iphFhMP\". Now, address3 is a query ran for \"1Mb3nGCcfaKQiA4jSDsu38XYo13iphFhMP\". And so on.**\n",
    "\n",
    "Step 4. Once an adress is completly mapped, comment it out so we know it is done.\n",
    "\n"
   ]
  },
  {
   "cell_type": "code",
   "execution_count": 5,
   "metadata": {
    "collapsed": true
   },
   "outputs": [],
   "source": [
    "address1 = gbq.read_gbq('SELECT timestamp, transaction_id, inputs.input_pubkey_base58, outputs.output_satoshis, outputs.output_pubkey_base58 FROM (FLATTEN(DB.transactions_all, outputs.output_satoshis)) WHERE inputs.input_pubkey_base58 == \"19HeuNTKobTgSbZyJf8sSHNEe5BchS1oW4\"', projectid)\n",
    "gbq.to_gbq(address1, 'DB.19HeuNTKobTgSbZyJf8sSHNEe5BchS1oW4', projectid)\n"
   ]
  },
  {
   "cell_type": "code",
   "execution_count": 7,
   "metadata": {
    "collapsed": true
   },
   "outputs": [],
   "source": [
    "address2 = gbq.read_gbq('SELECT timestamp, transaction_id, inputs.input_pubkey_base58, outputs.output_satoshis, outputs.output_pubkey_base58 FROM (FLATTEN(DB.transactions_all, outputs.output_satoshis)) WHERE inputs.input_pubkey_base58 == \"1MsciWujD7AM7EuUDXDXBd7AgKZTBXU6v9\"', projectid)\n",
    "gbq.to_gbq(address2, 'DB.1MsciWujD7AM7EuUDXDXBd7AgKZTBXU6v9', projectid)\n"
   ]
  },
  {
   "cell_type": "code",
   "execution_count": 9,
   "metadata": {
    "collapsed": true
   },
   "outputs": [],
   "source": [
    "address3 = gbq.read_gbq('SELECT timestamp, transaction_id, inputs.input_pubkey_base58, outputs.output_satoshis, outputs.output_pubkey_base58 FROM (FLATTEN(DB.transactions_all, outputs.output_satoshis)) WHERE inputs.input_pubkey_base58 == \"1Mb3nGCcfaKQiA4jSDsu38XYo13iphFhMP\"', projectid)\n",
    "gbq.to_gbq(address3, 'DB.1Mb3nGCcfaKQiA4jSDsu38XYo13iphFhMP', projectid)\n"
   ]
  },
  {
   "cell_type": "code",
   "execution_count": 10,
   "metadata": {
    "collapsed": true
   },
   "outputs": [],
   "source": [
    "address4 = gbq.read_gbq('SELECT timestamp, transaction_id, inputs.input_pubkey_base58, outputs.output_satoshis, outputs.output_pubkey_base58 FROM (FLATTEN(DB.transactions_all, outputs.output_satoshis)) WHERE inputs.input_pubkey_base58 == \"1137y8mRW7eeq8Yd6rbhG9Jb24JLRTcJMD\"', projectid)\n",
    "gbq.to_gbq(address4, 'DB.1137y8mRW7eeq8Yd6rbhG9Jb24JLRTcJMD', projectid)\n"
   ]
  },
  {
   "cell_type": "code",
   "execution_count": 11,
   "metadata": {
    "collapsed": true
   },
   "outputs": [],
   "source": [
    "address5 = gbq.read_gbq('SELECT timestamp, transaction_id, inputs.input_pubkey_base58, outputs.output_satoshis, outputs.output_pubkey_base58 FROM (FLATTEN(DB.transactions_all, outputs.output_satoshis)) WHERE inputs.input_pubkey_base58 == \"1MQxu5aYY8sWeed8jRZQVBV5p8NaJqZYZL\"', projectid)\n",
    "gbq.to_gbq(address5, 'DB.1MQxu5aYY8sWeed8jRZQVBV5p8NaJqZYZL', projectid)\n"
   ]
  },
  {
   "cell_type": "code",
   "execution_count": 12,
   "metadata": {
    "collapsed": true
   },
   "outputs": [],
   "source": [
    "address6 = gbq.read_gbq('SELECT timestamp, transaction_id, inputs.input_pubkey_base58, outputs.output_satoshis, outputs.output_pubkey_base58 FROM (FLATTEN(DB.transactions_all, outputs.output_satoshis)) WHERE inputs.input_pubkey_base58 == \"15B5JixcpuVvF8XeDG8yenMwBeoZrrcnhQ\"', projectid)\n",
    "gbq.to_gbq(address6, 'DB.15B5JixcpuVvF8XeDG8yenMwBeoZrrcnhQ', projectid)\n"
   ]
  },
  {
   "cell_type": "code",
   "execution_count": 14,
   "metadata": {
    "collapsed": true
   },
   "outputs": [],
   "source": [
    "address7 = gbq.read_gbq('SELECT timestamp, transaction_id, inputs.input_pubkey_base58, outputs.output_satoshis, outputs.output_pubkey_base58 FROM (FLATTEN(DB.transactions_all, outputs.output_satoshis)) WHERE inputs.input_pubkey_base58 == \"14jqcZynaQB9jKRYWewhiszSVFi7jvDv1y\"', projectid)\n",
    "gbq.to_gbq(address7, 'DB.14jqcZynaQB9jKRYWewhiszSVFi7jvDv1y', projectid)\n"
   ]
  },
  {
   "cell_type": "code",
   "execution_count": 15,
   "metadata": {
    "collapsed": true
   },
   "outputs": [],
   "source": [
    "address8 = gbq.read_gbq('SELECT timestamp, transaction_id, inputs.input_pubkey_base58, outputs.output_satoshis, outputs.output_pubkey_base58 FROM (FLATTEN(DB.transactions_all, outputs.output_satoshis)) WHERE inputs.input_pubkey_base58 == \"1N31ke4y2fLAhUmBiu1s7eEV1XrwfbikUe\"', projectid)\n",
    "gbq.to_gbq(address8, 'DB.1N31ke4y2fLAhUmBiu1s7eEV1XrwfbikUe', projectid)\n"
   ]
  },
  {
   "cell_type": "code",
   "execution_count": 16,
   "metadata": {
    "collapsed": true
   },
   "outputs": [],
   "source": [
    "address9 = gbq.read_gbq('SELECT timestamp, transaction_id, inputs.input_pubkey_base58, outputs.output_satoshis, outputs.output_pubkey_base58 FROM (FLATTEN(DB.transactions_all, outputs.output_satoshis)) WHERE inputs.input_pubkey_base58 == \"1Fs5SxMw1S9tssShyGTD5u4Mx85tkN6kT9\"', projectid)\n",
    "gbq.to_gbq(address9, 'DB.1Fs5SxMw1S9tssShyGTD5u4Mx85tkN6kT9', projectid)\n"
   ]
  },
  {
   "cell_type": "code",
   "execution_count": 17,
   "metadata": {
    "collapsed": true
   },
   "outputs": [],
   "source": [
    "address10 = gbq.read_gbq('SELECT timestamp, transaction_id, inputs.input_pubkey_base58, outputs.output_satoshis, outputs.output_pubkey_base58 FROM (FLATTEN(DB.transactions_all, outputs.output_satoshis)) WHERE inputs.input_pubkey_base58 == \"1JK8CboYEkApaCCNVMCZ5zX2xbF8D619xs\"', projectid)\n",
    "gbq.to_gbq(address10, 'DB.1JK8CboYEkApaCCNVMCZ5zX2xbF8D619xs', projectid)\n"
   ]
  },
  {
   "cell_type": "code",
   "execution_count": 18,
   "metadata": {
    "collapsed": true
   },
   "outputs": [],
   "source": [
    "address11 = gbq.read_gbq('SELECT timestamp, transaction_id, inputs.input_pubkey_base58, outputs.output_satoshis, outputs.output_pubkey_base58 FROM (FLATTEN(DB.transactions_all, outputs.output_satoshis)) WHERE inputs.input_pubkey_base58 == \"19DcaHpsW4sLeraXFEq1yzZaDBZeiJTvTr\"', projectid)\n",
    "gbq.to_gbq(address11, 'DB.19DcaHpsW4sLeraXFEq1yzZaDBZeiJTvTr', projectid)\n"
   ]
  },
  {
   "cell_type": "code",
   "execution_count": 19,
   "metadata": {
    "collapsed": true
   },
   "outputs": [],
   "source": [
    "address12 = gbq.read_gbq('SELECT timestamp, transaction_id, inputs.input_pubkey_base58, outputs.output_satoshis, outputs.output_pubkey_base58 FROM (FLATTEN(DB.transactions_all, outputs.output_satoshis)) WHERE inputs.input_pubkey_base58 == \"1J8pKizgUeMi4vzeswdpWRaj6cmxWmX2uV\"', projectid)\n",
    "gbq.to_gbq(address12, 'DB.1J8pKizgUeMi4vzeswdpWRaj6cmxWmX2uV', projectid)\n"
   ]
  },
  {
   "cell_type": "code",
   "execution_count": 20,
   "metadata": {
    "collapsed": true
   },
   "outputs": [],
   "source": [
    "address13 = gbq.read_gbq('SELECT timestamp, transaction_id, inputs.input_pubkey_base58, outputs.output_satoshis, outputs.output_pubkey_base58 FROM (FLATTEN(DB.transactions_all, outputs.output_satoshis)) WHERE inputs.input_pubkey_base58 == \"1JW4EQmctnPeT5SperRKCjmpGKaL5YFKB9\"', projectid)\n",
    "gbq.to_gbq(address13, 'DB.1JW4EQmctnPeT5SperRKCjmpGKaL5YFKB9', projectid)\n"
   ]
  },
  {
   "cell_type": "code",
   "execution_count": 21,
   "metadata": {
    "collapsed": true
   },
   "outputs": [],
   "source": [
    "address14 = gbq.read_gbq('SELECT timestamp, transaction_id, inputs.input_pubkey_base58, outputs.output_satoshis, outputs.output_pubkey_base58 FROM (FLATTEN(DB.transactions_all, outputs.output_satoshis)) WHERE inputs.input_pubkey_base58 == \"1N3Tf4Nfn9mZ7Z5rCtJ3ahcZLuspDddXHq\"', projectid)\n",
    "gbq.to_gbq(address14, 'DB.1N3Tf4Nfn9mZ7Z5rCtJ3ahcZLuspDddXHq', projectid)\n"
   ]
  },
  {
   "cell_type": "code",
   "execution_count": 22,
   "metadata": {
    "collapsed": true
   },
   "outputs": [],
   "source": [
    "address15 = gbq.read_gbq('SELECT timestamp, transaction_id, inputs.input_pubkey_base58, outputs.output_satoshis, outputs.output_pubkey_base58 FROM (FLATTEN(DB.transactions_all, outputs.output_satoshis)) WHERE inputs.input_pubkey_base58 == \"1M2nS1PaqF8pjbLHB8M7GcGH99f7fgqnAM\"', projectid)\n",
    "gbq.to_gbq(address15, 'DB.1M2nS1PaqF8pjbLHB8M7GcGH99f7fgqnAM', projectid)\n"
   ]
  },
  {
   "cell_type": "code",
   "execution_count": 3,
   "metadata": {
    "collapsed": true
   },
   "outputs": [],
   "source": [
    "address16 = gbq.read_gbq('SELECT timestamp, transaction_id, inputs.input_pubkey_base58, outputs.output_satoshis, outputs.output_pubkey_base58 FROM (FLATTEN(DB.transactions_all, outputs.output_satoshis)) WHERE inputs.input_pubkey_base58 == \"1FS6iAEnYRKeeRnzgXXvxa7Czia22J6eLj\"', projectid)\n",
    "gbq.to_gbq(address16, 'DB.1FS6iAEnYRKeeRnzgXXvxa7Czia22J6eLj', projectid)\n"
   ]
  },
  {
   "cell_type": "code",
   "execution_count": 4,
   "metadata": {
    "collapsed": true
   },
   "outputs": [],
   "source": [
    "address17 = gbq.read_gbq('SELECT timestamp, transaction_id, inputs.input_pubkey_base58, outputs.output_satoshis, outputs.output_pubkey_base58 FROM (FLATTEN(DB.transactions_all, outputs.output_satoshis)) WHERE inputs.input_pubkey_base58 == \"12sj9d85J3NwWTYuE9oPnAq5YyDhsrmnVn\"', projectid)\n",
    "gbq.to_gbq(address17, 'DB.12sj9d85J3NwWTYuE9oPnAq5YyDhsrmnVn', projectid)\n"
   ]
  },
  {
   "cell_type": "code",
   "execution_count": null,
   "metadata": {
    "collapsed": true
   },
   "outputs": [],
   "source": []
  },
  {
   "cell_type": "code",
   "execution_count": null,
   "metadata": {
    "collapsed": true
   },
   "outputs": [],
   "source": []
  },
  {
   "cell_type": "code",
   "execution_count": null,
   "metadata": {
    "collapsed": true
   },
   "outputs": [],
   "source": []
  },
  {
   "cell_type": "code",
   "execution_count": null,
   "metadata": {
    "collapsed": true
   },
   "outputs": [],
   "source": []
  },
  {
   "cell_type": "code",
   "execution_count": null,
   "metadata": {
    "collapsed": true
   },
   "outputs": [],
   "source": []
  },
  {
   "cell_type": "code",
   "execution_count": null,
   "metadata": {
    "collapsed": true
   },
   "outputs": [],
   "source": []
  },
  {
   "cell_type": "code",
   "execution_count": null,
   "metadata": {
    "collapsed": true
   },
   "outputs": [],
   "source": []
  },
  {
   "cell_type": "code",
   "execution_count": null,
   "metadata": {
    "collapsed": true
   },
   "outputs": [],
   "source": []
  },
  {
   "cell_type": "markdown",
   "metadata": {
    "collapsed": true
   },
   "source": [
    "### Creating transaction history per address\n",
    "Group by public key (input), then build the transactions on that public key.\n",
    "A Bitcoin address is an identifier of 26-35 alphanumeric characters that represents a possible destination for a bitcoin payment. "
   ]
  },
  {
   "cell_type": "code",
   "execution_count": 8,
   "metadata": {
    "collapsed": true
   },
   "outputs": [],
   "source": [
    "## Get transaction table form BigQuery \n",
    "transaction = gbq.read_gbq('SELECT timestamp, transaction_id, inputs.input_pubkey_base58, outputs.output_satoshis, outputs.output_pubkey_base58 FROM (FLATTEN(Capstone_Dataset.transactions_copy, outputs.output_satoshis)) LIMIT 500000', projectid)\n"
   ]
  },
  {
   "cell_type": "code",
   "execution_count": 9,
   "metadata": {
    "collapsed": true
   },
   "outputs": [],
   "source": [
    "## First select a random public key from the data \n",
    "def randomPublic(df, n):\n",
    "    return df.loc[random.sample(df.index, n)]"
   ]
  },
  {
   "cell_type": "code",
   "execution_count": 14,
   "metadata": {},
   "outputs": [
    {
     "data": {
      "text/html": [
       "<div>\n",
       "<style scoped>\n",
       "    .dataframe tbody tr th:only-of-type {\n",
       "        vertical-align: middle;\n",
       "    }\n",
       "\n",
       "    .dataframe tbody tr th {\n",
       "        vertical-align: top;\n",
       "    }\n",
       "\n",
       "    .dataframe thead th {\n",
       "        text-align: right;\n",
       "    }\n",
       "</style>\n",
       "<table border=\"1\" class=\"dataframe\">\n",
       "  <thead>\n",
       "    <tr style=\"text-align: right;\">\n",
       "      <th></th>\n",
       "      <th>timestamp</th>\n",
       "      <th>transaction_id</th>\n",
       "      <th>inputs_input_pubkey_base58</th>\n",
       "      <th>outputs_output_satoshis</th>\n",
       "      <th>outputs_output_pubkey_base58</th>\n",
       "    </tr>\n",
       "  </thead>\n",
       "  <tbody>\n",
       "    <tr>\n",
       "      <th>279753</th>\n",
       "      <td>1507219686000</td>\n",
       "      <td>2c9a99de26468b0e5c451ed9649460073d31e3846a0ee2...</td>\n",
       "      <td>1JycrXp9cvpRyQ3emYHT26CfztDa6hfwGn</td>\n",
       "      <td>5000000000</td>\n",
       "      <td>12oLTdrRshL8ELVZ8rHUWKWpYGqYCiHC7a</td>\n",
       "    </tr>\n",
       "    <tr>\n",
       "      <th>1596060</th>\n",
       "      <td>1507050772000</td>\n",
       "      <td>5998f059f74f763801fe5d9f83690e5fc8dbbd7a8e1838...</td>\n",
       "      <td>None</td>\n",
       "      <td>9689186</td>\n",
       "      <td>185AmYcWwK8UTCR3MV8ttiWD92zHLeopte</td>\n",
       "    </tr>\n",
       "    <tr>\n",
       "      <th>1267711</th>\n",
       "      <td>1516749380000</td>\n",
       "      <td>9dff1f06ef123bdf745bf9e82e3a7b9187fe4c45fcd4fa...</td>\n",
       "      <td>19DWqGXPag2tKck7NaYEF3Waw6Uu52qX7F</td>\n",
       "      <td>252796</td>\n",
       "      <td>1PuaX6T93xvb7HKCUnHPVd8trrP5yDQB3E</td>\n",
       "    </tr>\n",
       "    <tr>\n",
       "      <th>414868</th>\n",
       "      <td>1415535752000</td>\n",
       "      <td>ea16a5de97740704aae9eb760d57f18cabfc215afb39d9...</td>\n",
       "      <td>1CiMNvP31FMyhAvf52QC4S1BpB64i5Pm4F</td>\n",
       "      <td>500000</td>\n",
       "      <td>1E4BwJweYHXgUP624AxHjiNZs5yA5wuCox</td>\n",
       "    </tr>\n",
       "    <tr>\n",
       "      <th>1689473</th>\n",
       "      <td>1515446008000</td>\n",
       "      <td>d93e41f7d2d350d57b2401bf6dfab69d73c82a84a3f841...</td>\n",
       "      <td>16gr6hH6nTjq2x7fk7eYGSTMzv3y5Suntp</td>\n",
       "      <td>10638410</td>\n",
       "      <td>12pPyf3mqb3pfnWvuhkVNFkYEJchuGjMqL</td>\n",
       "    </tr>\n",
       "    <tr>\n",
       "      <th>809202</th>\n",
       "      <td>1459490846000</td>\n",
       "      <td>7c5437b7180993cc3a49d3c64544e90c9c3f8c0d719629...</td>\n",
       "      <td>1K1QucZvABaF15ZxSbYMGD3pwuCBC6zuJE</td>\n",
       "      <td>2169021279</td>\n",
       "      <td>1BRebmXwXB35NyXXiJCvG2mUhogq6ftoLV</td>\n",
       "    </tr>\n",
       "    <tr>\n",
       "      <th>1777830</th>\n",
       "      <td>1436974064000</td>\n",
       "      <td>5683143007027c9192947b1891213bc51c35f36bf03e29...</td>\n",
       "      <td>1Edy1riJGUmewWxkQJjZyK1YRLmWPZ3tLC</td>\n",
       "      <td>2480000000</td>\n",
       "      <td>1Px7EcikQ5pgoM2duexuHASBaGwvYfbJVs</td>\n",
       "    </tr>\n",
       "    <tr>\n",
       "      <th>1087376</th>\n",
       "      <td>1412950144000</td>\n",
       "      <td>fa43e3929436e30463f0a35336ecdd41f8679ddd3fd01a...</td>\n",
       "      <td>18YR6VPCgRtr5bTYNo1BkG9fiHCun3ndAn</td>\n",
       "      <td>1493853</td>\n",
       "      <td>1FAVbTRU5NWBXbtoSRJZ4z3PJcG5gw6Bfs</td>\n",
       "    </tr>\n",
       "    <tr>\n",
       "      <th>274544</th>\n",
       "      <td>1448768758000</td>\n",
       "      <td>9b25c292249b389d53766fd34001d6c4d9fc768ba8db30...</td>\n",
       "      <td>1ECGMNDeFgG9Xh5iNkzzLxzrmqtHHm2C9P</td>\n",
       "      <td>400126874</td>\n",
       "      <td>16z15JZDT2ewJHpwAYUh9aVBAS5G926P2m</td>\n",
       "    </tr>\n",
       "    <tr>\n",
       "      <th>320069</th>\n",
       "      <td>1479504985000</td>\n",
       "      <td>32af2b176c89b3e55c2a0f6ad019ce73afb9065909d0e6...</td>\n",
       "      <td>12WpZXSdkp4kXkEK2ttZegRebaFsunex9t</td>\n",
       "      <td>79276983</td>\n",
       "      <td>1eGgnvifEeVAMK3Wv82kxbny9rizX6VR9</td>\n",
       "    </tr>\n",
       "    <tr>\n",
       "      <th>846693</th>\n",
       "      <td>1398950441000</td>\n",
       "      <td>f669693c72afa9fcac87e4264dbace53153819b9f2b9fe...</td>\n",
       "      <td>16MorJDTDb98NzAxEwbdo9S42RQ4fpeJUL</td>\n",
       "      <td>5000000</td>\n",
       "      <td>1Ja4K3FgF9wsBJHdqnE1vBcm4jcCpLyQsz</td>\n",
       "    </tr>\n",
       "    <tr>\n",
       "      <th>75222</th>\n",
       "      <td>1491812628000</td>\n",
       "      <td>4cdaa2539323a1a0aa4e88aee63192f40556e7867e539d...</td>\n",
       "      <td>1SVt4riZAVWvEDv72G5f1C9WXPbJYP25W</td>\n",
       "      <td>16611487</td>\n",
       "      <td>1J1BvMicxbAEEMkdMxz1wJxYp8vDNCbb8F</td>\n",
       "    </tr>\n",
       "    <tr>\n",
       "      <th>884190</th>\n",
       "      <td>1441838703000</td>\n",
       "      <td>683e9f80ab16bb0aa3c02fa61a8733654c4d553c0b50a3...</td>\n",
       "      <td>1LypXthFybrV1deuZ5TP5bKyGo3Qk8TzxL</td>\n",
       "      <td>20000000</td>\n",
       "      <td>1HMJDWwZeMsWPPE6o7R3oTA3Z3HTVC1ga2</td>\n",
       "    </tr>\n",
       "    <tr>\n",
       "      <th>560935</th>\n",
       "      <td>1423381175000</td>\n",
       "      <td>a38b14db6174ae91f436220b5f566bb982e61c0b3b15f4...</td>\n",
       "      <td>1MTzgidPkdj2rLTkH9X4Pw43ZoYvk76Hvi</td>\n",
       "      <td>3300060000</td>\n",
       "      <td>1QC9t3bcThr4YeyDxyW5V62rDnBeoYZzPA</td>\n",
       "    </tr>\n",
       "    <tr>\n",
       "      <th>795890</th>\n",
       "      <td>1479360022000</td>\n",
       "      <td>3d02c063177ebbf5b5827c6453d1c1da4ff5fe530bdf6e...</td>\n",
       "      <td>None</td>\n",
       "      <td>670000</td>\n",
       "      <td>17t5PWUj1qn4EFniw2vKPt87oRydAgyWFG</td>\n",
       "    </tr>\n",
       "  </tbody>\n",
       "</table>\n",
       "</div>"
      ],
      "text/plain": [
       "             timestamp                                     transaction_id  \\\n",
       "279753   1507219686000  2c9a99de26468b0e5c451ed9649460073d31e3846a0ee2...   \n",
       "1596060  1507050772000  5998f059f74f763801fe5d9f83690e5fc8dbbd7a8e1838...   \n",
       "1267711  1516749380000  9dff1f06ef123bdf745bf9e82e3a7b9187fe4c45fcd4fa...   \n",
       "414868   1415535752000  ea16a5de97740704aae9eb760d57f18cabfc215afb39d9...   \n",
       "1689473  1515446008000  d93e41f7d2d350d57b2401bf6dfab69d73c82a84a3f841...   \n",
       "809202   1459490846000  7c5437b7180993cc3a49d3c64544e90c9c3f8c0d719629...   \n",
       "1777830  1436974064000  5683143007027c9192947b1891213bc51c35f36bf03e29...   \n",
       "1087376  1412950144000  fa43e3929436e30463f0a35336ecdd41f8679ddd3fd01a...   \n",
       "274544   1448768758000  9b25c292249b389d53766fd34001d6c4d9fc768ba8db30...   \n",
       "320069   1479504985000  32af2b176c89b3e55c2a0f6ad019ce73afb9065909d0e6...   \n",
       "846693   1398950441000  f669693c72afa9fcac87e4264dbace53153819b9f2b9fe...   \n",
       "75222    1491812628000  4cdaa2539323a1a0aa4e88aee63192f40556e7867e539d...   \n",
       "884190   1441838703000  683e9f80ab16bb0aa3c02fa61a8733654c4d553c0b50a3...   \n",
       "560935   1423381175000  a38b14db6174ae91f436220b5f566bb982e61c0b3b15f4...   \n",
       "795890   1479360022000  3d02c063177ebbf5b5827c6453d1c1da4ff5fe530bdf6e...   \n",
       "\n",
       "                 inputs_input_pubkey_base58  outputs_output_satoshis  \\\n",
       "279753   1JycrXp9cvpRyQ3emYHT26CfztDa6hfwGn               5000000000   \n",
       "1596060                                None                  9689186   \n",
       "1267711  19DWqGXPag2tKck7NaYEF3Waw6Uu52qX7F                   252796   \n",
       "414868   1CiMNvP31FMyhAvf52QC4S1BpB64i5Pm4F                   500000   \n",
       "1689473  16gr6hH6nTjq2x7fk7eYGSTMzv3y5Suntp                 10638410   \n",
       "809202   1K1QucZvABaF15ZxSbYMGD3pwuCBC6zuJE               2169021279   \n",
       "1777830  1Edy1riJGUmewWxkQJjZyK1YRLmWPZ3tLC               2480000000   \n",
       "1087376  18YR6VPCgRtr5bTYNo1BkG9fiHCun3ndAn                  1493853   \n",
       "274544   1ECGMNDeFgG9Xh5iNkzzLxzrmqtHHm2C9P                400126874   \n",
       "320069   12WpZXSdkp4kXkEK2ttZegRebaFsunex9t                 79276983   \n",
       "846693   16MorJDTDb98NzAxEwbdo9S42RQ4fpeJUL                  5000000   \n",
       "75222     1SVt4riZAVWvEDv72G5f1C9WXPbJYP25W                 16611487   \n",
       "884190   1LypXthFybrV1deuZ5TP5bKyGo3Qk8TzxL                 20000000   \n",
       "560935   1MTzgidPkdj2rLTkH9X4Pw43ZoYvk76Hvi               3300060000   \n",
       "795890                                 None                   670000   \n",
       "\n",
       "               outputs_output_pubkey_base58  \n",
       "279753   12oLTdrRshL8ELVZ8rHUWKWpYGqYCiHC7a  \n",
       "1596060  185AmYcWwK8UTCR3MV8ttiWD92zHLeopte  \n",
       "1267711  1PuaX6T93xvb7HKCUnHPVd8trrP5yDQB3E  \n",
       "414868   1E4BwJweYHXgUP624AxHjiNZs5yA5wuCox  \n",
       "1689473  12pPyf3mqb3pfnWvuhkVNFkYEJchuGjMqL  \n",
       "809202   1BRebmXwXB35NyXXiJCvG2mUhogq6ftoLV  \n",
       "1777830  1Px7EcikQ5pgoM2duexuHASBaGwvYfbJVs  \n",
       "1087376  1FAVbTRU5NWBXbtoSRJZ4z3PJcG5gw6Bfs  \n",
       "274544   16z15JZDT2ewJHpwAYUh9aVBAS5G926P2m  \n",
       "320069    1eGgnvifEeVAMK3Wv82kxbny9rizX6VR9  \n",
       "846693   1Ja4K3FgF9wsBJHdqnE1vBcm4jcCpLyQsz  \n",
       "75222    1J1BvMicxbAEEMkdMxz1wJxYp8vDNCbb8F  \n",
       "884190   1HMJDWwZeMsWPPE6o7R3oTA3Z3HTVC1ga2  \n",
       "560935   1QC9t3bcThr4YeyDxyW5V62rDnBeoYZzPA  \n",
       "795890   17t5PWUj1qn4EFniw2vKPt87oRydAgyWFG  "
      ]
     },
     "execution_count": 14,
     "metadata": {},
     "output_type": "execute_result"
    }
   ],
   "source": [
    "randomPublic(transaction, 15)"
   ]
  },
  {
   "cell_type": "code",
   "execution_count": 15,
   "metadata": {
    "collapsed": true
   },
   "outputs": [],
   "source": [
    "## Start creating the tranaction history per address\n",
    "#  map the adresses (Pay-to-PubkeyHash)\n",
    "#  then build the tranactions on that public key\n",
    "\n",
    "## pub with max at the top (rank)\n",
    "def pubKey(df, x):\n",
    "    return df.loc[lambda df: df.inputs_input_pubkey_base58 == x, :]"
   ]
  },
  {
   "cell_type": "code",
   "execution_count": 18,
   "metadata": {},
   "outputs": [
    {
     "data": {
      "text/html": [
       "<div>\n",
       "<style scoped>\n",
       "    .dataframe tbody tr th:only-of-type {\n",
       "        vertical-align: middle;\n",
       "    }\n",
       "\n",
       "    .dataframe tbody tr th {\n",
       "        vertical-align: top;\n",
       "    }\n",
       "\n",
       "    .dataframe thead th {\n",
       "        text-align: right;\n",
       "    }\n",
       "</style>\n",
       "<table border=\"1\" class=\"dataframe\">\n",
       "  <thead>\n",
       "    <tr style=\"text-align: right;\">\n",
       "      <th></th>\n",
       "      <th>timestamp</th>\n",
       "      <th>transaction_id</th>\n",
       "      <th>inputs_input_pubkey_base58</th>\n",
       "      <th>outputs_output_satoshis</th>\n",
       "      <th>outputs_output_pubkey_base58</th>\n",
       "    </tr>\n",
       "  </thead>\n",
       "  <tbody>\n",
       "    <tr>\n",
       "      <th>846693</th>\n",
       "      <td>1398950441000</td>\n",
       "      <td>f669693c72afa9fcac87e4264dbace53153819b9f2b9fe...</td>\n",
       "      <td>16MorJDTDb98NzAxEwbdo9S42RQ4fpeJUL</td>\n",
       "      <td>5000000</td>\n",
       "      <td>1Ja4K3FgF9wsBJHdqnE1vBcm4jcCpLyQsz</td>\n",
       "    </tr>\n",
       "    <tr>\n",
       "      <th>846695</th>\n",
       "      <td>1398950441000</td>\n",
       "      <td>f669693c72afa9fcac87e4264dbace53153819b9f2b9fe...</td>\n",
       "      <td>16MorJDTDb98NzAxEwbdo9S42RQ4fpeJUL</td>\n",
       "      <td>157476</td>\n",
       "      <td>1DBs4HU6CHrqerEF8H3XWkBXBTW6C17pQ4</td>\n",
       "    </tr>\n",
       "  </tbody>\n",
       "</table>\n",
       "</div>"
      ],
      "text/plain": [
       "            timestamp                                     transaction_id  \\\n",
       "846693  1398950441000  f669693c72afa9fcac87e4264dbace53153819b9f2b9fe...   \n",
       "846695  1398950441000  f669693c72afa9fcac87e4264dbace53153819b9f2b9fe...   \n",
       "\n",
       "                inputs_input_pubkey_base58  outputs_output_satoshis  \\\n",
       "846693  16MorJDTDb98NzAxEwbdo9S42RQ4fpeJUL                  5000000   \n",
       "846695  16MorJDTDb98NzAxEwbdo9S42RQ4fpeJUL                   157476   \n",
       "\n",
       "              outputs_output_pubkey_base58  \n",
       "846693  1Ja4K3FgF9wsBJHdqnE1vBcm4jcCpLyQsz  \n",
       "846695  1DBs4HU6CHrqerEF8H3XWkBXBTW6C17pQ4  "
      ]
     },
     "execution_count": 18,
     "metadata": {},
     "output_type": "execute_result"
    }
   ],
   "source": [
    "pubKey(transaction, '16MorJDTDb98NzAxEwbdo9S42RQ4fpeJUL')"
   ]
  },
  {
   "cell_type": "code",
   "execution_count": 68,
   "metadata": {},
   "outputs": [
    {
     "data": {
      "text/plain": [
       "417428"
      ]
     },
     "execution_count": 68,
     "metadata": {},
     "output_type": "execute_result"
    }
   ],
   "source": [
    "transaction['inputs_input_pubkey_base58'].count()"
   ]
  },
  {
   "cell_type": "code",
   "execution_count": 70,
   "metadata": {},
   "outputs": [
    {
     "data": {
      "text/plain": [
       "496707"
      ]
     },
     "execution_count": 70,
     "metadata": {},
     "output_type": "execute_result"
    }
   ],
   "source": [
    "transaction['outputs_output_pubkey_base58'].count()"
   ]
  },
  {
   "cell_type": "code",
   "execution_count": null,
   "metadata": {
    "collapsed": true
   },
   "outputs": [],
   "source": []
  },
  {
   "cell_type": "code",
   "execution_count": null,
   "metadata": {
    "collapsed": true
   },
   "outputs": [],
   "source": []
  }
 ],
 "metadata": {
  "kernelspec": {
   "display_name": "Python 2",
   "language": "python",
   "name": "python2"
  },
  "language_info": {
   "codemirror_mode": {
    "name": "ipython",
    "version": 2
   },
   "file_extension": ".py",
   "mimetype": "text/x-python",
   "name": "python",
   "nbconvert_exporter": "python",
   "pygments_lexer": "ipython2",
   "version": "2.7.14"
  }
 },
 "nbformat": 4,
 "nbformat_minor": 2
}
