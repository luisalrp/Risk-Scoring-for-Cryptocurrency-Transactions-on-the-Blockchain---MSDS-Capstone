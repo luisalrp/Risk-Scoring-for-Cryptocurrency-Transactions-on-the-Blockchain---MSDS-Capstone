{
 "cells": [
  {
   "cell_type": "markdown",
   "metadata": {},
   "source": [
    "# Building a reputation score on the Blockchain for Bitcoin"
   ]
  },
  {
   "cell_type": "markdown",
   "metadata": {},
   "source": [
    "### This is in intro that will describe our workflow process. Below you will find detailed steps on our thought process and how we are implemeting our project. \n",
    "\n",
    "##### Getting set up \n",
    "** Step 1: Open both this notebook and the BigQuery DB **\n",
    "\n",
    "** Step 2: Import the Lib's & insert the BigQuery project ID **\n",
    "\n",
    "##### Creating the DB using SQL & BigQuery \n",
    "** Step 3: Define the exchanges which will be used as a baseline for flagging **\n",
    "\n",
    "** Step 4: Map each address and save it as a table to the BigQuery DB ** \n",
    "\n",
    "##### Setup middleware (decision tree) \n",
    "** Will take an input (address) and based on the flagging that is set up spit out a reputation score **\n"
   ]
  },
  {
   "cell_type": "code",
   "execution_count": 1,
   "metadata": {
    "collapsed": true
   },
   "outputs": [],
   "source": [
    "# Import Lib's \n",
    "import pandas as pd\n",
    "from pandas.io import gbq\n",
    "import random"
   ]
  },
  {
   "cell_type": "code",
   "execution_count": 2,
   "metadata": {
    "collapsed": true
   },
   "outputs": [],
   "source": [
    "# Insert the BigQuery Project ID\n",
    "projectid = \"capstone-202618\""
   ]
  },
  {
   "cell_type": "markdown",
   "metadata": {},
   "source": [
    "### Define the exchanges"
   ]
  },
  {
   "cell_type": "code",
   "execution_count": 3,
   "metadata": {},
   "outputs": [
    {
     "name": "stdout",
     "output_type": "stream",
     "text": [
      "Please visit this URL to authorize this application: https://accounts.google.com/o/oauth2/auth?response_type=code&client_id=495642085510-k0tmvj2m941jhre2nbqka17vqpjfddtd.apps.googleusercontent.com&redirect_uri=urn%3Aietf%3Awg%3Aoauth%3A2.0%3Aoob&scope=https%3A%2F%2Fwww.googleapis.com%2Fauth%2Fbigquery&state=xFBfv9SyUGRfhe3ItekgCmFnX2ovM8&prompt=consent&access_type=offline\n",
      "Enter the authorization code: 4/AACi44NWnaFeJGRCQE9RgUvmalMRV8XRTXTwDfiGLcnkGERFLtkxu8Q\n"
     ]
    }
   ],
   "source": [
    "# Mt.Gox Hack \n",
    "mt_Gox_Hack = gbq.read_gbq('SELECT * FROM (FLATTEN(FLATTEN(DB.transactions_all, inputs.input_pubkey_base58_error), outputs.output_satoshis)) WHERE inputs.input_pubkey_base58 == \"1LNWw6yCxkUmkhArb2Nf2MPw6vG7u5WG7q\"', projectid)\n"
   ]
  },
  {
   "cell_type": "markdown",
   "metadata": {
    "collapsed": true
   },
   "source": [
    "### Creating transaction history per address\n",
    "Group by public key (input), then build the transactions on that public key.\n",
    "A Bitcoin address is an identifier of 26-35 alphanumeric characters that represents a possible destination for a bitcoin payment. "
   ]
  },
  {
   "cell_type": "code",
   "execution_count": 3,
   "metadata": {
    "collapsed": true
   },
   "outputs": [],
   "source": [
    "# ## Get transaction table form BigQuery \n",
    "# transaction = gbq.read_gbq('SELECT timestamp, transaction_id, inputs.input_pubkey_base58, outputs.output_satoshis, outputs.output_pubkey_base58 FROM (FLATTEN(DB.transactions_all, outputs.output_satoshis)) LIMIT 1250000', projectid)\n"
   ]
  },
  {
   "cell_type": "code",
   "execution_count": 16,
   "metadata": {},
   "outputs": [
    {
     "data": {
      "text/plain": [
       "159689"
      ]
     },
     "execution_count": 16,
     "metadata": {},
     "output_type": "execute_result"
    }
   ],
   "source": [
    "transaction['inputs_input_pubkey_base58'].count()"
   ]
  },
  {
   "cell_type": "code",
   "execution_count": 12,
   "metadata": {
    "collapsed": true
   },
   "outputs": [],
   "source": [
    "transaction = gbq.read_gbq('SELECT timestamp, transaction_id, inputs.input_pubkey_base58, outputs.output_satoshis, outputs.output_pubkey_base58 FROM (FLATTEN(DB.transactions_all, outputs.output_satoshis)) WHERE inputs.input_pubkey_base58 IS NOT NULL LIMIT 50000', projectid)\n"
   ]
  },
  {
   "cell_type": "code",
   "execution_count": 17,
   "metadata": {},
   "outputs": [
    {
     "name": "stdout",
     "output_type": "stream",
     "text": [
      "1N11ymJ5urLMXB3SxjoGzdupyaf3N7noDB Mapped!!\n",
      "1N11ymJ5urLMXB3SxjoGzdupyaf3N7noDB Mapped!!\n",
      "1AcdF4HZdCJ1NLkhpe7wmi6tLPGyDAy32 Mapped!!\n",
      "1AcdF4HZdCJ1NLkhpe7wmi6tLPGyDAy32 Mapped!!\n",
      "1AcdF4HZdCJ1NLkhpe7wmi6tLPGyDAy32 Mapped!!\n",
      "1AcdF4HZdCJ1NLkhpe7wmi6tLPGyDAy32 Mapped!!\n",
      "1AcdF4HZdCJ1NLkhpe7wmi6tLPGyDAy32 Mapped!!\n",
      "1AcdF4HZdCJ1NLkhpe7wmi6tLPGyDAy32 Mapped!!\n",
      "1BYCRXZfZqyZvkxS9eLoXTcomw8NufbbyY Mapped!!\n",
      "1BYCRXZfZqyZvkxS9eLoXTcomw8NufbbyY Mapped!!\n",
      "1NiUqRwuvkpSW7QaquiprSvPVWNXHTwgMJ Mapped!!\n",
      "1NiUqRwuvkpSW7QaquiprSvPVWNXHTwgMJ Mapped!!\n",
      "1NiUqRwuvkpSW7QaquiprSvPVWNXHTwgMJ Mapped!!\n",
      "1EHS7ojM2xroewi8EMkaF1WknSy283yD9s Mapped!!\n",
      "1FApr1RywsXvBWXckp7AHAUp9yr2YN5wXT Mapped!!\n",
      "1PjVYStULFnwYKuXU9pbbTfmG8S82kqTNM Mapped!!\n",
      "17ZSCZgCmnjotqTpwYW3bdugAkNxxT2hYb Mapped!!\n",
      "17ZSCZgCmnjotqTpwYW3bdugAkNxxT2hYb Mapped!!\n",
      "1MRzfGLe4eV4a3Dmg3zccMSB68ozMChKeG Mapped!!\n",
      "16zBdpGo9PxKU7sxs7Pot676jxeZskRB2Y Mapped!!\n",
      "14zH9AZaXZ4rDcVubWYNGjj2jnYnQNseZL Mapped!!\n",
      "1EHS7ojM2xroewi8EMkaF1WknSy283yD9s Mapped!!\n",
      "1FApr1RywsXvBWXckp7AHAUp9yr2YN5wXT Mapped!!\n",
      "1PjVYStULFnwYKuXU9pbbTfmG8S82kqTNM Mapped!!\n",
      "17ZSCZgCmnjotqTpwYW3bdugAkNxxT2hYb Mapped!!\n",
      "17ZSCZgCmnjotqTpwYW3bdugAkNxxT2hYb Mapped!!\n",
      "1MRzfGLe4eV4a3Dmg3zccMSB68ozMChKeG Mapped!!\n",
      "16zBdpGo9PxKU7sxs7Pot676jxeZskRB2Y Mapped!!\n",
      "14zH9AZaXZ4rDcVubWYNGjj2jnYnQNseZL Mapped!!\n",
      "1FoxBitjXcBeZUS4eDzPZ7b124q3N7QJK7 Mapped!!\n",
      "1FoxBitjXcBeZUS4eDzPZ7b124q3N7QJK7 Mapped!!\n",
      "14zy6WJTveBgx1QUFho5QpNvgNo5DE13ke Mapped!!\n",
      "14zy6WJTveBgx1QUFho5QpNvgNo5DE13ke Mapped!!\n",
      "1DEce2yvUJbvnqccJnUBf9Ay6RLaC2nsoe Mapped!!\n",
      "1DEce2yvUJbvnqccJnUBf9Ay6RLaC2nsoe Mapped!!\n",
      "1CYYFnJiyBDE5si2aHdWLqUkhUXsRY8DGx Mapped!!\n",
      "1CYYFnJiyBDE5si2aHdWLqUkhUXsRY8DGx Mapped!!\n",
      "1AjrpJNBZi34jpi62VfoXvHdRf7JcuFBMw Mapped!!\n",
      "1AjrpJNBZi34jpi62VfoXvHdRf7JcuFBMw Mapped!!\n",
      "1DS1eUuXPQvBU8kt2zzJeSN2xT8BeFDby4 Mapped!!\n",
      "1DS1eUuXPQvBU8kt2zzJeSN2xT8BeFDby4 Mapped!!\n",
      "1DS1eUuXPQvBU8kt2zzJeSN2xT8BeFDby4 Mapped!!\n",
      "1DS1eUuXPQvBU8kt2zzJeSN2xT8BeFDby4 Mapped!!\n",
      "1ZusZeTh6ssjiqG3rTXvxs1UYHejXLkUS Mapped!!\n",
      "1DS1eUuXPQvBU8kt2zzJeSN2xT8BeFDby4 Mapped!!\n",
      "1DS1eUuXPQvBU8kt2zzJeSN2xT8BeFDby4 Mapped!!\n",
      "1DS1eUuXPQvBU8kt2zzJeSN2xT8BeFDby4 Mapped!!\n",
      "1DS1eUuXPQvBU8kt2zzJeSN2xT8BeFDby4 Mapped!!\n",
      "1DS1eUuXPQvBU8kt2zzJeSN2xT8BeFDby4 Mapped!!\n",
      "1DS1eUuXPQvBU8kt2zzJeSN2xT8BeFDby4 Mapped!!\n",
      "1DS1eUuXPQvBU8kt2zzJeSN2xT8BeFDby4 Mapped!!\n",
      "1DS1eUuXPQvBU8kt2zzJeSN2xT8BeFDby4 Mapped!!\n",
      "1DS1eUuXPQvBU8kt2zzJeSN2xT8BeFDby4 Mapped!!\n",
      "1DS1eUuXPQvBU8kt2zzJeSN2xT8BeFDby4 Mapped!!\n",
      "1DS1eUuXPQvBU8kt2zzJeSN2xT8BeFDby4 Mapped!!\n",
      "1DS1eUuXPQvBU8kt2zzJeSN2xT8BeFDby4 Mapped!!\n",
      "1DS1eUuXPQvBU8kt2zzJeSN2xT8BeFDby4 Mapped!!\n"
     ]
    },
    {
     "ename": "SSLError",
     "evalue": "HTTPSConnectionPool(host='www.googleapis.com', port=443): Max retries exceeded with url: /bigquery/v2/projects/capstone-202618/jobs (Caused by SSLError(SSLError(\"bad handshake: SysCallError(-1, 'Unexpected EOF')\",),))",
     "output_type": "error",
     "traceback": [
      "\u001b[0;31m---------------------------------------------------------------------------\u001b[0m",
      "\u001b[0;31mSSLError\u001b[0m                                  Traceback (most recent call last)",
      "\u001b[0;32m<ipython-input-17-897ef5676100>\u001b[0m in \u001b[0;36m<module>\u001b[0;34m()\u001b[0m\n\u001b[1;32m      2\u001b[0m     \u001b[0;32mtry\u001b[0m\u001b[0;34m:\u001b[0m\u001b[0;34m\u001b[0m\u001b[0m\n\u001b[1;32m      3\u001b[0m         \u001b[0mpubKey\u001b[0m \u001b[0;34m=\u001b[0m \u001b[0mgbq\u001b[0m\u001b[0;34m.\u001b[0m\u001b[0mread_gbq\u001b[0m\u001b[0;34m(\u001b[0m\u001b[0;34m'SELECT timestamp, transaction_id, inputs.input_pubkey_base58, outputs.output_satoshis, outputs.output_pubkey_base58 FROM (FLATTEN(DB.transactions_all, outputs.output_satoshis)) WHERE inputs.input_pubkey_base58 == \"{}\"'\u001b[0m\u001b[0;34m.\u001b[0m\u001b[0mformat\u001b[0m\u001b[0;34m(\u001b[0m\u001b[0mx\u001b[0m\u001b[0;34m)\u001b[0m\u001b[0;34m,\u001b[0m \u001b[0mprojectid\u001b[0m\u001b[0;34m)\u001b[0m\u001b[0;34m\u001b[0m\u001b[0m\n\u001b[0;32m----> 4\u001b[0;31m         \u001b[0mgbq\u001b[0m\u001b[0;34m.\u001b[0m\u001b[0mto_gbq\u001b[0m\u001b[0;34m(\u001b[0m\u001b[0mpubKey\u001b[0m\u001b[0;34m,\u001b[0m \u001b[0;34m'DB.{}'\u001b[0m\u001b[0;34m.\u001b[0m\u001b[0mformat\u001b[0m\u001b[0;34m(\u001b[0m\u001b[0mx\u001b[0m\u001b[0;34m)\u001b[0m\u001b[0;34m,\u001b[0m \u001b[0mprojectid\u001b[0m\u001b[0;34m,\u001b[0m \u001b[0mif_exists\u001b[0m\u001b[0;34m=\u001b[0m\u001b[0;34m'replace'\u001b[0m\u001b[0;34m)\u001b[0m\u001b[0;34m\u001b[0m\u001b[0m\n\u001b[0m\u001b[1;32m      5\u001b[0m     \u001b[0;32mexcept\u001b[0m \u001b[0mKeyError\u001b[0m\u001b[0;34m,\u001b[0m \u001b[0me\u001b[0m\u001b[0;34m:\u001b[0m\u001b[0;34m\u001b[0m\u001b[0m\n\u001b[1;32m      6\u001b[0m         \u001b[0;32mprint\u001b[0m\u001b[0;34m(\u001b[0m\u001b[0;34m\"Error! type:{} - message:{}\"\u001b[0m\u001b[0;34m.\u001b[0m\u001b[0mformat\u001b[0m\u001b[0;34m(\u001b[0m\u001b[0mstr\u001b[0m\u001b[0;34m(\u001b[0m\u001b[0mtype\u001b[0m\u001b[0;34m(\u001b[0m\u001b[0me\u001b[0m\u001b[0;34m)\u001b[0m\u001b[0;34m)\u001b[0m\u001b[0;34m,\u001b[0m \u001b[0mstr\u001b[0m\u001b[0;34m(\u001b[0m\u001b[0me\u001b[0m\u001b[0;34m)\u001b[0m\u001b[0;34m)\u001b[0m\u001b[0;34m)\u001b[0m\u001b[0;34m\u001b[0m\u001b[0m\n",
      "\u001b[0;32m/Users/timmcwilliams/anaconda2/lib/python2.7/site-packages/pandas/io/gbq.pyc\u001b[0m in \u001b[0;36mto_gbq\u001b[0;34m(dataframe, destination_table, project_id, chunksize, verbose, reauth, if_exists, private_key)\u001b[0m\n\u001b[1;32m    106\u001b[0m                       \u001b[0mchunksize\u001b[0m\u001b[0;34m=\u001b[0m\u001b[0mchunksize\u001b[0m\u001b[0;34m,\u001b[0m\u001b[0;34m\u001b[0m\u001b[0m\n\u001b[1;32m    107\u001b[0m                       \u001b[0mverbose\u001b[0m\u001b[0;34m=\u001b[0m\u001b[0mverbose\u001b[0m\u001b[0;34m,\u001b[0m \u001b[0mreauth\u001b[0m\u001b[0;34m=\u001b[0m\u001b[0mreauth\u001b[0m\u001b[0;34m,\u001b[0m\u001b[0;34m\u001b[0m\u001b[0m\n\u001b[0;32m--> 108\u001b[0;31m                       if_exists=if_exists, private_key=private_key)\n\u001b[0m",
      "\u001b[0;32m/Users/timmcwilliams/anaconda2/lib/python2.7/site-packages/pandas_gbq/gbq.pyc\u001b[0m in \u001b[0;36mto_gbq\u001b[0;34m(dataframe, destination_table, project_id, chunksize, verbose, reauth, if_exists, private_key, auth_local_webserver, table_schema)\u001b[0m\n\u001b[1;32m    966\u001b[0m         \u001b[0;32melif\u001b[0m \u001b[0mif_exists\u001b[0m \u001b[0;34m==\u001b[0m \u001b[0;34m'replace'\u001b[0m\u001b[0;34m:\u001b[0m\u001b[0;34m\u001b[0m\u001b[0m\n\u001b[1;32m    967\u001b[0m             connector.delete_and_recreate_table(\n\u001b[0;32m--> 968\u001b[0;31m                 dataset_id, table_id, table_schema)\n\u001b[0m\u001b[1;32m    969\u001b[0m         \u001b[0;32melif\u001b[0m \u001b[0mif_exists\u001b[0m \u001b[0;34m==\u001b[0m \u001b[0;34m'append'\u001b[0m\u001b[0;34m:\u001b[0m\u001b[0;34m\u001b[0m\u001b[0m\n\u001b[1;32m    970\u001b[0m             if not connector.schema_is_subset(dataset_id,\n",
      "\u001b[0;32m/Users/timmcwilliams/anaconda2/lib/python2.7/site-packages/pandas_gbq/gbq.pyc\u001b[0m in \u001b[0;36mdelete_and_recreate_table\u001b[0;34m(self, dataset_id, table_id, table_schema)\u001b[0m\n\u001b[1;32m    685\u001b[0m \u001b[0;34m\u001b[0m\u001b[0m\n\u001b[1;32m    686\u001b[0m         table = _Table(self.project_id, dataset_id,\n\u001b[0;32m--> 687\u001b[0;31m                        private_key=self.private_key)\n\u001b[0m\u001b[1;32m    688\u001b[0m         \u001b[0mtable\u001b[0m\u001b[0;34m.\u001b[0m\u001b[0mdelete\u001b[0m\u001b[0;34m(\u001b[0m\u001b[0mtable_id\u001b[0m\u001b[0;34m)\u001b[0m\u001b[0;34m\u001b[0m\u001b[0m\n\u001b[1;32m    689\u001b[0m         \u001b[0mtable\u001b[0m\u001b[0;34m.\u001b[0m\u001b[0mcreate\u001b[0m\u001b[0;34m(\u001b[0m\u001b[0mtable_id\u001b[0m\u001b[0;34m,\u001b[0m \u001b[0mtable_schema\u001b[0m\u001b[0;34m)\u001b[0m\u001b[0;34m\u001b[0m\u001b[0m\n",
      "\u001b[0;32m/Users/timmcwilliams/anaconda2/lib/python2.7/site-packages/pandas_gbq/gbq.pyc\u001b[0m in \u001b[0;36m__init__\u001b[0;34m(self, project_id, dataset_id, reauth, private_key)\u001b[0m\n\u001b[1;32m   1009\u001b[0m     \u001b[0;32mdef\u001b[0m \u001b[0m__init__\u001b[0m\u001b[0;34m(\u001b[0m\u001b[0mself\u001b[0m\u001b[0;34m,\u001b[0m \u001b[0mproject_id\u001b[0m\u001b[0;34m,\u001b[0m \u001b[0mdataset_id\u001b[0m\u001b[0;34m,\u001b[0m \u001b[0mreauth\u001b[0m\u001b[0;34m=\u001b[0m\u001b[0mFalse\u001b[0m\u001b[0;34m,\u001b[0m \u001b[0mprivate_key\u001b[0m\u001b[0;34m=\u001b[0m\u001b[0mNone\u001b[0m\u001b[0;34m)\u001b[0m\u001b[0;34m:\u001b[0m\u001b[0;34m\u001b[0m\u001b[0m\n\u001b[1;32m   1010\u001b[0m         \u001b[0mself\u001b[0m\u001b[0;34m.\u001b[0m\u001b[0mdataset_id\u001b[0m \u001b[0;34m=\u001b[0m \u001b[0mdataset_id\u001b[0m\u001b[0;34m\u001b[0m\u001b[0m\n\u001b[0;32m-> 1011\u001b[0;31m         \u001b[0msuper\u001b[0m\u001b[0;34m(\u001b[0m\u001b[0m_Table\u001b[0m\u001b[0;34m,\u001b[0m \u001b[0mself\u001b[0m\u001b[0;34m)\u001b[0m\u001b[0;34m.\u001b[0m\u001b[0m__init__\u001b[0m\u001b[0;34m(\u001b[0m\u001b[0mproject_id\u001b[0m\u001b[0;34m,\u001b[0m \u001b[0mreauth\u001b[0m\u001b[0;34m,\u001b[0m \u001b[0mprivate_key\u001b[0m\u001b[0;34m)\u001b[0m\u001b[0;34m\u001b[0m\u001b[0m\n\u001b[0m\u001b[1;32m   1012\u001b[0m \u001b[0;34m\u001b[0m\u001b[0m\n\u001b[1;32m   1013\u001b[0m     \u001b[0;32mdef\u001b[0m \u001b[0mexists\u001b[0m\u001b[0;34m(\u001b[0m\u001b[0mself\u001b[0m\u001b[0;34m,\u001b[0m \u001b[0mtable_id\u001b[0m\u001b[0;34m)\u001b[0m\u001b[0;34m:\u001b[0m\u001b[0;34m\u001b[0m\u001b[0m\n",
      "\u001b[0;32m/Users/timmcwilliams/anaconda2/lib/python2.7/site-packages/pandas_gbq/gbq.pyc\u001b[0m in \u001b[0;36m__init__\u001b[0;34m(self, project_id, reauth, private_key, auth_local_webserver, dialect)\u001b[0m\n\u001b[1;32m    187\u001b[0m         \u001b[0mself\u001b[0m\u001b[0;34m.\u001b[0m\u001b[0mdialect\u001b[0m \u001b[0;34m=\u001b[0m \u001b[0mdialect\u001b[0m\u001b[0;34m\u001b[0m\u001b[0m\n\u001b[1;32m    188\u001b[0m         \u001b[0mself\u001b[0m\u001b[0;34m.\u001b[0m\u001b[0mcredentials_path\u001b[0m \u001b[0;34m=\u001b[0m \u001b[0m_get_credentials_file\u001b[0m\u001b[0;34m(\u001b[0m\u001b[0;34m)\u001b[0m\u001b[0;34m\u001b[0m\u001b[0m\n\u001b[0;32m--> 189\u001b[0;31m         \u001b[0mself\u001b[0m\u001b[0;34m.\u001b[0m\u001b[0mcredentials\u001b[0m \u001b[0;34m=\u001b[0m \u001b[0mself\u001b[0m\u001b[0;34m.\u001b[0m\u001b[0mget_credentials\u001b[0m\u001b[0;34m(\u001b[0m\u001b[0;34m)\u001b[0m\u001b[0;34m\u001b[0m\u001b[0m\n\u001b[0m\u001b[1;32m    190\u001b[0m         \u001b[0mself\u001b[0m\u001b[0;34m.\u001b[0m\u001b[0mclient\u001b[0m \u001b[0;34m=\u001b[0m \u001b[0mself\u001b[0m\u001b[0;34m.\u001b[0m\u001b[0mget_client\u001b[0m\u001b[0;34m(\u001b[0m\u001b[0;34m)\u001b[0m\u001b[0;34m\u001b[0m\u001b[0m\n\u001b[1;32m    191\u001b[0m \u001b[0;34m\u001b[0m\u001b[0m\n",
      "\u001b[0;32m/Users/timmcwilliams/anaconda2/lib/python2.7/site-packages/pandas_gbq/gbq.pyc\u001b[0m in \u001b[0;36mget_credentials\u001b[0;34m(self)\u001b[0m\n\u001b[1;32m    201\u001b[0m             \u001b[0mcredentials\u001b[0m \u001b[0;34m=\u001b[0m \u001b[0mself\u001b[0m\u001b[0;34m.\u001b[0m\u001b[0mget_application_default_credentials\u001b[0m\u001b[0;34m(\u001b[0m\u001b[0;34m)\u001b[0m\u001b[0;34m\u001b[0m\u001b[0m\n\u001b[1;32m    202\u001b[0m             \u001b[0;32mif\u001b[0m \u001b[0;32mnot\u001b[0m \u001b[0mcredentials\u001b[0m\u001b[0;34m:\u001b[0m\u001b[0;34m\u001b[0m\u001b[0m\n\u001b[0;32m--> 203\u001b[0;31m                 \u001b[0mcredentials\u001b[0m \u001b[0;34m=\u001b[0m \u001b[0mself\u001b[0m\u001b[0;34m.\u001b[0m\u001b[0mget_user_account_credentials\u001b[0m\u001b[0;34m(\u001b[0m\u001b[0;34m)\u001b[0m\u001b[0;34m\u001b[0m\u001b[0m\n\u001b[0m\u001b[1;32m    204\u001b[0m             \u001b[0;32mreturn\u001b[0m \u001b[0mcredentials\u001b[0m\u001b[0;34m\u001b[0m\u001b[0m\n\u001b[1;32m    205\u001b[0m \u001b[0;34m\u001b[0m\u001b[0m\n",
      "\u001b[0;32m/Users/timmcwilliams/anaconda2/lib/python2.7/site-packages/pandas_gbq/gbq.pyc\u001b[0m in \u001b[0;36mget_user_account_credentials\u001b[0;34m(self)\u001b[0m\n\u001b[1;32m    356\u001b[0m         \u001b[0;32mfrom\u001b[0m \u001b[0moauthlib\u001b[0m\u001b[0;34m.\u001b[0m\u001b[0moauth2\u001b[0m\u001b[0;34m.\u001b[0m\u001b[0mrfc6749\u001b[0m\u001b[0;34m.\u001b[0m\u001b[0merrors\u001b[0m \u001b[0;32mimport\u001b[0m \u001b[0mOAuth2Error\u001b[0m\u001b[0;34m\u001b[0m\u001b[0m\n\u001b[1;32m    357\u001b[0m \u001b[0;34m\u001b[0m\u001b[0m\n\u001b[0;32m--> 358\u001b[0;31m         \u001b[0mcredentials\u001b[0m \u001b[0;34m=\u001b[0m \u001b[0mself\u001b[0m\u001b[0;34m.\u001b[0m\u001b[0mload_user_account_credentials\u001b[0m\u001b[0;34m(\u001b[0m\u001b[0;34m)\u001b[0m\u001b[0;34m\u001b[0m\u001b[0m\n\u001b[0m\u001b[1;32m    359\u001b[0m \u001b[0;34m\u001b[0m\u001b[0m\n\u001b[1;32m    360\u001b[0m         client_config = {\n",
      "\u001b[0;32m/Users/timmcwilliams/anaconda2/lib/python2.7/site-packages/pandas_gbq/gbq.pyc\u001b[0m in \u001b[0;36mload_user_account_credentials\u001b[0;34m(self)\u001b[0m\n\u001b[1;32m    289\u001b[0m         \u001b[0mcredentials\u001b[0m\u001b[0;34m.\u001b[0m\u001b[0mrefresh\u001b[0m\u001b[0;34m(\u001b[0m\u001b[0mrequest\u001b[0m\u001b[0;34m)\u001b[0m\u001b[0;34m\u001b[0m\u001b[0m\n\u001b[1;32m    290\u001b[0m \u001b[0;34m\u001b[0m\u001b[0m\n\u001b[0;32m--> 291\u001b[0;31m         \u001b[0;32mreturn\u001b[0m \u001b[0m_try_credentials\u001b[0m\u001b[0;34m(\u001b[0m\u001b[0mself\u001b[0m\u001b[0;34m.\u001b[0m\u001b[0mproject_id\u001b[0m\u001b[0;34m,\u001b[0m \u001b[0mcredentials\u001b[0m\u001b[0;34m)\u001b[0m\u001b[0;34m\u001b[0m\u001b[0m\n\u001b[0m\u001b[1;32m    292\u001b[0m \u001b[0;34m\u001b[0m\u001b[0m\n\u001b[1;32m    293\u001b[0m     \u001b[0;32mdef\u001b[0m \u001b[0mget_default_credentials_path\u001b[0m\u001b[0;34m(\u001b[0m\u001b[0mself\u001b[0m\u001b[0;34m)\u001b[0m\u001b[0;34m:\u001b[0m\u001b[0;34m\u001b[0m\u001b[0m\n",
      "\u001b[0;32m/Users/timmcwilliams/anaconda2/lib/python2.7/site-packages/pandas_gbq/gbq.pyc\u001b[0m in \u001b[0;36m_try_credentials\u001b[0;34m(project_id, credentials)\u001b[0m\n\u001b[1;32m     80\u001b[0m         \u001b[0mclient\u001b[0m \u001b[0;34m=\u001b[0m \u001b[0mbigquery\u001b[0m\u001b[0;34m.\u001b[0m\u001b[0mClient\u001b[0m\u001b[0;34m(\u001b[0m\u001b[0mproject\u001b[0m\u001b[0;34m=\u001b[0m\u001b[0mproject_id\u001b[0m\u001b[0;34m,\u001b[0m \u001b[0mcredentials\u001b[0m\u001b[0;34m=\u001b[0m\u001b[0mcredentials\u001b[0m\u001b[0;34m)\u001b[0m\u001b[0;34m\u001b[0m\u001b[0m\n\u001b[1;32m     81\u001b[0m         \u001b[0;31m# Check if the application has rights to the BigQuery project\u001b[0m\u001b[0;34m\u001b[0m\u001b[0;34m\u001b[0m\u001b[0m\n\u001b[0;32m---> 82\u001b[0;31m         \u001b[0mclient\u001b[0m\u001b[0;34m.\u001b[0m\u001b[0mquery\u001b[0m\u001b[0;34m(\u001b[0m\u001b[0;34m'SELECT 1'\u001b[0m\u001b[0;34m)\u001b[0m\u001b[0;34m.\u001b[0m\u001b[0mresult\u001b[0m\u001b[0;34m(\u001b[0m\u001b[0;34m)\u001b[0m\u001b[0;34m\u001b[0m\u001b[0m\n\u001b[0m\u001b[1;32m     83\u001b[0m         \u001b[0;32mreturn\u001b[0m \u001b[0mcredentials\u001b[0m\u001b[0;34m\u001b[0m\u001b[0m\n\u001b[1;32m     84\u001b[0m     \u001b[0;32mexcept\u001b[0m \u001b[0mgoogle\u001b[0m\u001b[0;34m.\u001b[0m\u001b[0mapi_core\u001b[0m\u001b[0;34m.\u001b[0m\u001b[0mexceptions\u001b[0m\u001b[0;34m.\u001b[0m\u001b[0mGoogleAPIError\u001b[0m\u001b[0;34m:\u001b[0m\u001b[0;34m\u001b[0m\u001b[0m\n",
      "\u001b[0;32m/Users/timmcwilliams/anaconda2/lib/python2.7/site-packages/google/cloud/bigquery/client.pyc\u001b[0m in \u001b[0;36mquery\u001b[0;34m(self, query, job_config, job_id, job_id_prefix, location, project, retry)\u001b[0m\n\u001b[1;32m   1060\u001b[0m         query_job = job.QueryJob(\n\u001b[1;32m   1061\u001b[0m             job_ref, query, client=self, job_config=job_config)\n\u001b[0;32m-> 1062\u001b[0;31m         \u001b[0mquery_job\u001b[0m\u001b[0;34m.\u001b[0m\u001b[0m_begin\u001b[0m\u001b[0;34m(\u001b[0m\u001b[0mretry\u001b[0m\u001b[0;34m=\u001b[0m\u001b[0mretry\u001b[0m\u001b[0;34m)\u001b[0m\u001b[0;34m\u001b[0m\u001b[0m\n\u001b[0m\u001b[1;32m   1063\u001b[0m         \u001b[0;32mreturn\u001b[0m \u001b[0mquery_job\u001b[0m\u001b[0;34m\u001b[0m\u001b[0m\n\u001b[1;32m   1064\u001b[0m \u001b[0;34m\u001b[0m\u001b[0m\n",
      "\u001b[0;32m/Users/timmcwilliams/anaconda2/lib/python2.7/site-packages/google/cloud/bigquery/job.pyc\u001b[0m in \u001b[0;36m_begin\u001b[0;34m(self, client, retry)\u001b[0m\n\u001b[1;32m    493\u001b[0m         api_response = client._call_api(\n\u001b[1;32m    494\u001b[0m             \u001b[0mretry\u001b[0m\u001b[0;34m,\u001b[0m\u001b[0;34m\u001b[0m\u001b[0m\n\u001b[0;32m--> 495\u001b[0;31m             method='POST', path=path, data=self._build_resource())\n\u001b[0m\u001b[1;32m    496\u001b[0m         \u001b[0mself\u001b[0m\u001b[0;34m.\u001b[0m\u001b[0m_set_properties\u001b[0m\u001b[0;34m(\u001b[0m\u001b[0mapi_response\u001b[0m\u001b[0;34m)\u001b[0m\u001b[0;34m\u001b[0m\u001b[0m\n\u001b[1;32m    497\u001b[0m \u001b[0;34m\u001b[0m\u001b[0m\n",
      "\u001b[0;32m/Users/timmcwilliams/anaconda2/lib/python2.7/site-packages/google/cloud/bigquery/client.pyc\u001b[0m in \u001b[0;36m_call_api\u001b[0;34m(self, retry, **kwargs)\u001b[0m\n\u001b[1;32m    281\u001b[0m         \u001b[0;32mif\u001b[0m \u001b[0mretry\u001b[0m\u001b[0;34m:\u001b[0m\u001b[0;34m\u001b[0m\u001b[0m\n\u001b[1;32m    282\u001b[0m             \u001b[0mcall\u001b[0m \u001b[0;34m=\u001b[0m \u001b[0mretry\u001b[0m\u001b[0;34m(\u001b[0m\u001b[0mcall\u001b[0m\u001b[0;34m)\u001b[0m\u001b[0;34m\u001b[0m\u001b[0m\n\u001b[0;32m--> 283\u001b[0;31m         \u001b[0;32mreturn\u001b[0m \u001b[0mcall\u001b[0m\u001b[0;34m(\u001b[0m\u001b[0;34m)\u001b[0m\u001b[0;34m\u001b[0m\u001b[0m\n\u001b[0m\u001b[1;32m    284\u001b[0m \u001b[0;34m\u001b[0m\u001b[0m\n\u001b[1;32m    285\u001b[0m     \u001b[0;32mdef\u001b[0m \u001b[0mget_dataset\u001b[0m\u001b[0;34m(\u001b[0m\u001b[0mself\u001b[0m\u001b[0;34m,\u001b[0m \u001b[0mdataset_ref\u001b[0m\u001b[0;34m,\u001b[0m \u001b[0mretry\u001b[0m\u001b[0;34m=\u001b[0m\u001b[0mDEFAULT_RETRY\u001b[0m\u001b[0;34m)\u001b[0m\u001b[0;34m:\u001b[0m\u001b[0;34m\u001b[0m\u001b[0m\n",
      "\u001b[0;32m/Users/timmcwilliams/anaconda2/lib/python2.7/site-packages/google/api_core/retry.pyc\u001b[0m in \u001b[0;36mretry_wrapped_func\u001b[0;34m(*args, **kwargs)\u001b[0m\n\u001b[1;32m    258\u001b[0m                 \u001b[0msleep_generator\u001b[0m\u001b[0;34m,\u001b[0m\u001b[0;34m\u001b[0m\u001b[0m\n\u001b[1;32m    259\u001b[0m                 \u001b[0mself\u001b[0m\u001b[0;34m.\u001b[0m\u001b[0m_deadline\u001b[0m\u001b[0;34m,\u001b[0m\u001b[0;34m\u001b[0m\u001b[0m\n\u001b[0;32m--> 260\u001b[0;31m                 \u001b[0mon_error\u001b[0m\u001b[0;34m=\u001b[0m\u001b[0mon_error\u001b[0m\u001b[0;34m,\u001b[0m\u001b[0;34m\u001b[0m\u001b[0m\n\u001b[0m\u001b[1;32m    261\u001b[0m             )\n\u001b[1;32m    262\u001b[0m \u001b[0;34m\u001b[0m\u001b[0m\n",
      "\u001b[0;32m/Users/timmcwilliams/anaconda2/lib/python2.7/site-packages/google/api_core/retry.pyc\u001b[0m in \u001b[0;36mretry_target\u001b[0;34m(target, predicate, sleep_generator, deadline, on_error)\u001b[0m\n\u001b[1;32m    175\u001b[0m     \u001b[0;32mfor\u001b[0m \u001b[0msleep\u001b[0m \u001b[0;32min\u001b[0m \u001b[0msleep_generator\u001b[0m\u001b[0;34m:\u001b[0m\u001b[0;34m\u001b[0m\u001b[0m\n\u001b[1;32m    176\u001b[0m         \u001b[0;32mtry\u001b[0m\u001b[0;34m:\u001b[0m\u001b[0;34m\u001b[0m\u001b[0m\n\u001b[0;32m--> 177\u001b[0;31m             \u001b[0;32mreturn\u001b[0m \u001b[0mtarget\u001b[0m\u001b[0;34m(\u001b[0m\u001b[0;34m)\u001b[0m\u001b[0;34m\u001b[0m\u001b[0m\n\u001b[0m\u001b[1;32m    178\u001b[0m \u001b[0;34m\u001b[0m\u001b[0m\n\u001b[1;32m    179\u001b[0m         \u001b[0;31m# pylint: disable=broad-except\u001b[0m\u001b[0;34m\u001b[0m\u001b[0;34m\u001b[0m\u001b[0m\n",
      "\u001b[0;32m/Users/timmcwilliams/anaconda2/lib/python2.7/site-packages/google/cloud/_http.pyc\u001b[0m in \u001b[0;36mapi_request\u001b[0;34m(self, method, path, query_params, data, content_type, headers, api_base_url, api_version, expect_json, _target_object)\u001b[0m\n\u001b[1;32m    288\u001b[0m         response = self._make_request(\n\u001b[1;32m    289\u001b[0m             \u001b[0mmethod\u001b[0m\u001b[0;34m=\u001b[0m\u001b[0mmethod\u001b[0m\u001b[0;34m,\u001b[0m \u001b[0murl\u001b[0m\u001b[0;34m=\u001b[0m\u001b[0murl\u001b[0m\u001b[0;34m,\u001b[0m \u001b[0mdata\u001b[0m\u001b[0;34m=\u001b[0m\u001b[0mdata\u001b[0m\u001b[0;34m,\u001b[0m \u001b[0mcontent_type\u001b[0m\u001b[0;34m=\u001b[0m\u001b[0mcontent_type\u001b[0m\u001b[0;34m,\u001b[0m\u001b[0;34m\u001b[0m\u001b[0m\n\u001b[0;32m--> 290\u001b[0;31m             headers=headers, target_object=_target_object)\n\u001b[0m\u001b[1;32m    291\u001b[0m \u001b[0;34m\u001b[0m\u001b[0m\n\u001b[1;32m    292\u001b[0m         \u001b[0;32mif\u001b[0m \u001b[0;32mnot\u001b[0m \u001b[0;36m200\u001b[0m \u001b[0;34m<=\u001b[0m \u001b[0mresponse\u001b[0m\u001b[0;34m.\u001b[0m\u001b[0mstatus_code\u001b[0m \u001b[0;34m<\u001b[0m \u001b[0;36m300\u001b[0m\u001b[0;34m:\u001b[0m\u001b[0;34m\u001b[0m\u001b[0m\n",
      "\u001b[0;32m/Users/timmcwilliams/anaconda2/lib/python2.7/site-packages/google/cloud/_http.pyc\u001b[0m in \u001b[0;36m_make_request\u001b[0;34m(self, method, url, data, content_type, headers, target_object)\u001b[0m\n\u001b[1;32m    181\u001b[0m         \u001b[0mheaders\u001b[0m\u001b[0;34m[\u001b[0m\u001b[0;34m'User-Agent'\u001b[0m\u001b[0;34m]\u001b[0m \u001b[0;34m=\u001b[0m \u001b[0mself\u001b[0m\u001b[0;34m.\u001b[0m\u001b[0mUSER_AGENT\u001b[0m\u001b[0;34m\u001b[0m\u001b[0m\n\u001b[1;32m    182\u001b[0m \u001b[0;34m\u001b[0m\u001b[0m\n\u001b[0;32m--> 183\u001b[0;31m         \u001b[0;32mreturn\u001b[0m \u001b[0mself\u001b[0m\u001b[0;34m.\u001b[0m\u001b[0m_do_request\u001b[0m\u001b[0;34m(\u001b[0m\u001b[0mmethod\u001b[0m\u001b[0;34m,\u001b[0m \u001b[0murl\u001b[0m\u001b[0;34m,\u001b[0m \u001b[0mheaders\u001b[0m\u001b[0;34m,\u001b[0m \u001b[0mdata\u001b[0m\u001b[0;34m,\u001b[0m \u001b[0mtarget_object\u001b[0m\u001b[0;34m)\u001b[0m\u001b[0;34m\u001b[0m\u001b[0m\n\u001b[0m\u001b[1;32m    184\u001b[0m \u001b[0;34m\u001b[0m\u001b[0m\n\u001b[1;32m    185\u001b[0m     def _do_request(self, method, url, headers, data,\n",
      "\u001b[0;32m/Users/timmcwilliams/anaconda2/lib/python2.7/site-packages/google/cloud/_http.pyc\u001b[0m in \u001b[0;36m_do_request\u001b[0;34m(self, method, url, headers, data, target_object)\u001b[0m\n\u001b[1;32m    210\u001b[0m         \"\"\"\n\u001b[1;32m    211\u001b[0m         return self.http.request(\n\u001b[0;32m--> 212\u001b[0;31m             url=url, method=method, headers=headers, data=data)\n\u001b[0m\u001b[1;32m    213\u001b[0m \u001b[0;34m\u001b[0m\u001b[0m\n\u001b[1;32m    214\u001b[0m     def api_request(self, method, path, query_params=None,\n",
      "\u001b[0;32m/Users/timmcwilliams/anaconda2/lib/python2.7/site-packages/google/auth/transport/requests.pyc\u001b[0m in \u001b[0;36mrequest\u001b[0;34m(self, method, url, data, headers, **kwargs)\u001b[0m\n\u001b[1;32m    199\u001b[0m \u001b[0;34m\u001b[0m\u001b[0m\n\u001b[1;32m    200\u001b[0m         response = super(AuthorizedSession, self).request(\n\u001b[0;32m--> 201\u001b[0;31m             method, url, data=data, headers=request_headers, **kwargs)\n\u001b[0m\u001b[1;32m    202\u001b[0m \u001b[0;34m\u001b[0m\u001b[0m\n\u001b[1;32m    203\u001b[0m         \u001b[0;31m# If the response indicated that the credentials needed to be\u001b[0m\u001b[0;34m\u001b[0m\u001b[0;34m\u001b[0m\u001b[0m\n",
      "\u001b[0;32m/Users/timmcwilliams/anaconda2/lib/python2.7/site-packages/requests/sessions.pyc\u001b[0m in \u001b[0;36mrequest\u001b[0;34m(self, method, url, params, data, headers, cookies, files, auth, timeout, allow_redirects, proxies, hooks, stream, verify, cert, json)\u001b[0m\n\u001b[1;32m    506\u001b[0m         }\n\u001b[1;32m    507\u001b[0m         \u001b[0msend_kwargs\u001b[0m\u001b[0;34m.\u001b[0m\u001b[0mupdate\u001b[0m\u001b[0;34m(\u001b[0m\u001b[0msettings\u001b[0m\u001b[0;34m)\u001b[0m\u001b[0;34m\u001b[0m\u001b[0m\n\u001b[0;32m--> 508\u001b[0;31m         \u001b[0mresp\u001b[0m \u001b[0;34m=\u001b[0m \u001b[0mself\u001b[0m\u001b[0;34m.\u001b[0m\u001b[0msend\u001b[0m\u001b[0;34m(\u001b[0m\u001b[0mprep\u001b[0m\u001b[0;34m,\u001b[0m \u001b[0;34m**\u001b[0m\u001b[0msend_kwargs\u001b[0m\u001b[0;34m)\u001b[0m\u001b[0;34m\u001b[0m\u001b[0m\n\u001b[0m\u001b[1;32m    509\u001b[0m \u001b[0;34m\u001b[0m\u001b[0m\n\u001b[1;32m    510\u001b[0m         \u001b[0;32mreturn\u001b[0m \u001b[0mresp\u001b[0m\u001b[0;34m\u001b[0m\u001b[0m\n",
      "\u001b[0;32m/Users/timmcwilliams/anaconda2/lib/python2.7/site-packages/requests/sessions.pyc\u001b[0m in \u001b[0;36msend\u001b[0;34m(self, request, **kwargs)\u001b[0m\n\u001b[1;32m    616\u001b[0m \u001b[0;34m\u001b[0m\u001b[0m\n\u001b[1;32m    617\u001b[0m         \u001b[0;31m# Send the request\u001b[0m\u001b[0;34m\u001b[0m\u001b[0;34m\u001b[0m\u001b[0m\n\u001b[0;32m--> 618\u001b[0;31m         \u001b[0mr\u001b[0m \u001b[0;34m=\u001b[0m \u001b[0madapter\u001b[0m\u001b[0;34m.\u001b[0m\u001b[0msend\u001b[0m\u001b[0;34m(\u001b[0m\u001b[0mrequest\u001b[0m\u001b[0;34m,\u001b[0m \u001b[0;34m**\u001b[0m\u001b[0mkwargs\u001b[0m\u001b[0;34m)\u001b[0m\u001b[0;34m\u001b[0m\u001b[0m\n\u001b[0m\u001b[1;32m    619\u001b[0m \u001b[0;34m\u001b[0m\u001b[0m\n\u001b[1;32m    620\u001b[0m         \u001b[0;31m# Total elapsed time of the request (approximately)\u001b[0m\u001b[0;34m\u001b[0m\u001b[0;34m\u001b[0m\u001b[0m\n",
      "\u001b[0;32m/Users/timmcwilliams/anaconda2/lib/python2.7/site-packages/requests/adapters.pyc\u001b[0m in \u001b[0;36msend\u001b[0;34m(self, request, stream, timeout, verify, cert, proxies)\u001b[0m\n\u001b[1;32m    504\u001b[0m             \u001b[0;32mif\u001b[0m \u001b[0misinstance\u001b[0m\u001b[0;34m(\u001b[0m\u001b[0me\u001b[0m\u001b[0;34m.\u001b[0m\u001b[0mreason\u001b[0m\u001b[0;34m,\u001b[0m \u001b[0m_SSLError\u001b[0m\u001b[0;34m)\u001b[0m\u001b[0;34m:\u001b[0m\u001b[0;34m\u001b[0m\u001b[0m\n\u001b[1;32m    505\u001b[0m                 \u001b[0;31m# This branch is for urllib3 v1.22 and later.\u001b[0m\u001b[0;34m\u001b[0m\u001b[0;34m\u001b[0m\u001b[0m\n\u001b[0;32m--> 506\u001b[0;31m                 \u001b[0;32mraise\u001b[0m \u001b[0mSSLError\u001b[0m\u001b[0;34m(\u001b[0m\u001b[0me\u001b[0m\u001b[0;34m,\u001b[0m \u001b[0mrequest\u001b[0m\u001b[0;34m=\u001b[0m\u001b[0mrequest\u001b[0m\u001b[0;34m)\u001b[0m\u001b[0;34m\u001b[0m\u001b[0m\n\u001b[0m\u001b[1;32m    507\u001b[0m \u001b[0;34m\u001b[0m\u001b[0m\n\u001b[1;32m    508\u001b[0m             \u001b[0;32mraise\u001b[0m \u001b[0mConnectionError\u001b[0m\u001b[0;34m(\u001b[0m\u001b[0me\u001b[0m\u001b[0;34m,\u001b[0m \u001b[0mrequest\u001b[0m\u001b[0;34m=\u001b[0m\u001b[0mrequest\u001b[0m\u001b[0;34m)\u001b[0m\u001b[0;34m\u001b[0m\u001b[0m\n",
      "\u001b[0;31mSSLError\u001b[0m: HTTPSConnectionPool(host='www.googleapis.com', port=443): Max retries exceeded with url: /bigquery/v2/projects/capstone-202618/jobs (Caused by SSLError(SSLError(\"bad handshake: SysCallError(-1, 'Unexpected EOF')\",),))"
     ]
    }
   ],
   "source": [
    "for x in transaction['inputs_input_pubkey_base58']:\n",
    "    try:\n",
    "        pubKey = gbq.read_gbq('SELECT timestamp, transaction_id, inputs.input_pubkey_base58, outputs.output_satoshis, outputs.output_pubkey_base58 FROM (FLATTEN(DB.transactions_all, outputs.output_satoshis)) WHERE inputs.input_pubkey_base58 == \"{}\"'.format(x), projectid)\n",
    "        gbq.to_gbq(pubKey, 'DB.{}'.format(x), projectid, if_exists='replace')\n",
    "    except KeyError, e:\n",
    "        print(\"Error! type:{} - message:{}\".format(str(type(e)), str(e)))\n",
    "\n",
    "\n",
    "    print(x + \" Mapped!!\")\n",
    "    \n"
   ]
  },
  {
   "cell_type": "code",
   "execution_count": 18,
   "metadata": {},
   "outputs": [
    {
     "data": {
      "text/plain": [
       "560168"
      ]
     },
     "execution_count": 18,
     "metadata": {},
     "output_type": "execute_result"
    }
   ],
   "source": [
    "address17 = gbq.read_gbq('SELECT timestamp, transaction_id, inputs.input_pubkey_base58, outputs.output_satoshis, outputs.output_pubkey_base58 FROM (FLATTEN(DB.transactions_all, outputs.output_satoshis)) WHERE inputs.input_pubkey_base58 == \"1FoxBitjXcBeZUS4eDzPZ7b124q3N7QJK7\"', projectid)\n",
    "# gbq.to_gbq(address17, 'DB.12sj9d85J3NwWTYuE9oPnAq5YyDhsrmnVn', projectid)\n",
    "address17['inputs_input_pubkey_base58'].count()"
   ]
  },
  {
   "cell_type": "code",
   "execution_count": 9,
   "metadata": {
    "collapsed": true
   },
   "outputs": [],
   "source": [
    "## First select a random public key from the data \n",
    "def randomPublic(df, n):\n",
    "    return df.loc[random.sample(df.index, n)]"
   ]
  },
  {
   "cell_type": "code",
   "execution_count": 14,
   "metadata": {
    "scrolled": true
   },
   "outputs": [
    {
     "data": {
      "text/html": [
       "<div>\n",
       "<style scoped>\n",
       "    .dataframe tbody tr th:only-of-type {\n",
       "        vertical-align: middle;\n",
       "    }\n",
       "\n",
       "    .dataframe tbody tr th {\n",
       "        vertical-align: top;\n",
       "    }\n",
       "\n",
       "    .dataframe thead th {\n",
       "        text-align: right;\n",
       "    }\n",
       "</style>\n",
       "<table border=\"1\" class=\"dataframe\">\n",
       "  <thead>\n",
       "    <tr style=\"text-align: right;\">\n",
       "      <th></th>\n",
       "      <th>timestamp</th>\n",
       "      <th>transaction_id</th>\n",
       "      <th>inputs_input_pubkey_base58</th>\n",
       "      <th>outputs_output_satoshis</th>\n",
       "      <th>outputs_output_pubkey_base58</th>\n",
       "    </tr>\n",
       "  </thead>\n",
       "  <tbody>\n",
       "    <tr>\n",
       "      <th>279753</th>\n",
       "      <td>1507219686000</td>\n",
       "      <td>2c9a99de26468b0e5c451ed9649460073d31e3846a0ee2...</td>\n",
       "      <td>1JycrXp9cvpRyQ3emYHT26CfztDa6hfwGn</td>\n",
       "      <td>5000000000</td>\n",
       "      <td>12oLTdrRshL8ELVZ8rHUWKWpYGqYCiHC7a</td>\n",
       "    </tr>\n",
       "    <tr>\n",
       "      <th>1596060</th>\n",
       "      <td>1507050772000</td>\n",
       "      <td>5998f059f74f763801fe5d9f83690e5fc8dbbd7a8e1838...</td>\n",
       "      <td>None</td>\n",
       "      <td>9689186</td>\n",
       "      <td>185AmYcWwK8UTCR3MV8ttiWD92zHLeopte</td>\n",
       "    </tr>\n",
       "    <tr>\n",
       "      <th>1267711</th>\n",
       "      <td>1516749380000</td>\n",
       "      <td>9dff1f06ef123bdf745bf9e82e3a7b9187fe4c45fcd4fa...</td>\n",
       "      <td>19DWqGXPag2tKck7NaYEF3Waw6Uu52qX7F</td>\n",
       "      <td>252796</td>\n",
       "      <td>1PuaX6T93xvb7HKCUnHPVd8trrP5yDQB3E</td>\n",
       "    </tr>\n",
       "    <tr>\n",
       "      <th>414868</th>\n",
       "      <td>1415535752000</td>\n",
       "      <td>ea16a5de97740704aae9eb760d57f18cabfc215afb39d9...</td>\n",
       "      <td>1CiMNvP31FMyhAvf52QC4S1BpB64i5Pm4F</td>\n",
       "      <td>500000</td>\n",
       "      <td>1E4BwJweYHXgUP624AxHjiNZs5yA5wuCox</td>\n",
       "    </tr>\n",
       "    <tr>\n",
       "      <th>1689473</th>\n",
       "      <td>1515446008000</td>\n",
       "      <td>d93e41f7d2d350d57b2401bf6dfab69d73c82a84a3f841...</td>\n",
       "      <td>16gr6hH6nTjq2x7fk7eYGSTMzv3y5Suntp</td>\n",
       "      <td>10638410</td>\n",
       "      <td>12pPyf3mqb3pfnWvuhkVNFkYEJchuGjMqL</td>\n",
       "    </tr>\n",
       "    <tr>\n",
       "      <th>809202</th>\n",
       "      <td>1459490846000</td>\n",
       "      <td>7c5437b7180993cc3a49d3c64544e90c9c3f8c0d719629...</td>\n",
       "      <td>1K1QucZvABaF15ZxSbYMGD3pwuCBC6zuJE</td>\n",
       "      <td>2169021279</td>\n",
       "      <td>1BRebmXwXB35NyXXiJCvG2mUhogq6ftoLV</td>\n",
       "    </tr>\n",
       "    <tr>\n",
       "      <th>1777830</th>\n",
       "      <td>1436974064000</td>\n",
       "      <td>5683143007027c9192947b1891213bc51c35f36bf03e29...</td>\n",
       "      <td>1Edy1riJGUmewWxkQJjZyK1YRLmWPZ3tLC</td>\n",
       "      <td>2480000000</td>\n",
       "      <td>1Px7EcikQ5pgoM2duexuHASBaGwvYfbJVs</td>\n",
       "    </tr>\n",
       "    <tr>\n",
       "      <th>1087376</th>\n",
       "      <td>1412950144000</td>\n",
       "      <td>fa43e3929436e30463f0a35336ecdd41f8679ddd3fd01a...</td>\n",
       "      <td>18YR6VPCgRtr5bTYNo1BkG9fiHCun3ndAn</td>\n",
       "      <td>1493853</td>\n",
       "      <td>1FAVbTRU5NWBXbtoSRJZ4z3PJcG5gw6Bfs</td>\n",
       "    </tr>\n",
       "    <tr>\n",
       "      <th>274544</th>\n",
       "      <td>1448768758000</td>\n",
       "      <td>9b25c292249b389d53766fd34001d6c4d9fc768ba8db30...</td>\n",
       "      <td>1ECGMNDeFgG9Xh5iNkzzLxzrmqtHHm2C9P</td>\n",
       "      <td>400126874</td>\n",
       "      <td>16z15JZDT2ewJHpwAYUh9aVBAS5G926P2m</td>\n",
       "    </tr>\n",
       "    <tr>\n",
       "      <th>320069</th>\n",
       "      <td>1479504985000</td>\n",
       "      <td>32af2b176c89b3e55c2a0f6ad019ce73afb9065909d0e6...</td>\n",
       "      <td>12WpZXSdkp4kXkEK2ttZegRebaFsunex9t</td>\n",
       "      <td>79276983</td>\n",
       "      <td>1eGgnvifEeVAMK3Wv82kxbny9rizX6VR9</td>\n",
       "    </tr>\n",
       "    <tr>\n",
       "      <th>846693</th>\n",
       "      <td>1398950441000</td>\n",
       "      <td>f669693c72afa9fcac87e4264dbace53153819b9f2b9fe...</td>\n",
       "      <td>16MorJDTDb98NzAxEwbdo9S42RQ4fpeJUL</td>\n",
       "      <td>5000000</td>\n",
       "      <td>1Ja4K3FgF9wsBJHdqnE1vBcm4jcCpLyQsz</td>\n",
       "    </tr>\n",
       "    <tr>\n",
       "      <th>75222</th>\n",
       "      <td>1491812628000</td>\n",
       "      <td>4cdaa2539323a1a0aa4e88aee63192f40556e7867e539d...</td>\n",
       "      <td>1SVt4riZAVWvEDv72G5f1C9WXPbJYP25W</td>\n",
       "      <td>16611487</td>\n",
       "      <td>1J1BvMicxbAEEMkdMxz1wJxYp8vDNCbb8F</td>\n",
       "    </tr>\n",
       "    <tr>\n",
       "      <th>884190</th>\n",
       "      <td>1441838703000</td>\n",
       "      <td>683e9f80ab16bb0aa3c02fa61a8733654c4d553c0b50a3...</td>\n",
       "      <td>1LypXthFybrV1deuZ5TP5bKyGo3Qk8TzxL</td>\n",
       "      <td>20000000</td>\n",
       "      <td>1HMJDWwZeMsWPPE6o7R3oTA3Z3HTVC1ga2</td>\n",
       "    </tr>\n",
       "    <tr>\n",
       "      <th>560935</th>\n",
       "      <td>1423381175000</td>\n",
       "      <td>a38b14db6174ae91f436220b5f566bb982e61c0b3b15f4...</td>\n",
       "      <td>1MTzgidPkdj2rLTkH9X4Pw43ZoYvk76Hvi</td>\n",
       "      <td>3300060000</td>\n",
       "      <td>1QC9t3bcThr4YeyDxyW5V62rDnBeoYZzPA</td>\n",
       "    </tr>\n",
       "    <tr>\n",
       "      <th>795890</th>\n",
       "      <td>1479360022000</td>\n",
       "      <td>3d02c063177ebbf5b5827c6453d1c1da4ff5fe530bdf6e...</td>\n",
       "      <td>None</td>\n",
       "      <td>670000</td>\n",
       "      <td>17t5PWUj1qn4EFniw2vKPt87oRydAgyWFG</td>\n",
       "    </tr>\n",
       "  </tbody>\n",
       "</table>\n",
       "</div>"
      ],
      "text/plain": [
       "             timestamp                                     transaction_id  \\\n",
       "279753   1507219686000  2c9a99de26468b0e5c451ed9649460073d31e3846a0ee2...   \n",
       "1596060  1507050772000  5998f059f74f763801fe5d9f83690e5fc8dbbd7a8e1838...   \n",
       "1267711  1516749380000  9dff1f06ef123bdf745bf9e82e3a7b9187fe4c45fcd4fa...   \n",
       "414868   1415535752000  ea16a5de97740704aae9eb760d57f18cabfc215afb39d9...   \n",
       "1689473  1515446008000  d93e41f7d2d350d57b2401bf6dfab69d73c82a84a3f841...   \n",
       "809202   1459490846000  7c5437b7180993cc3a49d3c64544e90c9c3f8c0d719629...   \n",
       "1777830  1436974064000  5683143007027c9192947b1891213bc51c35f36bf03e29...   \n",
       "1087376  1412950144000  fa43e3929436e30463f0a35336ecdd41f8679ddd3fd01a...   \n",
       "274544   1448768758000  9b25c292249b389d53766fd34001d6c4d9fc768ba8db30...   \n",
       "320069   1479504985000  32af2b176c89b3e55c2a0f6ad019ce73afb9065909d0e6...   \n",
       "846693   1398950441000  f669693c72afa9fcac87e4264dbace53153819b9f2b9fe...   \n",
       "75222    1491812628000  4cdaa2539323a1a0aa4e88aee63192f40556e7867e539d...   \n",
       "884190   1441838703000  683e9f80ab16bb0aa3c02fa61a8733654c4d553c0b50a3...   \n",
       "560935   1423381175000  a38b14db6174ae91f436220b5f566bb982e61c0b3b15f4...   \n",
       "795890   1479360022000  3d02c063177ebbf5b5827c6453d1c1da4ff5fe530bdf6e...   \n",
       "\n",
       "                 inputs_input_pubkey_base58  outputs_output_satoshis  \\\n",
       "279753   1JycrXp9cvpRyQ3emYHT26CfztDa6hfwGn               5000000000   \n",
       "1596060                                None                  9689186   \n",
       "1267711  19DWqGXPag2tKck7NaYEF3Waw6Uu52qX7F                   252796   \n",
       "414868   1CiMNvP31FMyhAvf52QC4S1BpB64i5Pm4F                   500000   \n",
       "1689473  16gr6hH6nTjq2x7fk7eYGSTMzv3y5Suntp                 10638410   \n",
       "809202   1K1QucZvABaF15ZxSbYMGD3pwuCBC6zuJE               2169021279   \n",
       "1777830  1Edy1riJGUmewWxkQJjZyK1YRLmWPZ3tLC               2480000000   \n",
       "1087376  18YR6VPCgRtr5bTYNo1BkG9fiHCun3ndAn                  1493853   \n",
       "274544   1ECGMNDeFgG9Xh5iNkzzLxzrmqtHHm2C9P                400126874   \n",
       "320069   12WpZXSdkp4kXkEK2ttZegRebaFsunex9t                 79276983   \n",
       "846693   16MorJDTDb98NzAxEwbdo9S42RQ4fpeJUL                  5000000   \n",
       "75222     1SVt4riZAVWvEDv72G5f1C9WXPbJYP25W                 16611487   \n",
       "884190   1LypXthFybrV1deuZ5TP5bKyGo3Qk8TzxL                 20000000   \n",
       "560935   1MTzgidPkdj2rLTkH9X4Pw43ZoYvk76Hvi               3300060000   \n",
       "795890                                 None                   670000   \n",
       "\n",
       "               outputs_output_pubkey_base58  \n",
       "279753   12oLTdrRshL8ELVZ8rHUWKWpYGqYCiHC7a  \n",
       "1596060  185AmYcWwK8UTCR3MV8ttiWD92zHLeopte  \n",
       "1267711  1PuaX6T93xvb7HKCUnHPVd8trrP5yDQB3E  \n",
       "414868   1E4BwJweYHXgUP624AxHjiNZs5yA5wuCox  \n",
       "1689473  12pPyf3mqb3pfnWvuhkVNFkYEJchuGjMqL  \n",
       "809202   1BRebmXwXB35NyXXiJCvG2mUhogq6ftoLV  \n",
       "1777830  1Px7EcikQ5pgoM2duexuHASBaGwvYfbJVs  \n",
       "1087376  1FAVbTRU5NWBXbtoSRJZ4z3PJcG5gw6Bfs  \n",
       "274544   16z15JZDT2ewJHpwAYUh9aVBAS5G926P2m  \n",
       "320069    1eGgnvifEeVAMK3Wv82kxbny9rizX6VR9  \n",
       "846693   1Ja4K3FgF9wsBJHdqnE1vBcm4jcCpLyQsz  \n",
       "75222    1J1BvMicxbAEEMkdMxz1wJxYp8vDNCbb8F  \n",
       "884190   1HMJDWwZeMsWPPE6o7R3oTA3Z3HTVC1ga2  \n",
       "560935   1QC9t3bcThr4YeyDxyW5V62rDnBeoYZzPA  \n",
       "795890   17t5PWUj1qn4EFniw2vKPt87oRydAgyWFG  "
      ]
     },
     "execution_count": 14,
     "metadata": {},
     "output_type": "execute_result"
    }
   ],
   "source": [
    "randomPublic(transaction, 15)"
   ]
  },
  {
   "cell_type": "code",
   "execution_count": 1,
   "metadata": {
    "collapsed": true
   },
   "outputs": [],
   "source": [
    "## Start creating the tranaction history per address\n",
    "#  map the adresses (Pay-to-PubkeyHash)\n",
    "#  then build the tranactions on that public key\n",
    "\n",
    "## pub with max at the top (rank)\n",
    "def pubKey(df, x):\n",
    "    return df.loc[lambda df: df.inputs_input_pubkey_base58 == x, :]"
   ]
  },
  {
   "cell_type": "code",
   "execution_count": 2,
   "metadata": {},
   "outputs": [
    {
     "ename": "NameError",
     "evalue": "name 'transaction' is not defined",
     "output_type": "error",
     "traceback": [
      "\u001b[0;31m---------------------------------------------------------------------------\u001b[0m",
      "\u001b[0;31mNameError\u001b[0m                                 Traceback (most recent call last)",
      "\u001b[0;32m<ipython-input-2-97c29a0f695c>\u001b[0m in \u001b[0;36m<module>\u001b[0;34m()\u001b[0m\n\u001b[0;32m----> 1\u001b[0;31m \u001b[0mpubKey\u001b[0m\u001b[0;34m(\u001b[0m\u001b[0mtransaction\u001b[0m\u001b[0;34m,\u001b[0m \u001b[0;34m'1FoxBitjXcBeZUS4eDzPZ7b124q3N7QJK7'\u001b[0m\u001b[0;34m)\u001b[0m\u001b[0;34m\u001b[0m\u001b[0m\n\u001b[0m",
      "\u001b[0;31mNameError\u001b[0m: name 'transaction' is not defined"
     ]
    }
   ],
   "source": [
    "pubKey(transaction, '1FoxBitjXcBeZUS4eDzPZ7b124q3N7QJK7')"
   ]
  },
  {
   "cell_type": "code",
   "execution_count": null,
   "metadata": {
    "collapsed": true
   },
   "outputs": [],
   "source": []
  }
 ],
 "metadata": {
  "kernelspec": {
   "display_name": "Python 2",
   "language": "python",
   "name": "python2"
  },
  "language_info": {
   "codemirror_mode": {
    "name": "ipython",
    "version": 2
   },
   "file_extension": ".py",
   "mimetype": "text/x-python",
   "name": "python",
   "nbconvert_exporter": "python",
   "pygments_lexer": "ipython2",
   "version": "2.7.14"
  }
 },
 "nbformat": 4,
 "nbformat_minor": 2
}
