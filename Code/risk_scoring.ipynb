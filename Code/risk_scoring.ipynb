{
 "cells": [
  {
   "cell_type": "markdown",
   "metadata": {},
   "source": [
    "# Capstone: Reputation Scoring For Cryptocurrency Transactions\n",
    "\n",
    "### Authors: Sudip Bhattacharyya, Daniel Freeman, Timothy McWilliams"
   ]
  },
  {
   "cell_type": "markdown",
   "metadata": {},
   "source": [
    "### 1. Libraries"
   ]
  },
  {
   "cell_type": "code",
   "execution_count": 51,
   "metadata": {},
   "outputs": [],
   "source": [
    "# Import Lib's \n",
    "import pandas as pd\n",
    "import hashlib\n",
    "from pandas.io import gbq\n",
    "from random import shuffle\n",
    "from functools import reduce\n",
    "import random\n",
    "import numpy as np\n",
    "from sklearn.model_selection import train_test_split\n",
    "from sklearn.ensemble import RandomForestClassifier\n",
    "from sklearn.metrics import confusion_matrix\n",
    "from sklearn.neighbors import KNeighborsClassifier\n",
    "from sklearn.naive_bayes import GaussianNB\n",
    "from sklearn.naive_bayes import BernoulliNB\n",
    "from sklearn.metrics import classification_report\n",
    "from sklearn.model_selection import cross_val_score\n",
    "from sklearn.decomposition import PCA \n",
    "from sklearn.pipeline import Pipeline\n",
    "from sklearn import metrics as mt\n",
    "from sklearn.svm import LinearSVC\n",
    "from sklearn.preprocessing import label_binarize\n",
    "from sklearn.model_selection import train_test_split, StratifiedKFold, StratifiedShuffleSplit, GridSearchCV\n",
    "from sklearn.model_selection import cross_val_score\n",
    "from sklearn.linear_model import LogisticRegression\n",
    "from sklearn.metrics import confusion_matrix\n",
    "from sklearn.metrics import roc_curve, auc\n",
    "from sklearn.feature_selection import chi2\n",
    "from sklearn.neural_network import MLPClassifier\n",
    "import matplotlib.pyplot as plt\n",
    "import seaborn as sns"
   ]
  },
  {
   "cell_type": "markdown",
   "metadata": {},
   "source": [
    "### 2. Initialize Project"
   ]
  },
  {
   "cell_type": "code",
   "execution_count": 6,
   "metadata": {},
   "outputs": [],
   "source": [
    "## Insert the BigQuery Project ID\n",
    "\n",
    "projectid = \"capstone-202618\""
   ]
  },
  {
   "cell_type": "markdown",
   "metadata": {},
   "source": [
    "### 3. Import Data from Google Big Query"
   ]
  },
  {
   "cell_type": "markdown",
   "metadata": {},
   "source": [
    "#### 3.1. Transactions Related to a Historical Bitcoin Heist"
   ]
  },
  {
   "cell_type": "code",
   "execution_count": 7,
   "metadata": {},
   "outputs": [
    {
     "name": "stdout",
     "output_type": "stream",
     "text": [
      "(63, 5)\n"
     ]
    },
    {
     "data": {
      "text/html": [
       "<div>\n",
       "<style>\n",
       "    .dataframe thead tr:only-child th {\n",
       "        text-align: right;\n",
       "    }\n",
       "\n",
       "    .dataframe thead th {\n",
       "        text-align: left;\n",
       "    }\n",
       "\n",
       "    .dataframe tbody tr th {\n",
       "        vertical-align: top;\n",
       "    }\n",
       "</style>\n",
       "<table border=\"1\" class=\"dataframe\">\n",
       "  <thead>\n",
       "    <tr style=\"text-align: right;\">\n",
       "      <th></th>\n",
       "      <th>txID</th>\n",
       "      <th>tx_hash</th>\n",
       "      <th>blockID</th>\n",
       "      <th>n_inputs</th>\n",
       "      <th>n_outputs</th>\n",
       "    </tr>\n",
       "  </thead>\n",
       "  <tbody>\n",
       "    <tr>\n",
       "      <th>0</th>\n",
       "      <td>101661</td>\n",
       "      <td>eb5b761c7380ed4c6adf688f9e5ab94953dcabeda47d9e...</td>\n",
       "      <td>73272</td>\n",
       "      <td>1</td>\n",
       "      <td>2</td>\n",
       "    </tr>\n",
       "    <tr>\n",
       "      <th>1</th>\n",
       "      <td>718648</td>\n",
       "      <td>4885ddf124a0f97b5a3775a12de0274d342d12842ebe59...</td>\n",
       "      <td>130560</td>\n",
       "      <td>478</td>\n",
       "      <td>2</td>\n",
       "    </tr>\n",
       "    <tr>\n",
       "      <th>2</th>\n",
       "      <td>1761950</td>\n",
       "      <td>6d5088c138e2fbf4ea7a8c2cb1b57a76c4b0a5fab5f4c1...</td>\n",
       "      <td>150951</td>\n",
       "      <td>3</td>\n",
       "      <td>2</td>\n",
       "    </tr>\n",
       "    <tr>\n",
       "      <th>3</th>\n",
       "      <td>1761951</td>\n",
       "      <td>07d33c8c74e945c50e45d3eaf4add7553534154503a478...</td>\n",
       "      <td>150951</td>\n",
       "      <td>3</td>\n",
       "      <td>2</td>\n",
       "    </tr>\n",
       "    <tr>\n",
       "      <th>4</th>\n",
       "      <td>1761952</td>\n",
       "      <td>6d39eeb2ae7f9d42b0569cf1009de4c9f031450873bf2e...</td>\n",
       "      <td>150951</td>\n",
       "      <td>2</td>\n",
       "      <td>2</td>\n",
       "    </tr>\n",
       "  </tbody>\n",
       "</table>\n",
       "</div>"
      ],
      "text/plain": [
       "      txID                                            tx_hash  blockID  \\\n",
       "0   101661  eb5b761c7380ed4c6adf688f9e5ab94953dcabeda47d9e...    73272   \n",
       "1   718648  4885ddf124a0f97b5a3775a12de0274d342d12842ebe59...   130560   \n",
       "2  1761950  6d5088c138e2fbf4ea7a8c2cb1b57a76c4b0a5fab5f4c1...   150951   \n",
       "3  1761951  07d33c8c74e945c50e45d3eaf4add7553534154503a478...   150951   \n",
       "4  1761952  6d39eeb2ae7f9d42b0569cf1009de4c9f031450873bf2e...   150951   \n",
       "\n",
       "   n_inputs  n_outputs  \n",
       "0         1          2  \n",
       "1       478          2  \n",
       "2         3          2  \n",
       "3         3          2  \n",
       "4         2          2  "
      ]
     },
     "execution_count": 7,
     "metadata": {},
     "output_type": "execute_result"
    }
   ],
   "source": [
    "## Step1: Identify hacked transactions from history of Bitcoin Heists (Map Data.tx and Data.txh)\n",
    "\n",
    "tx_hack = gbq.read_gbq('SELECT Data.txh.int64_field_0 as txID, Data.txh.string_field_1 as tx_hash, Data.tx.int64_field_1 as blockID, Data.tx.int64_field_2 as n_inputs, Data.tx.int64_field_3 as n_outputs FROM Data.txh INNER JOIN Data.tx on Data.txh.int64_field_0 = Data.tx.int64_field_0 where Data.txh.string_field_1 in (\"eb5b761c7380ed4c6adf688f9e5ab94953dcabeda47d9eeabd77261902fccccf\", \"4885ddf124a0f97b5a3775a12de0274d342d12842ebe59520359f976721ac8c3\", \"1MAazCWMydsQB5ynYXqSGQDjNQMN3HFmEu\", \"111291fcf8ab84803d42ec59cb4eaceadd661185242a1e8f4b7e49b79ecbe5f3\", \"81f591582b436c5b129f347fe7e681afd6811417973c4a4f83b18e92a9d130fd\", \"ddddf9f04b4c1d4e1185cacf5cf302f3d11dee5d74f71721d741fbb507062e9e\", \"305fbc2ec7f7f2bc5a21d2dfb01a5fc52ab5d064a7278e2ecbab0d2a27b8c392\", \"f0137a6b31947cf7ab367ae23942a263272c41f36252fcd3460ee8b6e94a84c1\", \"633acf266c913523ab5ed9fcc4632bae18d2a7efc1744fd43dd669e5f2869ce5\", \"5bd88ab32b50e4a691dcfd1fff9396f512e003d7275bb5c1b816ab071beca5ba\", \"64c01fedd5cf6d306ca18d85e842f068e19488126c411741e089be8f4052df09\", \"3be0ac3dc1c3b7fa7fbe34f4678037ed733a14e801abe6d3da42bc643a651401\", \"9edab6e7fadf1d6006315ff9394c08a7bf42e19cf61502200a1f73994f8da94b\", \"835d4dcc52e160c23173658de0b747082f1937d1184e8e1838e9394bc62c0392\", \"aebe39a99114f1b46fc5a67289545e54cbfec92d08fc8ffc92dc9df4a15ea05a\", \"aa62bdd690de061a6fbbd88420f7a7aa574ba86da4fe82edc27e2263f8743988\", \"6a86e6a5e8d5f9e9492114dafe5056c5618222f5042408ad867d3c1888855a31\", \"7ad47a19b201ce052f98161de1b1457bacaca2e698f542e196d4c7f8f45899ab\", \"0ca7f7299dc8d87c26c82badf9a303049098af050698c694fbec35c4b08fc3df\", \"3ab5f53978850413a273920bfc86f4278d9c418272accddade736990d60bdd53\", \"03acfae47d1e0b7674f1193237099d1553d3d8a93ecc85c18c4bec37544fe386\", \"15ad0894ab42a46eb04108fb8bd66786566a74356d2103f077710733e0516c3a\", \"2d00ef4895f20904d7d4c0bada17a8e9d47d6c049cd2e5002f8914bfa7f1d27b\", \"6d39eeb2ae7f9d42b0569cf1009de4c9f031450873bf2ec84ce795837482e7a6\", \"07d33c8c74e945c50e45d3eaf4add7553534154503a478cf6d48e1c617b3f9f3\", \"6d5088c138e2fbf4ea7a8c2cb1b57a76c4b0a5fab5f4c188696aad807a5ba6d8\", \"5a09f4ef0e91bc7bc044365cd27236fe4ac3c02088ac21ab51c93c8a11d33d4b\", \"7b45c1742ca9f544cccd92d319ef8a5e19b7dcb8742990724c6a9c2f569ae732\", \"901dbcef30a541b8b55fae8f7ad9917ef0754bda5b643705f3773e590785c4d3\", \"a57132e2cbc580ac262aa3f7bac1e441d6573f9633118bc48009618585a0967e\", \"a82ad85286c68f37a2feda1f5e8a4efa9db1e642b4ef53cb9fd86170169e5e68\", \"ff04763e3e8c93e43799dbbca833e183faad7e2611f20f136f47c2f1049481ae\", \"0268b7285b95444808753969099f7ae43fb4193d442e3e0deebb10e2bb1764d0\", \"34b84108a142ad7b6c36f0f3549a3e83dcdbb60e0ba0df96cd48f852da0b1acb\", \"14350f6f2bda8f4220f5b5e11022ab126a4b178e5c4fca38c6e0deb242c40c5f\", \"266e4682abdf4932c4c271872ca9ba6bfdbe75941eb9ba4c4d81e4d3c7364e4b\", \"40fc8f6b2f222fb2871a38a245132ed1eada9ff6aec8d46ebe74b29c64fd82a7\", \"bf70ac1d2b702dbe0e14fbefb3a0cb2ff5ee5aa425cfe4249f16d6ede7b3ff14\", \"92968a2331a02a3128460a64ba16fbf8d3a2fc79ebc8882300015d3ca0e4fb17\", \"7a22917744aa9ed740faf3068a2f895424ed816ed1a04012b47df7a493f056e8\", \"4c61d3639f010e30ad305b294cd128f381f58fc161d0badda1f39807dc2f12f7.\", \"83f3c30dc4fa25afe57b85651b9bbc372e8789d81b08d6966ea81f524e0a02be\", \"d5d23a05858236c379d2aa30886b97600506933bc46c6f2aab2e05da85e61ad2\", \"358c873892016649ace8e9db4c59f98a6ca8165287ac80e80c52e621f5a26e46\", \"f9d55dc4b8af65e15f856496335a29e2be40f128a7374c75b75529e864579f93\", \"42ea472060118ee5aee801cdedbc4a3403f3708a87340660f766e2669f0afeb0\", \"6f85951bcecbe64999ad192275af087c5be2922ee13937693992c1ddf9ae8ce6\", \"8e6a2d0b8132d3d9edc1fcffe1b3079de59c10c67522e2abc51c1d84b260fdac\", \"9dfdb24667657365c469ff20568fcc820f6f028a125d9c22dc521ae44dcf7c5e\", \"bd2ad7b49c22d12cf2f8f12ef601952aed2a96907af4df732156fd90165b5ef5\", \"d0035ad189634e90239cca82eb53f78e08c0179620b2bd24e2cb291478c7d57a\", \"a2b642bafea45bc128d81314ef33542bc807811ba066329eaa1306bd62bec075\", \"04e378f81eb620f21927639cd4cda00e0473ca958f4d21f2255f37554b5440fa\", \"065e7ff6b1503fc023876ffe930dcd9866531812e40bbda72835f232c2f23910\", \"0723b67631588b6d5a4a406a9ef8d431c0d5282c6f1cb308fef57c7503d83158\", \"0ae924c33555b294a3f0b256da6a02ab996d30be00eaf184d53281009a3a50d6\", \"3f938408deb6d20a74f6256d3ba0217df266450d4c00c40d94df7b840f66db05\", \"9766b624e004ad1a9369b1b461d33f57e7dddabb43942d34ac10e912cd9ce36b\", \"2db76ebd4b5eecf008334d1bdc1f63f764ca3fb9275557a2a82d52ebf52eea9f\", \"c041a74fd565c3eb247ff4b1fb6eb0ab9299c3e7d58e5172c28cbe9540858d5a\", \"82719bedd0730511385faf68d88b9a03e269a40e3fa5f269efe4a9fc3a821f7f\", \"2bc69aa29f56d7051f9cb19bf923c5e2a81879b4f6a3bc849f4166f56d417c2a\", \"8d6602b0e8e4479d79e5dab0c35bdb4f7545513cb426411348ec1502413a8f80\", \"3a66ebef43041f230e799f1efd3a93e41f875c718da683e236632e13a70cf898\", \"0197692748ba894697a0a48fdfdb3e72f3275b079005efad8be062de38b65edf\") order by Data.txh.int64_field_0', projectid)\n",
    "print(tx_hack.shape)\n",
    "tx_hack.head()"
   ]
  },
  {
   "cell_type": "code",
   "execution_count": 8,
   "metadata": {},
   "outputs": [],
   "source": [
    "## Step2: Extract unique transaction id's and export to a csv file\n",
    "\n",
    "txID_hack = tx_hack['txID']\n",
    "txID_hack.to_csv('C:/Users/Sudip/Documents/SMU - MSDS/Coursework/Capstone/Working Files/txID_hack.csv')"
   ]
  },
  {
   "cell_type": "code",
   "execution_count": 9,
   "metadata": {},
   "outputs": [
    {
     "name": "stdout",
     "output_type": "stream",
     "text": [
      "(63, 8)\n"
     ]
    },
    {
     "data": {
      "text/html": [
       "<div>\n",
       "<style>\n",
       "    .dataframe thead tr:only-child th {\n",
       "        text-align: right;\n",
       "    }\n",
       "\n",
       "    .dataframe thead th {\n",
       "        text-align: left;\n",
       "    }\n",
       "\n",
       "    .dataframe tbody tr th {\n",
       "        vertical-align: top;\n",
       "    }\n",
       "</style>\n",
       "<table border=\"1\" class=\"dataframe\">\n",
       "  <thead>\n",
       "    <tr style=\"text-align: right;\">\n",
       "      <th></th>\n",
       "      <th>txID</th>\n",
       "      <th>tx_hash</th>\n",
       "      <th>blockID</th>\n",
       "      <th>n_inputs</th>\n",
       "      <th>n_outputs</th>\n",
       "      <th>block_hash</th>\n",
       "      <th>block_timestamp</th>\n",
       "      <th>block_n_txs</th>\n",
       "    </tr>\n",
       "  </thead>\n",
       "  <tbody>\n",
       "    <tr>\n",
       "      <th>0</th>\n",
       "      <td>101661</td>\n",
       "      <td>eb5b761c7380ed4c6adf688f9e5ab94953dcabeda47d9e...</td>\n",
       "      <td>73272</td>\n",
       "      <td>1</td>\n",
       "      <td>2</td>\n",
       "      <td>00000000006aba8ba340b7ae875b0b1be1af394b4a2610...</td>\n",
       "      <td>1281389711</td>\n",
       "      <td>7</td>\n",
       "    </tr>\n",
       "    <tr>\n",
       "      <th>1</th>\n",
       "      <td>718648</td>\n",
       "      <td>4885ddf124a0f97b5a3775a12de0274d342d12842ebe59...</td>\n",
       "      <td>130560</td>\n",
       "      <td>478</td>\n",
       "      <td>2</td>\n",
       "      <td>00000000000015b9b2b91c82f5d95e7456b754cc188e58...</td>\n",
       "      <td>1307983943</td>\n",
       "      <td>11</td>\n",
       "    </tr>\n",
       "    <tr>\n",
       "      <th>2</th>\n",
       "      <td>1761950</td>\n",
       "      <td>6d5088c138e2fbf4ea7a8c2cb1b57a76c4b0a5fab5f4c1...</td>\n",
       "      <td>150951</td>\n",
       "      <td>3</td>\n",
       "      <td>2</td>\n",
       "      <td>0000000000000449ee5b94ba7a051caffff5c23d6a0333...</td>\n",
       "      <td>1319836288</td>\n",
       "      <td>27</td>\n",
       "    </tr>\n",
       "    <tr>\n",
       "      <th>3</th>\n",
       "      <td>1761951</td>\n",
       "      <td>07d33c8c74e945c50e45d3eaf4add7553534154503a478...</td>\n",
       "      <td>150951</td>\n",
       "      <td>3</td>\n",
       "      <td>2</td>\n",
       "      <td>0000000000000449ee5b94ba7a051caffff5c23d6a0333...</td>\n",
       "      <td>1319836288</td>\n",
       "      <td>27</td>\n",
       "    </tr>\n",
       "    <tr>\n",
       "      <th>4</th>\n",
       "      <td>1761952</td>\n",
       "      <td>6d39eeb2ae7f9d42b0569cf1009de4c9f031450873bf2e...</td>\n",
       "      <td>150951</td>\n",
       "      <td>2</td>\n",
       "      <td>2</td>\n",
       "      <td>0000000000000449ee5b94ba7a051caffff5c23d6a0333...</td>\n",
       "      <td>1319836288</td>\n",
       "      <td>27</td>\n",
       "    </tr>\n",
       "  </tbody>\n",
       "</table>\n",
       "</div>"
      ],
      "text/plain": [
       "      txID                                            tx_hash  blockID  \\\n",
       "0   101661  eb5b761c7380ed4c6adf688f9e5ab94953dcabeda47d9e...    73272   \n",
       "1   718648  4885ddf124a0f97b5a3775a12de0274d342d12842ebe59...   130560   \n",
       "2  1761950  6d5088c138e2fbf4ea7a8c2cb1b57a76c4b0a5fab5f4c1...   150951   \n",
       "3  1761951  07d33c8c74e945c50e45d3eaf4add7553534154503a478...   150951   \n",
       "4  1761952  6d39eeb2ae7f9d42b0569cf1009de4c9f031450873bf2e...   150951   \n",
       "\n",
       "   n_inputs  n_outputs                                         block_hash  \\\n",
       "0         1          2  00000000006aba8ba340b7ae875b0b1be1af394b4a2610...   \n",
       "1       478          2  00000000000015b9b2b91c82f5d95e7456b754cc188e58...   \n",
       "2         3          2  0000000000000449ee5b94ba7a051caffff5c23d6a0333...   \n",
       "3         3          2  0000000000000449ee5b94ba7a051caffff5c23d6a0333...   \n",
       "4         2          2  0000000000000449ee5b94ba7a051caffff5c23d6a0333...   \n",
       "\n",
       "   block_timestamp  block_n_txs  \n",
       "0       1281389711            7  \n",
       "1       1307983943           11  \n",
       "2       1319836288           27  \n",
       "3       1319836288           27  \n",
       "4       1319836288           27  "
      ]
     },
     "execution_count": 9,
     "metadata": {},
     "output_type": "execute_result"
    }
   ],
   "source": [
    "## Step3: Map block details (from Data.bh)\n",
    "\n",
    "block_hack = gbq.read_gbq('SELECT Data.bh.int64_field_0 AS blockID, Data.bh.string_field_1 AS block_hash, Data.bh.int64_field_2 AS block_timestamp, Data.bh.int64_field_3 AS block_n_txs, Data.tx.int64_field_0 AS txID FROM Data.bh INNER JOIN Data.tx on Data.bh.int64_field_0 = Data.tx.int64_field_1 where Data.tx.int64_field_0 in (7953142, 1761953, 1761954, 1761966, 2529782, 8411304, 8915877, 1761972, 6719707, 2529786, 7953108, 1761955, 1761964, 101661, 2802835, 2529773, 2802644, 7495627, 2802645, 8257853, 1761969, 2529781, 1761968, 1761965, 1761952, 2529787, 2530053, 6719706, 2529784, 2529785, 8169822, 718648, 1761967, 1761970, 8114098, 6720088, 1761957, 1761956, 7953106, 8915883, 1761961, 2529783, 1761959, 8217787, 1761951, 1761971, 2803134, 7495626, 1761963, 8387390, 1761962, 1761960, 1761958, 8915880, 6720083, 8915875, 8678426, 8780222, 8518014, 6720176, 7953076, 1761950, 3101854) order by Data.tx.int64_field_0', projectid)\n",
    "tx_hack = pd.merge(tx_hack, block_hack)\n",
    "print(tx_hack.shape)\n",
    "tx_hack.head()"
   ]
  },
  {
   "cell_type": "code",
   "execution_count": 10,
   "metadata": {},
   "outputs": [
    {
     "name": "stdout",
     "output_type": "stream",
     "text": [
      "(1102, 11)\n"
     ]
    },
    {
     "data": {
      "text/html": [
       "<div>\n",
       "<style>\n",
       "    .dataframe thead tr:only-child th {\n",
       "        text-align: right;\n",
       "    }\n",
       "\n",
       "    .dataframe thead th {\n",
       "        text-align: left;\n",
       "    }\n",
       "\n",
       "    .dataframe tbody tr th {\n",
       "        vertical-align: top;\n",
       "    }\n",
       "</style>\n",
       "<table border=\"1\" class=\"dataframe\">\n",
       "  <thead>\n",
       "    <tr style=\"text-align: right;\">\n",
       "      <th></th>\n",
       "      <th>txID</th>\n",
       "      <th>tx_hash</th>\n",
       "      <th>blockID</th>\n",
       "      <th>n_inputs</th>\n",
       "      <th>n_outputs</th>\n",
       "      <th>block_hash</th>\n",
       "      <th>block_timestamp</th>\n",
       "      <th>block_n_txs</th>\n",
       "      <th>input_seq</th>\n",
       "      <th>input_addrID</th>\n",
       "      <th>input_sum</th>\n",
       "    </tr>\n",
       "  </thead>\n",
       "  <tbody>\n",
       "    <tr>\n",
       "      <th>0</th>\n",
       "      <td>101661</td>\n",
       "      <td>eb5b761c7380ed4c6adf688f9e5ab94953dcabeda47d9e...</td>\n",
       "      <td>73272</td>\n",
       "      <td>1</td>\n",
       "      <td>2</td>\n",
       "      <td>00000000006aba8ba340b7ae875b0b1be1af394b4a2610...</td>\n",
       "      <td>1281389711</td>\n",
       "      <td>7</td>\n",
       "      <td>0</td>\n",
       "      <td>98866</td>\n",
       "      <td>900000000000</td>\n",
       "    </tr>\n",
       "    <tr>\n",
       "      <th>1</th>\n",
       "      <td>718648</td>\n",
       "      <td>4885ddf124a0f97b5a3775a12de0274d342d12842ebe59...</td>\n",
       "      <td>130560</td>\n",
       "      <td>478</td>\n",
       "      <td>2</td>\n",
       "      <td>00000000000015b9b2b91c82f5d95e7456b754cc188e58...</td>\n",
       "      <td>1307983943</td>\n",
       "      <td>11</td>\n",
       "      <td>297</td>\n",
       "      <td>51853</td>\n",
       "      <td>5000000000</td>\n",
       "    </tr>\n",
       "    <tr>\n",
       "      <th>2</th>\n",
       "      <td>718648</td>\n",
       "      <td>4885ddf124a0f97b5a3775a12de0274d342d12842ebe59...</td>\n",
       "      <td>130560</td>\n",
       "      <td>478</td>\n",
       "      <td>2</td>\n",
       "      <td>00000000000015b9b2b91c82f5d95e7456b754cc188e58...</td>\n",
       "      <td>1307983943</td>\n",
       "      <td>11</td>\n",
       "      <td>288</td>\n",
       "      <td>43541</td>\n",
       "      <td>5000000000</td>\n",
       "    </tr>\n",
       "    <tr>\n",
       "      <th>3</th>\n",
       "      <td>718648</td>\n",
       "      <td>4885ddf124a0f97b5a3775a12de0274d342d12842ebe59...</td>\n",
       "      <td>130560</td>\n",
       "      <td>478</td>\n",
       "      <td>2</td>\n",
       "      <td>00000000000015b9b2b91c82f5d95e7456b754cc188e58...</td>\n",
       "      <td>1307983943</td>\n",
       "      <td>11</td>\n",
       "      <td>289</td>\n",
       "      <td>61765</td>\n",
       "      <td>5000000000</td>\n",
       "    </tr>\n",
       "    <tr>\n",
       "      <th>4</th>\n",
       "      <td>718648</td>\n",
       "      <td>4885ddf124a0f97b5a3775a12de0274d342d12842ebe59...</td>\n",
       "      <td>130560</td>\n",
       "      <td>478</td>\n",
       "      <td>2</td>\n",
       "      <td>00000000000015b9b2b91c82f5d95e7456b754cc188e58...</td>\n",
       "      <td>1307983943</td>\n",
       "      <td>11</td>\n",
       "      <td>290</td>\n",
       "      <td>43617</td>\n",
       "      <td>5000000000</td>\n",
       "    </tr>\n",
       "  </tbody>\n",
       "</table>\n",
       "</div>"
      ],
      "text/plain": [
       "     txID                                            tx_hash  blockID  \\\n",
       "0  101661  eb5b761c7380ed4c6adf688f9e5ab94953dcabeda47d9e...    73272   \n",
       "1  718648  4885ddf124a0f97b5a3775a12de0274d342d12842ebe59...   130560   \n",
       "2  718648  4885ddf124a0f97b5a3775a12de0274d342d12842ebe59...   130560   \n",
       "3  718648  4885ddf124a0f97b5a3775a12de0274d342d12842ebe59...   130560   \n",
       "4  718648  4885ddf124a0f97b5a3775a12de0274d342d12842ebe59...   130560   \n",
       "\n",
       "   n_inputs  n_outputs                                         block_hash  \\\n",
       "0         1          2  00000000006aba8ba340b7ae875b0b1be1af394b4a2610...   \n",
       "1       478          2  00000000000015b9b2b91c82f5d95e7456b754cc188e58...   \n",
       "2       478          2  00000000000015b9b2b91c82f5d95e7456b754cc188e58...   \n",
       "3       478          2  00000000000015b9b2b91c82f5d95e7456b754cc188e58...   \n",
       "4       478          2  00000000000015b9b2b91c82f5d95e7456b754cc188e58...   \n",
       "\n",
       "   block_timestamp  block_n_txs  input_seq  input_addrID     input_sum  \n",
       "0       1281389711            7          0         98866  900000000000  \n",
       "1       1307983943           11        297         51853    5000000000  \n",
       "2       1307983943           11        288         43541    5000000000  \n",
       "3       1307983943           11        289         61765    5000000000  \n",
       "4       1307983943           11        290         43617    5000000000  "
      ]
     },
     "execution_count": 10,
     "metadata": {},
     "output_type": "execute_result"
    }
   ],
   "source": [
    "## Step4: Map Transaction Input Amount (from Data.txin)\n",
    "\n",
    "input_amount_hack =  gbq.read_gbq('SELECT Data.tx.int64_field_0 AS txID, Data.txin.int64_field_1 AS input_seq, Data.txin.int64_field_4 AS input_addrID, int64_field_5 AS input_sum FROM Data.tx INNER JOIN Data.txin on Data.tx.int64_field_0 = Data.txin.int64_field_0 where Data.tx.int64_field_0 in (7953142, 1761953, 1761954, 1761966, 2529782, 8411304, 8915877, 1761972, 6719707, 2529786, 7953108, 1761955, 1761964, 101661, 2802835, 2529773, 2802644, 7495627, 2802645, 8257853, 1761969, 2529781, 1761968, 1761965, 1761952, 2529787, 2530053, 6719706, 2529784, 2529785, 8169822, 718648, 1761967, 1761970, 8114098, 6720088, 1761957, 1761956, 7953106, 8915883, 1761961, 2529783, 1761959, 8217787, 1761951, 1761971, 2803134, 7495626, 1761963, 8387390, 1761962, 1761960, 1761958, 8915880, 6720083, 8915875, 8678426, 8780222, 8518014, 6720176, 7953076, 1761950, 3101854) order by Data.tx.int64_field_0', projectid)\n",
    "tx_hack = pd.merge(tx_hack, input_amount_hack)\n",
    "print(tx_hack.shape)\n",
    "tx_hack.head()"
   ]
  },
  {
   "cell_type": "code",
   "execution_count": 11,
   "metadata": {},
   "outputs": [
    {
     "name": "stdout",
     "output_type": "stream",
     "text": [
      "(2172, 14)\n"
     ]
    },
    {
     "data": {
      "text/html": [
       "<div>\n",
       "<style>\n",
       "    .dataframe thead tr:only-child th {\n",
       "        text-align: right;\n",
       "    }\n",
       "\n",
       "    .dataframe thead th {\n",
       "        text-align: left;\n",
       "    }\n",
       "\n",
       "    .dataframe tbody tr th {\n",
       "        vertical-align: top;\n",
       "    }\n",
       "</style>\n",
       "<table border=\"1\" class=\"dataframe\">\n",
       "  <thead>\n",
       "    <tr style=\"text-align: right;\">\n",
       "      <th></th>\n",
       "      <th>txID</th>\n",
       "      <th>tx_hash</th>\n",
       "      <th>blockID</th>\n",
       "      <th>n_inputs</th>\n",
       "      <th>n_outputs</th>\n",
       "      <th>block_hash</th>\n",
       "      <th>block_timestamp</th>\n",
       "      <th>block_n_txs</th>\n",
       "      <th>input_seq</th>\n",
       "      <th>input_addrID</th>\n",
       "      <th>input_sum</th>\n",
       "      <th>output_seq</th>\n",
       "      <th>output_addrID</th>\n",
       "      <th>output_sum</th>\n",
       "    </tr>\n",
       "  </thead>\n",
       "  <tbody>\n",
       "    <tr>\n",
       "      <th>0</th>\n",
       "      <td>101661</td>\n",
       "      <td>eb5b761c7380ed4c6adf688f9e5ab94953dcabeda47d9e...</td>\n",
       "      <td>73272</td>\n",
       "      <td>1</td>\n",
       "      <td>2</td>\n",
       "      <td>00000000006aba8ba340b7ae875b0b1be1af394b4a2610...</td>\n",
       "      <td>1281389711</td>\n",
       "      <td>7</td>\n",
       "      <td>0</td>\n",
       "      <td>98866</td>\n",
       "      <td>900000000000</td>\n",
       "      <td>1</td>\n",
       "      <td>98910</td>\n",
       "      <td>899900000000</td>\n",
       "    </tr>\n",
       "    <tr>\n",
       "      <th>1</th>\n",
       "      <td>101661</td>\n",
       "      <td>eb5b761c7380ed4c6adf688f9e5ab94953dcabeda47d9e...</td>\n",
       "      <td>73272</td>\n",
       "      <td>1</td>\n",
       "      <td>2</td>\n",
       "      <td>00000000006aba8ba340b7ae875b0b1be1af394b4a2610...</td>\n",
       "      <td>1281389711</td>\n",
       "      <td>7</td>\n",
       "      <td>0</td>\n",
       "      <td>98866</td>\n",
       "      <td>900000000000</td>\n",
       "      <td>0</td>\n",
       "      <td>98866</td>\n",
       "      <td>100000000</td>\n",
       "    </tr>\n",
       "    <tr>\n",
       "      <th>2</th>\n",
       "      <td>718648</td>\n",
       "      <td>4885ddf124a0f97b5a3775a12de0274d342d12842ebe59...</td>\n",
       "      <td>130560</td>\n",
       "      <td>478</td>\n",
       "      <td>2</td>\n",
       "      <td>00000000000015b9b2b91c82f5d95e7456b754cc188e58...</td>\n",
       "      <td>1307983943</td>\n",
       "      <td>11</td>\n",
       "      <td>297</td>\n",
       "      <td>51853</td>\n",
       "      <td>5000000000</td>\n",
       "      <td>0</td>\n",
       "      <td>794504</td>\n",
       "      <td>1000000</td>\n",
       "    </tr>\n",
       "    <tr>\n",
       "      <th>3</th>\n",
       "      <td>718648</td>\n",
       "      <td>4885ddf124a0f97b5a3775a12de0274d342d12842ebe59...</td>\n",
       "      <td>130560</td>\n",
       "      <td>478</td>\n",
       "      <td>2</td>\n",
       "      <td>00000000000015b9b2b91c82f5d95e7456b754cc188e58...</td>\n",
       "      <td>1307983943</td>\n",
       "      <td>11</td>\n",
       "      <td>297</td>\n",
       "      <td>51853</td>\n",
       "      <td>5000000000</td>\n",
       "      <td>1</td>\n",
       "      <td>787092</td>\n",
       "      <td>2500000000000</td>\n",
       "    </tr>\n",
       "    <tr>\n",
       "      <th>4</th>\n",
       "      <td>718648</td>\n",
       "      <td>4885ddf124a0f97b5a3775a12de0274d342d12842ebe59...</td>\n",
       "      <td>130560</td>\n",
       "      <td>478</td>\n",
       "      <td>2</td>\n",
       "      <td>00000000000015b9b2b91c82f5d95e7456b754cc188e58...</td>\n",
       "      <td>1307983943</td>\n",
       "      <td>11</td>\n",
       "      <td>288</td>\n",
       "      <td>43541</td>\n",
       "      <td>5000000000</td>\n",
       "      <td>0</td>\n",
       "      <td>794504</td>\n",
       "      <td>1000000</td>\n",
       "    </tr>\n",
       "  </tbody>\n",
       "</table>\n",
       "</div>"
      ],
      "text/plain": [
       "     txID                                            tx_hash  blockID  \\\n",
       "0  101661  eb5b761c7380ed4c6adf688f9e5ab94953dcabeda47d9e...    73272   \n",
       "1  101661  eb5b761c7380ed4c6adf688f9e5ab94953dcabeda47d9e...    73272   \n",
       "2  718648  4885ddf124a0f97b5a3775a12de0274d342d12842ebe59...   130560   \n",
       "3  718648  4885ddf124a0f97b5a3775a12de0274d342d12842ebe59...   130560   \n",
       "4  718648  4885ddf124a0f97b5a3775a12de0274d342d12842ebe59...   130560   \n",
       "\n",
       "   n_inputs  n_outputs                                         block_hash  \\\n",
       "0         1          2  00000000006aba8ba340b7ae875b0b1be1af394b4a2610...   \n",
       "1         1          2  00000000006aba8ba340b7ae875b0b1be1af394b4a2610...   \n",
       "2       478          2  00000000000015b9b2b91c82f5d95e7456b754cc188e58...   \n",
       "3       478          2  00000000000015b9b2b91c82f5d95e7456b754cc188e58...   \n",
       "4       478          2  00000000000015b9b2b91c82f5d95e7456b754cc188e58...   \n",
       "\n",
       "   block_timestamp  block_n_txs  input_seq  input_addrID     input_sum  \\\n",
       "0       1281389711            7          0         98866  900000000000   \n",
       "1       1281389711            7          0         98866  900000000000   \n",
       "2       1307983943           11        297         51853    5000000000   \n",
       "3       1307983943           11        297         51853    5000000000   \n",
       "4       1307983943           11        288         43541    5000000000   \n",
       "\n",
       "   output_seq  output_addrID     output_sum  \n",
       "0           1          98910   899900000000  \n",
       "1           0          98866      100000000  \n",
       "2           0         794504        1000000  \n",
       "3           1         787092  2500000000000  \n",
       "4           0         794504        1000000  "
      ]
     },
     "execution_count": 11,
     "metadata": {},
     "output_type": "execute_result"
    }
   ],
   "source": [
    "## Step5: Map Transaction Output Amount (from Data.txin)\n",
    "\n",
    "output_amount_hack =  gbq.read_gbq('SELECT Data.tx.int64_field_0 AS txID, Data.txout.int64_field_1 AS output_seq, Data.txout.int64_field_2 AS output_addrID, Data.txout.int64_field_3 AS output_sum FROM Data.tx INNER JOIN Data.txout on Data.tx.int64_field_0 = Data.txout.int64_field_0 where Data.tx.int64_field_0 in (7953142, 1761953, 1761954, 1761966, 2529782, 8411304, 8915877, 1761972, 6719707, 2529786, 7953108, 1761955, 1761964, 101661, 2802835, 2529773, 2802644, 7495627, 2802645, 8257853, 1761969, 2529781, 1761968, 1761965, 1761952, 2529787, 2530053, 6719706, 2529784, 2529785, 8169822, 718648, 1761967, 1761970, 8114098, 6720088, 1761957, 1761956, 7953106, 8915883, 1761961, 2529783, 1761959, 8217787, 1761951, 1761971, 2803134, 7495626, 1761963, 8387390, 1761962, 1761960, 1761958, 8915880, 6720083, 8915875, 8678426, 8780222, 8518014, 6720176, 7953076, 1761950, 3101854) order by Data.tx.int64_field_0', projectid)\n",
    "tx_hack = pd.merge(tx_hack, output_amount_hack)\n",
    "print(tx_hack.shape)\n",
    "tx_hack.head()"
   ]
  },
  {
   "cell_type": "code",
   "execution_count": 12,
   "metadata": {},
   "outputs": [
    {
     "name": "stdout",
     "output_type": "stream",
     "text": [
      "(2172, 15)\n"
     ]
    },
    {
     "data": {
      "text/html": [
       "<div>\n",
       "<style>\n",
       "    .dataframe thead tr:only-child th {\n",
       "        text-align: right;\n",
       "    }\n",
       "\n",
       "    .dataframe thead th {\n",
       "        text-align: left;\n",
       "    }\n",
       "\n",
       "    .dataframe tbody tr th {\n",
       "        vertical-align: top;\n",
       "    }\n",
       "</style>\n",
       "<table border=\"1\" class=\"dataframe\">\n",
       "  <thead>\n",
       "    <tr style=\"text-align: right;\">\n",
       "      <th></th>\n",
       "      <th>txID</th>\n",
       "      <th>tx_hash</th>\n",
       "      <th>blockID</th>\n",
       "      <th>n_inputs</th>\n",
       "      <th>n_outputs</th>\n",
       "      <th>block_hash</th>\n",
       "      <th>block_timestamp</th>\n",
       "      <th>block_n_txs</th>\n",
       "      <th>input_seq</th>\n",
       "      <th>input_addrID</th>\n",
       "      <th>input_sum</th>\n",
       "      <th>output_seq</th>\n",
       "      <th>output_addrID</th>\n",
       "      <th>output_sum</th>\n",
       "      <th>risk</th>\n",
       "    </tr>\n",
       "  </thead>\n",
       "  <tbody>\n",
       "    <tr>\n",
       "      <th>0</th>\n",
       "      <td>101661</td>\n",
       "      <td>eb5b761c7380ed4c6adf688f9e5ab94953dcabeda47d9e...</td>\n",
       "      <td>73272</td>\n",
       "      <td>1</td>\n",
       "      <td>2</td>\n",
       "      <td>00000000006aba8ba340b7ae875b0b1be1af394b4a2610...</td>\n",
       "      <td>1281389711</td>\n",
       "      <td>7</td>\n",
       "      <td>0</td>\n",
       "      <td>98866</td>\n",
       "      <td>900000000000</td>\n",
       "      <td>1</td>\n",
       "      <td>98910</td>\n",
       "      <td>899900000000</td>\n",
       "      <td>1</td>\n",
       "    </tr>\n",
       "    <tr>\n",
       "      <th>1</th>\n",
       "      <td>101661</td>\n",
       "      <td>eb5b761c7380ed4c6adf688f9e5ab94953dcabeda47d9e...</td>\n",
       "      <td>73272</td>\n",
       "      <td>1</td>\n",
       "      <td>2</td>\n",
       "      <td>00000000006aba8ba340b7ae875b0b1be1af394b4a2610...</td>\n",
       "      <td>1281389711</td>\n",
       "      <td>7</td>\n",
       "      <td>0</td>\n",
       "      <td>98866</td>\n",
       "      <td>900000000000</td>\n",
       "      <td>0</td>\n",
       "      <td>98866</td>\n",
       "      <td>100000000</td>\n",
       "      <td>1</td>\n",
       "    </tr>\n",
       "    <tr>\n",
       "      <th>2</th>\n",
       "      <td>718648</td>\n",
       "      <td>4885ddf124a0f97b5a3775a12de0274d342d12842ebe59...</td>\n",
       "      <td>130560</td>\n",
       "      <td>478</td>\n",
       "      <td>2</td>\n",
       "      <td>00000000000015b9b2b91c82f5d95e7456b754cc188e58...</td>\n",
       "      <td>1307983943</td>\n",
       "      <td>11</td>\n",
       "      <td>297</td>\n",
       "      <td>51853</td>\n",
       "      <td>5000000000</td>\n",
       "      <td>0</td>\n",
       "      <td>794504</td>\n",
       "      <td>1000000</td>\n",
       "      <td>1</td>\n",
       "    </tr>\n",
       "    <tr>\n",
       "      <th>3</th>\n",
       "      <td>718648</td>\n",
       "      <td>4885ddf124a0f97b5a3775a12de0274d342d12842ebe59...</td>\n",
       "      <td>130560</td>\n",
       "      <td>478</td>\n",
       "      <td>2</td>\n",
       "      <td>00000000000015b9b2b91c82f5d95e7456b754cc188e58...</td>\n",
       "      <td>1307983943</td>\n",
       "      <td>11</td>\n",
       "      <td>297</td>\n",
       "      <td>51853</td>\n",
       "      <td>5000000000</td>\n",
       "      <td>1</td>\n",
       "      <td>787092</td>\n",
       "      <td>2500000000000</td>\n",
       "      <td>1</td>\n",
       "    </tr>\n",
       "    <tr>\n",
       "      <th>4</th>\n",
       "      <td>718648</td>\n",
       "      <td>4885ddf124a0f97b5a3775a12de0274d342d12842ebe59...</td>\n",
       "      <td>130560</td>\n",
       "      <td>478</td>\n",
       "      <td>2</td>\n",
       "      <td>00000000000015b9b2b91c82f5d95e7456b754cc188e58...</td>\n",
       "      <td>1307983943</td>\n",
       "      <td>11</td>\n",
       "      <td>288</td>\n",
       "      <td>43541</td>\n",
       "      <td>5000000000</td>\n",
       "      <td>0</td>\n",
       "      <td>794504</td>\n",
       "      <td>1000000</td>\n",
       "      <td>1</td>\n",
       "    </tr>\n",
       "  </tbody>\n",
       "</table>\n",
       "</div>"
      ],
      "text/plain": [
       "     txID                                            tx_hash  blockID  \\\n",
       "0  101661  eb5b761c7380ed4c6adf688f9e5ab94953dcabeda47d9e...    73272   \n",
       "1  101661  eb5b761c7380ed4c6adf688f9e5ab94953dcabeda47d9e...    73272   \n",
       "2  718648  4885ddf124a0f97b5a3775a12de0274d342d12842ebe59...   130560   \n",
       "3  718648  4885ddf124a0f97b5a3775a12de0274d342d12842ebe59...   130560   \n",
       "4  718648  4885ddf124a0f97b5a3775a12de0274d342d12842ebe59...   130560   \n",
       "\n",
       "   n_inputs  n_outputs                                         block_hash  \\\n",
       "0         1          2  00000000006aba8ba340b7ae875b0b1be1af394b4a2610...   \n",
       "1         1          2  00000000006aba8ba340b7ae875b0b1be1af394b4a2610...   \n",
       "2       478          2  00000000000015b9b2b91c82f5d95e7456b754cc188e58...   \n",
       "3       478          2  00000000000015b9b2b91c82f5d95e7456b754cc188e58...   \n",
       "4       478          2  00000000000015b9b2b91c82f5d95e7456b754cc188e58...   \n",
       "\n",
       "   block_timestamp  block_n_txs  input_seq  input_addrID     input_sum  \\\n",
       "0       1281389711            7          0         98866  900000000000   \n",
       "1       1281389711            7          0         98866  900000000000   \n",
       "2       1307983943           11        297         51853    5000000000   \n",
       "3       1307983943           11        297         51853    5000000000   \n",
       "4       1307983943           11        288         43541    5000000000   \n",
       "\n",
       "   output_seq  output_addrID     output_sum  risk  \n",
       "0           1          98910   899900000000     1  \n",
       "1           0          98866      100000000     1  \n",
       "2           0         794504        1000000     1  \n",
       "3           1         787092  2500000000000     1  \n",
       "4           0         794504        1000000     1  "
      ]
     },
     "execution_count": 12,
     "metadata": {},
     "output_type": "execute_result"
    }
   ],
   "source": [
    "## Step6: Assign risk factor\n",
    "\n",
    "tx_hack['risk'] = 1\n",
    "print(tx_hack.shape)\n",
    "tx_hack.head()"
   ]
  },
  {
   "cell_type": "markdown",
   "metadata": {},
   "source": [
    "#### 3.2 Transaction Free from Known Incidents"
   ]
  },
  {
   "cell_type": "code",
   "execution_count": 13,
   "metadata": {},
   "outputs": [
    {
     "name": "stdout",
     "output_type": "stream",
     "text": [
      "(1000000, 5)\n"
     ]
    },
    {
     "data": {
      "text/html": [
       "<div>\n",
       "<style>\n",
       "    .dataframe thead tr:only-child th {\n",
       "        text-align: right;\n",
       "    }\n",
       "\n",
       "    .dataframe thead th {\n",
       "        text-align: left;\n",
       "    }\n",
       "\n",
       "    .dataframe tbody tr th {\n",
       "        vertical-align: top;\n",
       "    }\n",
       "</style>\n",
       "<table border=\"1\" class=\"dataframe\">\n",
       "  <thead>\n",
       "    <tr style=\"text-align: right;\">\n",
       "      <th></th>\n",
       "      <th>txID</th>\n",
       "      <th>tx_hash</th>\n",
       "      <th>blockID</th>\n",
       "      <th>n_inputs</th>\n",
       "      <th>n_outputs</th>\n",
       "    </tr>\n",
       "  </thead>\n",
       "  <tbody>\n",
       "    <tr>\n",
       "      <th>64982</th>\n",
       "      <td>62</td>\n",
       "      <td>701ce76c033e0b03fa79503770a5874840373e30cd9c1e...</td>\n",
       "      <td>62</td>\n",
       "      <td>0</td>\n",
       "      <td>1</td>\n",
       "    </tr>\n",
       "    <tr>\n",
       "      <th>213905</th>\n",
       "      <td>70</td>\n",
       "      <td>aa5f3068b53941915d82be382f2b35711305ec7d454a34...</td>\n",
       "      <td>70</td>\n",
       "      <td>0</td>\n",
       "      <td>1</td>\n",
       "    </tr>\n",
       "    <tr>\n",
       "      <th>515410</th>\n",
       "      <td>207</td>\n",
       "      <td>3eb409c61a3314558d8355a9f2e5ab4470cd12cac3d3eb...</td>\n",
       "      <td>202</td>\n",
       "      <td>0</td>\n",
       "      <td>1</td>\n",
       "    </tr>\n",
       "    <tr>\n",
       "      <th>213906</th>\n",
       "      <td>298</td>\n",
       "      <td>eb82621de40f57f1d30612da0054f05e0ea5eb632951a6...</td>\n",
       "      <td>291</td>\n",
       "      <td>0</td>\n",
       "      <td>1</td>\n",
       "    </tr>\n",
       "    <tr>\n",
       "      <th>739636</th>\n",
       "      <td>358</td>\n",
       "      <td>7bb7e39b2db8ca464db731ab5ce9cf8da82c57f85a97b1...</td>\n",
       "      <td>351</td>\n",
       "      <td>0</td>\n",
       "      <td>1</td>\n",
       "    </tr>\n",
       "  </tbody>\n",
       "</table>\n",
       "</div>"
      ],
      "text/plain": [
       "        txID                                            tx_hash  blockID  \\\n",
       "64982     62  701ce76c033e0b03fa79503770a5874840373e30cd9c1e...       62   \n",
       "213905    70  aa5f3068b53941915d82be382f2b35711305ec7d454a34...       70   \n",
       "515410   207  3eb409c61a3314558d8355a9f2e5ab4470cd12cac3d3eb...      202   \n",
       "213906   298  eb82621de40f57f1d30612da0054f05e0ea5eb632951a6...      291   \n",
       "739636   358  7bb7e39b2db8ca464db731ab5ce9cf8da82c57f85a97b1...      351   \n",
       "\n",
       "        n_inputs  n_outputs  \n",
       "64982          0          1  \n",
       "213905         0          1  \n",
       "515410         0          1  \n",
       "213906         0          1  \n",
       "739636         0          1  "
      ]
     },
     "execution_count": 13,
     "metadata": {},
     "output_type": "execute_result"
    }
   ],
   "source": [
    "## Step1: Identify non-hacked transactions from history (Map Data.tx and Data.txh)\n",
    "\n",
    "tx_non_hack = gbq.read_gbq('SELECT Data.txh.int64_field_0 as txID, Data.txh.string_field_1 as tx_hash, Data.tx.int64_field_1 as blockID, Data.tx.int64_field_2 as n_inputs, Data.tx.int64_field_3 as n_outputs FROM Data.txh INNER JOIN Data.tx on Data.txh.int64_field_0 = Data.tx.int64_field_0 where Data.txh.string_field_1 NOT IN (\"eb5b761c7380ed4c6adf688f9e5ab94953dcabeda47d9eeabd77261902fccccf\", \"4885ddf124a0f97b5a3775a12de0274d342d12842ebe59520359f976721ac8c3\", \"1MAazCWMydsQB5ynYXqSGQDjNQMN3HFmEu\", \"111291fcf8ab84803d42ec59cb4eaceadd661185242a1e8f4b7e49b79ecbe5f3\", \"81f591582b436c5b129f347fe7e681afd6811417973c4a4f83b18e92a9d130fd\", \"ddddf9f04b4c1d4e1185cacf5cf302f3d11dee5d74f71721d741fbb507062e9e\", \"305fbc2ec7f7f2bc5a21d2dfb01a5fc52ab5d064a7278e2ecbab0d2a27b8c392\", \"f0137a6b31947cf7ab367ae23942a263272c41f36252fcd3460ee8b6e94a84c1\", \"633acf266c913523ab5ed9fcc4632bae18d2a7efc1744fd43dd669e5f2869ce5\", \"5bd88ab32b50e4a691dcfd1fff9396f512e003d7275bb5c1b816ab071beca5ba\", \"64c01fedd5cf6d306ca18d85e842f068e19488126c411741e089be8f4052df09\", \"3be0ac3dc1c3b7fa7fbe34f4678037ed733a14e801abe6d3da42bc643a651401\", \"9edab6e7fadf1d6006315ff9394c08a7bf42e19cf61502200a1f73994f8da94b\", \"835d4dcc52e160c23173658de0b747082f1937d1184e8e1838e9394bc62c0392\", \"aebe39a99114f1b46fc5a67289545e54cbfec92d08fc8ffc92dc9df4a15ea05a\", \"aa62bdd690de061a6fbbd88420f7a7aa574ba86da4fe82edc27e2263f8743988\", \"6a86e6a5e8d5f9e9492114dafe5056c5618222f5042408ad867d3c1888855a31\", \"7ad47a19b201ce052f98161de1b1457bacaca2e698f542e196d4c7f8f45899ab\", \"0ca7f7299dc8d87c26c82badf9a303049098af050698c694fbec35c4b08fc3df\", \"3ab5f53978850413a273920bfc86f4278d9c418272accddade736990d60bdd53\", \"03acfae47d1e0b7674f1193237099d1553d3d8a93ecc85c18c4bec37544fe386\", \"15ad0894ab42a46eb04108fb8bd66786566a74356d2103f077710733e0516c3a\", \"2d00ef4895f20904d7d4c0bada17a8e9d47d6c049cd2e5002f8914bfa7f1d27b\", \"6d39eeb2ae7f9d42b0569cf1009de4c9f031450873bf2ec84ce795837482e7a6\", \"07d33c8c74e945c50e45d3eaf4add7553534154503a478cf6d48e1c617b3f9f3\", \"6d5088c138e2fbf4ea7a8c2cb1b57a76c4b0a5fab5f4c188696aad807a5ba6d8\", \"5a09f4ef0e91bc7bc044365cd27236fe4ac3c02088ac21ab51c93c8a11d33d4b\", \"7b45c1742ca9f544cccd92d319ef8a5e19b7dcb8742990724c6a9c2f569ae732\", \"901dbcef30a541b8b55fae8f7ad9917ef0754bda5b643705f3773e590785c4d3\", \"a57132e2cbc580ac262aa3f7bac1e441d6573f9633118bc48009618585a0967e\", \"a82ad85286c68f37a2feda1f5e8a4efa9db1e642b4ef53cb9fd86170169e5e68\", \"ff04763e3e8c93e43799dbbca833e183faad7e2611f20f136f47c2f1049481ae\", \"0268b7285b95444808753969099f7ae43fb4193d442e3e0deebb10e2bb1764d0\", \"34b84108a142ad7b6c36f0f3549a3e83dcdbb60e0ba0df96cd48f852da0b1acb\", \"14350f6f2bda8f4220f5b5e11022ab126a4b178e5c4fca38c6e0deb242c40c5f\", \"266e4682abdf4932c4c271872ca9ba6bfdbe75941eb9ba4c4d81e4d3c7364e4b\", \"40fc8f6b2f222fb2871a38a245132ed1eada9ff6aec8d46ebe74b29c64fd82a7\", \"bf70ac1d2b702dbe0e14fbefb3a0cb2ff5ee5aa425cfe4249f16d6ede7b3ff14\", \"92968a2331a02a3128460a64ba16fbf8d3a2fc79ebc8882300015d3ca0e4fb17\", \"7a22917744aa9ed740faf3068a2f895424ed816ed1a04012b47df7a493f056e8\", \"4c61d3639f010e30ad305b294cd128f381f58fc161d0badda1f39807dc2f12f7.\", \"83f3c30dc4fa25afe57b85651b9bbc372e8789d81b08d6966ea81f524e0a02be\", \"d5d23a05858236c379d2aa30886b97600506933bc46c6f2aab2e05da85e61ad2\", \"358c873892016649ace8e9db4c59f98a6ca8165287ac80e80c52e621f5a26e46\", \"f9d55dc4b8af65e15f856496335a29e2be40f128a7374c75b75529e864579f93\", \"42ea472060118ee5aee801cdedbc4a3403f3708a87340660f766e2669f0afeb0\", \"6f85951bcecbe64999ad192275af087c5be2922ee13937693992c1ddf9ae8ce6\", \"8e6a2d0b8132d3d9edc1fcffe1b3079de59c10c67522e2abc51c1d84b260fdac\", \"9dfdb24667657365c469ff20568fcc820f6f028a125d9c22dc521ae44dcf7c5e\", \"bd2ad7b49c22d12cf2f8f12ef601952aed2a96907af4df732156fd90165b5ef5\", \"d0035ad189634e90239cca82eb53f78e08c0179620b2bd24e2cb291478c7d57a\", \"a2b642bafea45bc128d81314ef33542bc807811ba066329eaa1306bd62bec075\", \"04e378f81eb620f21927639cd4cda00e0473ca958f4d21f2255f37554b5440fa\", \"065e7ff6b1503fc023876ffe930dcd9866531812e40bbda72835f232c2f23910\", \"0723b67631588b6d5a4a406a9ef8d431c0d5282c6f1cb308fef57c7503d83158\", \"0ae924c33555b294a3f0b256da6a02ab996d30be00eaf184d53281009a3a50d6\", \"3f938408deb6d20a74f6256d3ba0217df266450d4c00c40d94df7b840f66db05\", \"9766b624e004ad1a9369b1b461d33f57e7dddabb43942d34ac10e912cd9ce36b\", \"2db76ebd4b5eecf008334d1bdc1f63f764ca3fb9275557a2a82d52ebf52eea9f\", \"c041a74fd565c3eb247ff4b1fb6eb0ab9299c3e7d58e5172c28cbe9540858d5a\", \"82719bedd0730511385faf68d88b9a03e269a40e3fa5f269efe4a9fc3a821f7f\", \"2bc69aa29f56d7051f9cb19bf923c5e2a81879b4f6a3bc849f4166f56d417c2a\", \"8d6602b0e8e4479d79e5dab0c35bdb4f7545513cb426411348ec1502413a8f80\", \"3a66ebef43041f230e799f1efd3a93e41f875c718da683e236632e13a70cf898\", \"0197692748ba894697a0a48fdfdb3e72f3275b079005efad8be062de38b65edf\") LIMIT 1000000', projectid)\n",
    "tx_non_hack = tx_non_hack.sort_values(by = ['txID'])\n",
    "print(tx_non_hack.shape)\n",
    "tx_non_hack.head()"
   ]
  },
  {
   "cell_type": "code",
   "execution_count": 14,
   "metadata": {},
   "outputs": [
    {
     "name": "stdout",
     "output_type": "stream",
     "text": [
      "(1736, 8)\n"
     ]
    },
    {
     "data": {
      "text/html": [
       "<div>\n",
       "<style>\n",
       "    .dataframe thead tr:only-child th {\n",
       "        text-align: right;\n",
       "    }\n",
       "\n",
       "    .dataframe thead th {\n",
       "        text-align: left;\n",
       "    }\n",
       "\n",
       "    .dataframe tbody tr th {\n",
       "        vertical-align: top;\n",
       "    }\n",
       "</style>\n",
       "<table border=\"1\" class=\"dataframe\">\n",
       "  <thead>\n",
       "    <tr style=\"text-align: right;\">\n",
       "      <th></th>\n",
       "      <th>txID</th>\n",
       "      <th>tx_hash</th>\n",
       "      <th>blockID</th>\n",
       "      <th>n_inputs</th>\n",
       "      <th>n_outputs</th>\n",
       "      <th>block_hash</th>\n",
       "      <th>block_timestamp</th>\n",
       "      <th>block_n_txs</th>\n",
       "    </tr>\n",
       "  </thead>\n",
       "  <tbody>\n",
       "    <tr>\n",
       "      <th>0</th>\n",
       "      <td>2434</td>\n",
       "      <td>f52d78150746f8db15ff4d15c1a0dd0e3ecbf36802c95d...</td>\n",
       "      <td>2403</td>\n",
       "      <td>0</td>\n",
       "      <td>1</td>\n",
       "      <td>00000000a8dbbd2c5c1b17611ddde87ef045a49e528dd9...</td>\n",
       "      <td>1233357411</td>\n",
       "      <td>1</td>\n",
       "    </tr>\n",
       "    <tr>\n",
       "      <th>1</th>\n",
       "      <td>3090</td>\n",
       "      <td>1f379c543833990183a642fe4a91c2041b0351a8a94406...</td>\n",
       "      <td>3040</td>\n",
       "      <td>0</td>\n",
       "      <td>1</td>\n",
       "      <td>00000000d49db14e5c9db263bbc5989f3eb4cbbbcf7ae8...</td>\n",
       "      <td>1233790027</td>\n",
       "      <td>1</td>\n",
       "    </tr>\n",
       "    <tr>\n",
       "      <th>2</th>\n",
       "      <td>3139</td>\n",
       "      <td>5ce734271d683c247c555142cad43806d9574a31e7c4f6...</td>\n",
       "      <td>3089</td>\n",
       "      <td>0</td>\n",
       "      <td>1</td>\n",
       "      <td>00000000f1d6d6a4200dc8f0d2b9d2a70fd5e14e4f4534...</td>\n",
       "      <td>1233826570</td>\n",
       "      <td>1</td>\n",
       "    </tr>\n",
       "    <tr>\n",
       "      <th>3</th>\n",
       "      <td>3485</td>\n",
       "      <td>bac7334be18f34c81b53f8778fdf597a9c485deea887da...</td>\n",
       "      <td>3431</td>\n",
       "      <td>0</td>\n",
       "      <td>1</td>\n",
       "      <td>000000000150d645c43690bc7ba1caaa7add0a25bd32c2...</td>\n",
       "      <td>1234059037</td>\n",
       "      <td>1</td>\n",
       "    </tr>\n",
       "    <tr>\n",
       "      <th>4</th>\n",
       "      <td>3495</td>\n",
       "      <td>0349a40a0889a79221c0a22d86c6f1faf459f178b96e1f...</td>\n",
       "      <td>3441</td>\n",
       "      <td>0</td>\n",
       "      <td>1</td>\n",
       "      <td>00000000d77100eeadaa69f6232358a6f7b79199108f84...</td>\n",
       "      <td>1234066802</td>\n",
       "      <td>1</td>\n",
       "    </tr>\n",
       "  </tbody>\n",
       "</table>\n",
       "</div>"
      ],
      "text/plain": [
       "   txID                                            tx_hash  blockID  n_inputs  \\\n",
       "0  2434  f52d78150746f8db15ff4d15c1a0dd0e3ecbf36802c95d...     2403         0   \n",
       "1  3090  1f379c543833990183a642fe4a91c2041b0351a8a94406...     3040         0   \n",
       "2  3139  5ce734271d683c247c555142cad43806d9574a31e7c4f6...     3089         0   \n",
       "3  3485  bac7334be18f34c81b53f8778fdf597a9c485deea887da...     3431         0   \n",
       "4  3495  0349a40a0889a79221c0a22d86c6f1faf459f178b96e1f...     3441         0   \n",
       "\n",
       "   n_outputs                                         block_hash  \\\n",
       "0          1  00000000a8dbbd2c5c1b17611ddde87ef045a49e528dd9...   \n",
       "1          1  00000000d49db14e5c9db263bbc5989f3eb4cbbbcf7ae8...   \n",
       "2          1  00000000f1d6d6a4200dc8f0d2b9d2a70fd5e14e4f4534...   \n",
       "3          1  000000000150d645c43690bc7ba1caaa7add0a25bd32c2...   \n",
       "4          1  00000000d77100eeadaa69f6232358a6f7b79199108f84...   \n",
       "\n",
       "   block_timestamp  block_n_txs  \n",
       "0       1233357411            1  \n",
       "1       1233790027            1  \n",
       "2       1233826570            1  \n",
       "3       1234059037            1  \n",
       "4       1234066802            1  "
      ]
     },
     "execution_count": 14,
     "metadata": {},
     "output_type": "execute_result"
    }
   ],
   "source": [
    "## Step2: Map block details (from Data.bh)\n",
    "\n",
    "block_non_hack = gbq.read_gbq('SELECT Data.bh.int64_field_0 AS blockID, Data.bh.string_field_1 AS block_hash, Data.bh.int64_field_2 AS block_timestamp, Data.bh.int64_field_3 AS block_n_txs, Data.tx.int64_field_0 AS txID FROM Data.bh INNER JOIN Data.tx on Data.bh.int64_field_0 = Data.tx.int64_field_1 where Data.tx.int64_field_0 NOT in (7953142, 1761953, 1761954, 1761966, 2529782, 8411304, 8915877, 1761972, 6719707, 2529786, 7953108, 1761955, 1761964, 101661, 2802835, 2529773, 2802644, 7495627, 2802645, 8257853, 1761969, 2529781, 1761968, 1761965, 1761952, 2529787, 2530053, 6719706, 2529784, 2529785, 8169822, 718648, 1761967, 1761970, 8114098, 6720088, 1761957, 1761956, 7953106, 8915883, 1761961, 2529783, 1761959, 8217787, 1761951, 1761971, 2803134, 7495626, 1761963, 8387390, 1761962, 1761960, 1761958, 8915880, 6720083, 8915875, 8678426, 8780222, 8518014, 6720176, 7953076, 1761950, 3101854) LIMIT 1000000', projectid)\n",
    "tx_non_hack = pd.merge(tx_non_hack, block_non_hack)\n",
    "print(tx_non_hack.shape)\n",
    "tx_non_hack.head()"
   ]
  },
  {
   "cell_type": "code",
   "execution_count": 15,
   "metadata": {},
   "outputs": [
    {
     "name": "stdout",
     "output_type": "stream",
     "text": [
      "(0, 11)\n"
     ]
    },
    {
     "data": {
      "text/html": [
       "<div>\n",
       "<style>\n",
       "    .dataframe thead tr:only-child th {\n",
       "        text-align: right;\n",
       "    }\n",
       "\n",
       "    .dataframe thead th {\n",
       "        text-align: left;\n",
       "    }\n",
       "\n",
       "    .dataframe tbody tr th {\n",
       "        vertical-align: top;\n",
       "    }\n",
       "</style>\n",
       "<table border=\"1\" class=\"dataframe\">\n",
       "  <thead>\n",
       "    <tr style=\"text-align: right;\">\n",
       "      <th></th>\n",
       "      <th>txID</th>\n",
       "      <th>tx_hash</th>\n",
       "      <th>blockID</th>\n",
       "      <th>n_inputs</th>\n",
       "      <th>n_outputs</th>\n",
       "      <th>block_hash</th>\n",
       "      <th>block_timestamp</th>\n",
       "      <th>block_n_txs</th>\n",
       "      <th>input_seq</th>\n",
       "      <th>input_addrID</th>\n",
       "      <th>input_sum</th>\n",
       "    </tr>\n",
       "  </thead>\n",
       "  <tbody>\n",
       "  </tbody>\n",
       "</table>\n",
       "</div>"
      ],
      "text/plain": [
       "Empty DataFrame\n",
       "Columns: [txID, tx_hash, blockID, n_inputs, n_outputs, block_hash, block_timestamp, block_n_txs, input_seq, input_addrID, input_sum]\n",
       "Index: []"
      ]
     },
     "execution_count": 15,
     "metadata": {},
     "output_type": "execute_result"
    }
   ],
   "source": [
    "## Step4: Map Transaction Input Amount (from Data.txin)\n",
    "\n",
    "input_amount_non_hack =  gbq.read_gbq('SELECT Data.tx.int64_field_0 AS txID, Data.txin.int64_field_1 AS input_seq, Data.txin.int64_field_4 AS input_addrID, int64_field_5 AS input_sum FROM Data.tx INNER JOIN Data.txin on Data.tx.int64_field_0 = Data.txin.int64_field_0 where Data.tx.int64_field_0 NOT in (7953142, 1761953, 1761954, 1761966, 2529782, 8411304, 8915877, 1761972, 6719707, 2529786, 7953108, 1761955, 1761964, 101661, 2802835, 2529773, 2802644, 7495627, 2802645, 8257853, 1761969, 2529781, 1761968, 1761965, 1761952, 2529787, 2530053, 6719706, 2529784, 2529785, 8169822, 718648, 1761967, 1761970, 8114098, 6720088, 1761957, 1761956, 7953106, 8915883, 1761961, 2529783, 1761959, 8217787, 1761951, 1761971, 2803134, 7495626, 1761963, 8387390, 1761962, 1761960, 1761958, 8915880, 6720083, 8915875, 8678426, 8780222, 8518014, 6720176, 7953076, 1761950, 3101854) LIMIT 1000000', projectid)\n",
    "tx_non_hack = pd.merge(tx_non_hack, input_amount_non_hack)\n",
    "print(tx_non_hack.shape)\n",
    "tx_non_hack.head()"
   ]
  },
  {
   "cell_type": "code",
   "execution_count": 16,
   "metadata": {},
   "outputs": [
    {
     "name": "stdout",
     "output_type": "stream",
     "text": [
      "(0, 14)\n"
     ]
    },
    {
     "data": {
      "text/html": [
       "<div>\n",
       "<style>\n",
       "    .dataframe thead tr:only-child th {\n",
       "        text-align: right;\n",
       "    }\n",
       "\n",
       "    .dataframe thead th {\n",
       "        text-align: left;\n",
       "    }\n",
       "\n",
       "    .dataframe tbody tr th {\n",
       "        vertical-align: top;\n",
       "    }\n",
       "</style>\n",
       "<table border=\"1\" class=\"dataframe\">\n",
       "  <thead>\n",
       "    <tr style=\"text-align: right;\">\n",
       "      <th></th>\n",
       "      <th>tx_hash</th>\n",
       "      <th>blockID</th>\n",
       "      <th>n_inputs</th>\n",
       "      <th>n_outputs</th>\n",
       "      <th>block_hash</th>\n",
       "      <th>block_timestamp</th>\n",
       "      <th>block_n_txs</th>\n",
       "      <th>input_seq</th>\n",
       "      <th>input_addrID</th>\n",
       "      <th>input_sum</th>\n",
       "      <th>txID</th>\n",
       "      <th>output_seq</th>\n",
       "      <th>output_addrID</th>\n",
       "      <th>output_sum</th>\n",
       "    </tr>\n",
       "  </thead>\n",
       "  <tbody>\n",
       "  </tbody>\n",
       "</table>\n",
       "</div>"
      ],
      "text/plain": [
       "Empty DataFrame\n",
       "Columns: [tx_hash, blockID, n_inputs, n_outputs, block_hash, block_timestamp, block_n_txs, input_seq, input_addrID, input_sum, txID, output_seq, output_addrID, output_sum]\n",
       "Index: []"
      ]
     },
     "execution_count": 16,
     "metadata": {},
     "output_type": "execute_result"
    }
   ],
   "source": [
    "## Step5: Map Transaction Output Amount (from Data.txin)\n",
    "\n",
    "output_amount_non_hack =  gbq.read_gbq('SELECT Data.tx.int64_field_0 AS txID, Data.txout.int64_field_1 AS output_seq, Data.txout.int64_field_2 AS output_addrID, Data.txout.int64_field_3 AS output_sum FROM Data.tx INNER JOIN Data.txout on Data.tx.int64_field_0 = Data.txout.int64_field_0 where Data.tx.int64_field_0 NOT in (7953142, 1761953, 1761954, 1761966, 2529782, 8411304, 8915877, 1761972, 6719707, 2529786, 7953108, 1761955, 1761964, 101661, 2802835, 2529773, 2802644, 7495627, 2802645, 8257853, 1761969, 2529781, 1761968, 1761965, 1761952, 2529787, 2530053, 6719706, 2529784, 2529785, 8169822, 718648, 1761967, 1761970, 8114098, 6720088, 1761957, 1761956, 7953106, 8915883, 1761961, 2529783, 1761959, 8217787, 1761951, 1761971, 2803134, 7495626, 1761963, 8387390, 1761962, 1761960, 1761958, 8915880, 6720083, 8915875, 8678426, 8780222, 8518014, 6720176, 7953076, 1761950, 3101854) LIMIT 1000000', projectid)\n",
    "tx_non_hack = pd.merge(tx_non_hack, output_amount_non_hack)\n",
    "print(tx_non_hack.shape)\n",
    "tx_non_hack.head()"
   ]
  },
  {
   "cell_type": "code",
   "execution_count": 17,
   "metadata": {},
   "outputs": [
    {
     "name": "stdout",
     "output_type": "stream",
     "text": [
      "(0, 15)\n"
     ]
    },
    {
     "data": {
      "text/html": [
       "<div>\n",
       "<style>\n",
       "    .dataframe thead tr:only-child th {\n",
       "        text-align: right;\n",
       "    }\n",
       "\n",
       "    .dataframe thead th {\n",
       "        text-align: left;\n",
       "    }\n",
       "\n",
       "    .dataframe tbody tr th {\n",
       "        vertical-align: top;\n",
       "    }\n",
       "</style>\n",
       "<table border=\"1\" class=\"dataframe\">\n",
       "  <thead>\n",
       "    <tr style=\"text-align: right;\">\n",
       "      <th></th>\n",
       "      <th>tx_hash</th>\n",
       "      <th>blockID</th>\n",
       "      <th>n_inputs</th>\n",
       "      <th>n_outputs</th>\n",
       "      <th>block_hash</th>\n",
       "      <th>block_timestamp</th>\n",
       "      <th>block_n_txs</th>\n",
       "      <th>input_seq</th>\n",
       "      <th>input_addrID</th>\n",
       "      <th>input_sum</th>\n",
       "      <th>txID</th>\n",
       "      <th>output_seq</th>\n",
       "      <th>output_addrID</th>\n",
       "      <th>output_sum</th>\n",
       "      <th>risk</th>\n",
       "    </tr>\n",
       "  </thead>\n",
       "  <tbody>\n",
       "  </tbody>\n",
       "</table>\n",
       "</div>"
      ],
      "text/plain": [
       "Empty DataFrame\n",
       "Columns: [tx_hash, blockID, n_inputs, n_outputs, block_hash, block_timestamp, block_n_txs, input_seq, input_addrID, input_sum, txID, output_seq, output_addrID, output_sum, risk]\n",
       "Index: []"
      ]
     },
     "execution_count": 17,
     "metadata": {},
     "output_type": "execute_result"
    }
   ],
   "source": [
    "## Step6: Assign risk factor\n",
    "\n",
    "tx_non_hack['risk'] = 0\n",
    "print(tx_non_hack.shape)\n",
    "tx_non_hack.head()"
   ]
  },
  {
   "cell_type": "markdown",
   "metadata": {},
   "source": [
    "# Since this process resulted into 0 records for non-hack segment, I ran the SQL queries directly on Google Big Query platform, created required files there and imported the final file to this notebook."
   ]
  },
  {
   "cell_type": "code",
   "execution_count": 18,
   "metadata": {},
   "outputs": [
    {
     "name": "stdout",
     "output_type": "stream",
     "text": [
      "(862617, 14)\n"
     ]
    },
    {
     "data": {
      "text/html": [
       "<div>\n",
       "<style>\n",
       "    .dataframe thead tr:only-child th {\n",
       "        text-align: right;\n",
       "    }\n",
       "\n",
       "    .dataframe thead th {\n",
       "        text-align: left;\n",
       "    }\n",
       "\n",
       "    .dataframe tbody tr th {\n",
       "        vertical-align: top;\n",
       "    }\n",
       "</style>\n",
       "<table border=\"1\" class=\"dataframe\">\n",
       "  <thead>\n",
       "    <tr style=\"text-align: right;\">\n",
       "      <th></th>\n",
       "      <th>blockID</th>\n",
       "      <th>block_hash</th>\n",
       "      <th>block_timestamp</th>\n",
       "      <th>block_n_txs</th>\n",
       "      <th>txID</th>\n",
       "      <th>tx_hash</th>\n",
       "      <th>n_inputs</th>\n",
       "      <th>n_outputs</th>\n",
       "      <th>input_seq</th>\n",
       "      <th>input_addrID</th>\n",
       "      <th>input_sum</th>\n",
       "      <th>output_seq</th>\n",
       "      <th>output_addrID</th>\n",
       "      <th>output_sum</th>\n",
       "    </tr>\n",
       "  </thead>\n",
       "  <tbody>\n",
       "    <tr>\n",
       "      <th>0</th>\n",
       "      <td>506066</td>\n",
       "      <td>00000000000000000044eae31ce519ba74e715d8801154...</td>\n",
       "      <td>1516893645</td>\n",
       "      <td>1944</td>\n",
       "      <td>295330991</td>\n",
       "      <td>e7fe71410049868ecf7f91df99b9746a9e5767fb6d8364...</td>\n",
       "      <td>1</td>\n",
       "      <td>20</td>\n",
       "      <td>0</td>\n",
       "      <td>365747202</td>\n",
       "      <td>73324266</td>\n",
       "      <td>14</td>\n",
       "      <td>365735536</td>\n",
       "      <td>21294</td>\n",
       "    </tr>\n",
       "    <tr>\n",
       "      <th>1</th>\n",
       "      <td>506066</td>\n",
       "      <td>00000000000000000044eae31ce519ba74e715d8801154...</td>\n",
       "      <td>1516893645</td>\n",
       "      <td>1944</td>\n",
       "      <td>295330991</td>\n",
       "      <td>e7fe71410049868ecf7f91df99b9746a9e5767fb6d8364...</td>\n",
       "      <td>1</td>\n",
       "      <td>20</td>\n",
       "      <td>0</td>\n",
       "      <td>365747202</td>\n",
       "      <td>73324266</td>\n",
       "      <td>15</td>\n",
       "      <td>365749634</td>\n",
       "      <td>18520</td>\n",
       "    </tr>\n",
       "    <tr>\n",
       "      <th>2</th>\n",
       "      <td>506066</td>\n",
       "      <td>00000000000000000044eae31ce519ba74e715d8801154...</td>\n",
       "      <td>1516893645</td>\n",
       "      <td>1944</td>\n",
       "      <td>295330991</td>\n",
       "      <td>e7fe71410049868ecf7f91df99b9746a9e5767fb6d8364...</td>\n",
       "      <td>1</td>\n",
       "      <td>20</td>\n",
       "      <td>0</td>\n",
       "      <td>365747202</td>\n",
       "      <td>73324266</td>\n",
       "      <td>16</td>\n",
       "      <td>354903183</td>\n",
       "      <td>3685362</td>\n",
       "    </tr>\n",
       "    <tr>\n",
       "      <th>3</th>\n",
       "      <td>506066</td>\n",
       "      <td>00000000000000000044eae31ce519ba74e715d8801154...</td>\n",
       "      <td>1516893645</td>\n",
       "      <td>1944</td>\n",
       "      <td>295330991</td>\n",
       "      <td>e7fe71410049868ecf7f91df99b9746a9e5767fb6d8364...</td>\n",
       "      <td>1</td>\n",
       "      <td>20</td>\n",
       "      <td>0</td>\n",
       "      <td>365747202</td>\n",
       "      <td>73324266</td>\n",
       "      <td>17</td>\n",
       "      <td>365749635</td>\n",
       "      <td>277765</td>\n",
       "    </tr>\n",
       "    <tr>\n",
       "      <th>4</th>\n",
       "      <td>506066</td>\n",
       "      <td>00000000000000000044eae31ce519ba74e715d8801154...</td>\n",
       "      <td>1516893645</td>\n",
       "      <td>1944</td>\n",
       "      <td>295330991</td>\n",
       "      <td>e7fe71410049868ecf7f91df99b9746a9e5767fb6d8364...</td>\n",
       "      <td>1</td>\n",
       "      <td>20</td>\n",
       "      <td>0</td>\n",
       "      <td>365747202</td>\n",
       "      <td>73324266</td>\n",
       "      <td>18</td>\n",
       "      <td>228123889</td>\n",
       "      <td>1150000</td>\n",
       "    </tr>\n",
       "  </tbody>\n",
       "</table>\n",
       "</div>"
      ],
      "text/plain": [
       "   blockID                                         block_hash  \\\n",
       "0   506066  00000000000000000044eae31ce519ba74e715d8801154...   \n",
       "1   506066  00000000000000000044eae31ce519ba74e715d8801154...   \n",
       "2   506066  00000000000000000044eae31ce519ba74e715d8801154...   \n",
       "3   506066  00000000000000000044eae31ce519ba74e715d8801154...   \n",
       "4   506066  00000000000000000044eae31ce519ba74e715d8801154...   \n",
       "\n",
       "   block_timestamp  block_n_txs       txID  \\\n",
       "0       1516893645         1944  295330991   \n",
       "1       1516893645         1944  295330991   \n",
       "2       1516893645         1944  295330991   \n",
       "3       1516893645         1944  295330991   \n",
       "4       1516893645         1944  295330991   \n",
       "\n",
       "                                             tx_hash  n_inputs  n_outputs  \\\n",
       "0  e7fe71410049868ecf7f91df99b9746a9e5767fb6d8364...         1         20   \n",
       "1  e7fe71410049868ecf7f91df99b9746a9e5767fb6d8364...         1         20   \n",
       "2  e7fe71410049868ecf7f91df99b9746a9e5767fb6d8364...         1         20   \n",
       "3  e7fe71410049868ecf7f91df99b9746a9e5767fb6d8364...         1         20   \n",
       "4  e7fe71410049868ecf7f91df99b9746a9e5767fb6d8364...         1         20   \n",
       "\n",
       "   input_seq  input_addrID  input_sum  output_seq  output_addrID  output_sum  \n",
       "0          0     365747202   73324266          14      365735536       21294  \n",
       "1          0     365747202   73324266          15      365749634       18520  \n",
       "2          0     365747202   73324266          16      354903183     3685362  \n",
       "3          0     365747202   73324266          17      365749635      277765  \n",
       "4          0     365747202   73324266          18      228123889     1150000  "
      ]
     },
     "execution_count": 18,
     "metadata": {},
     "output_type": "execute_result"
    }
   ],
   "source": [
    "## Step1: Import tx_non_hack from GBQ\n",
    "\n",
    "tx_non_hack = gbq.read_gbq('SELECT * FROM Data.tx_non_hack_3', projectid)\n",
    "print(tx_non_hack.shape)\n",
    "tx_non_hack.head()"
   ]
  },
  {
   "cell_type": "code",
   "execution_count": 19,
   "metadata": {},
   "outputs": [
    {
     "name": "stdout",
     "output_type": "stream",
     "text": [
      "(862617, 15)\n"
     ]
    },
    {
     "data": {
      "text/html": [
       "<div>\n",
       "<style>\n",
       "    .dataframe thead tr:only-child th {\n",
       "        text-align: right;\n",
       "    }\n",
       "\n",
       "    .dataframe thead th {\n",
       "        text-align: left;\n",
       "    }\n",
       "\n",
       "    .dataframe tbody tr th {\n",
       "        vertical-align: top;\n",
       "    }\n",
       "</style>\n",
       "<table border=\"1\" class=\"dataframe\">\n",
       "  <thead>\n",
       "    <tr style=\"text-align: right;\">\n",
       "      <th></th>\n",
       "      <th>blockID</th>\n",
       "      <th>block_hash</th>\n",
       "      <th>block_timestamp</th>\n",
       "      <th>block_n_txs</th>\n",
       "      <th>txID</th>\n",
       "      <th>tx_hash</th>\n",
       "      <th>n_inputs</th>\n",
       "      <th>n_outputs</th>\n",
       "      <th>input_seq</th>\n",
       "      <th>input_addrID</th>\n",
       "      <th>input_sum</th>\n",
       "      <th>output_seq</th>\n",
       "      <th>output_addrID</th>\n",
       "      <th>output_sum</th>\n",
       "      <th>risk</th>\n",
       "    </tr>\n",
       "  </thead>\n",
       "  <tbody>\n",
       "    <tr>\n",
       "      <th>0</th>\n",
       "      <td>506066</td>\n",
       "      <td>00000000000000000044eae31ce519ba74e715d8801154...</td>\n",
       "      <td>1516893645</td>\n",
       "      <td>1944</td>\n",
       "      <td>295330991</td>\n",
       "      <td>e7fe71410049868ecf7f91df99b9746a9e5767fb6d8364...</td>\n",
       "      <td>1</td>\n",
       "      <td>20</td>\n",
       "      <td>0</td>\n",
       "      <td>365747202</td>\n",
       "      <td>73324266</td>\n",
       "      <td>14</td>\n",
       "      <td>365735536</td>\n",
       "      <td>21294</td>\n",
       "      <td>0</td>\n",
       "    </tr>\n",
       "    <tr>\n",
       "      <th>1</th>\n",
       "      <td>506066</td>\n",
       "      <td>00000000000000000044eae31ce519ba74e715d8801154...</td>\n",
       "      <td>1516893645</td>\n",
       "      <td>1944</td>\n",
       "      <td>295330991</td>\n",
       "      <td>e7fe71410049868ecf7f91df99b9746a9e5767fb6d8364...</td>\n",
       "      <td>1</td>\n",
       "      <td>20</td>\n",
       "      <td>0</td>\n",
       "      <td>365747202</td>\n",
       "      <td>73324266</td>\n",
       "      <td>15</td>\n",
       "      <td>365749634</td>\n",
       "      <td>18520</td>\n",
       "      <td>0</td>\n",
       "    </tr>\n",
       "    <tr>\n",
       "      <th>2</th>\n",
       "      <td>506066</td>\n",
       "      <td>00000000000000000044eae31ce519ba74e715d8801154...</td>\n",
       "      <td>1516893645</td>\n",
       "      <td>1944</td>\n",
       "      <td>295330991</td>\n",
       "      <td>e7fe71410049868ecf7f91df99b9746a9e5767fb6d8364...</td>\n",
       "      <td>1</td>\n",
       "      <td>20</td>\n",
       "      <td>0</td>\n",
       "      <td>365747202</td>\n",
       "      <td>73324266</td>\n",
       "      <td>16</td>\n",
       "      <td>354903183</td>\n",
       "      <td>3685362</td>\n",
       "      <td>0</td>\n",
       "    </tr>\n",
       "    <tr>\n",
       "      <th>3</th>\n",
       "      <td>506066</td>\n",
       "      <td>00000000000000000044eae31ce519ba74e715d8801154...</td>\n",
       "      <td>1516893645</td>\n",
       "      <td>1944</td>\n",
       "      <td>295330991</td>\n",
       "      <td>e7fe71410049868ecf7f91df99b9746a9e5767fb6d8364...</td>\n",
       "      <td>1</td>\n",
       "      <td>20</td>\n",
       "      <td>0</td>\n",
       "      <td>365747202</td>\n",
       "      <td>73324266</td>\n",
       "      <td>17</td>\n",
       "      <td>365749635</td>\n",
       "      <td>277765</td>\n",
       "      <td>0</td>\n",
       "    </tr>\n",
       "    <tr>\n",
       "      <th>4</th>\n",
       "      <td>506066</td>\n",
       "      <td>00000000000000000044eae31ce519ba74e715d8801154...</td>\n",
       "      <td>1516893645</td>\n",
       "      <td>1944</td>\n",
       "      <td>295330991</td>\n",
       "      <td>e7fe71410049868ecf7f91df99b9746a9e5767fb6d8364...</td>\n",
       "      <td>1</td>\n",
       "      <td>20</td>\n",
       "      <td>0</td>\n",
       "      <td>365747202</td>\n",
       "      <td>73324266</td>\n",
       "      <td>18</td>\n",
       "      <td>228123889</td>\n",
       "      <td>1150000</td>\n",
       "      <td>0</td>\n",
       "    </tr>\n",
       "  </tbody>\n",
       "</table>\n",
       "</div>"
      ],
      "text/plain": [
       "   blockID                                         block_hash  \\\n",
       "0   506066  00000000000000000044eae31ce519ba74e715d8801154...   \n",
       "1   506066  00000000000000000044eae31ce519ba74e715d8801154...   \n",
       "2   506066  00000000000000000044eae31ce519ba74e715d8801154...   \n",
       "3   506066  00000000000000000044eae31ce519ba74e715d8801154...   \n",
       "4   506066  00000000000000000044eae31ce519ba74e715d8801154...   \n",
       "\n",
       "   block_timestamp  block_n_txs       txID  \\\n",
       "0       1516893645         1944  295330991   \n",
       "1       1516893645         1944  295330991   \n",
       "2       1516893645         1944  295330991   \n",
       "3       1516893645         1944  295330991   \n",
       "4       1516893645         1944  295330991   \n",
       "\n",
       "                                             tx_hash  n_inputs  n_outputs  \\\n",
       "0  e7fe71410049868ecf7f91df99b9746a9e5767fb6d8364...         1         20   \n",
       "1  e7fe71410049868ecf7f91df99b9746a9e5767fb6d8364...         1         20   \n",
       "2  e7fe71410049868ecf7f91df99b9746a9e5767fb6d8364...         1         20   \n",
       "3  e7fe71410049868ecf7f91df99b9746a9e5767fb6d8364...         1         20   \n",
       "4  e7fe71410049868ecf7f91df99b9746a9e5767fb6d8364...         1         20   \n",
       "\n",
       "   input_seq  input_addrID  input_sum  output_seq  output_addrID  output_sum  \\\n",
       "0          0     365747202   73324266          14      365735536       21294   \n",
       "1          0     365747202   73324266          15      365749634       18520   \n",
       "2          0     365747202   73324266          16      354903183     3685362   \n",
       "3          0     365747202   73324266          17      365749635      277765   \n",
       "4          0     365747202   73324266          18      228123889     1150000   \n",
       "\n",
       "   risk  \n",
       "0     0  \n",
       "1     0  \n",
       "2     0  \n",
       "3     0  \n",
       "4     0  "
      ]
     },
     "execution_count": 19,
     "metadata": {},
     "output_type": "execute_result"
    }
   ],
   "source": [
    "## Step2: Assign risk factor\n",
    "\n",
    "tx_non_hack['risk'] = 0\n",
    "print(tx_non_hack.shape)\n",
    "tx_non_hack.head()"
   ]
  },
  {
   "cell_type": "markdown",
   "metadata": {},
   "source": [
    "#### 3.2 Append Data for Hacks & Non-hacks"
   ]
  },
  {
   "cell_type": "code",
   "execution_count": 20,
   "metadata": {},
   "outputs": [
    {
     "data": {
      "text/plain": [
       "(2172, 15)"
      ]
     },
     "execution_count": 20,
     "metadata": {},
     "output_type": "execute_result"
    }
   ],
   "source": [
    "tx_btc = tx_hack\n",
    "tx_btc.shape"
   ]
  },
  {
   "cell_type": "code",
   "execution_count": 21,
   "metadata": {},
   "outputs": [
    {
     "name": "stdout",
     "output_type": "stream",
     "text": [
      "(864789, 15)\n"
     ]
    },
    {
     "data": {
      "text/html": [
       "<div>\n",
       "<style>\n",
       "    .dataframe thead tr:only-child th {\n",
       "        text-align: right;\n",
       "    }\n",
       "\n",
       "    .dataframe thead th {\n",
       "        text-align: left;\n",
       "    }\n",
       "\n",
       "    .dataframe tbody tr th {\n",
       "        vertical-align: top;\n",
       "    }\n",
       "</style>\n",
       "<table border=\"1\" class=\"dataframe\">\n",
       "  <thead>\n",
       "    <tr style=\"text-align: right;\">\n",
       "      <th></th>\n",
       "      <th>blockID</th>\n",
       "      <th>block_hash</th>\n",
       "      <th>block_n_txs</th>\n",
       "      <th>block_timestamp</th>\n",
       "      <th>input_addrID</th>\n",
       "      <th>input_seq</th>\n",
       "      <th>input_sum</th>\n",
       "      <th>n_inputs</th>\n",
       "      <th>n_outputs</th>\n",
       "      <th>output_addrID</th>\n",
       "      <th>output_seq</th>\n",
       "      <th>output_sum</th>\n",
       "      <th>risk</th>\n",
       "      <th>txID</th>\n",
       "      <th>tx_hash</th>\n",
       "    </tr>\n",
       "  </thead>\n",
       "  <tbody>\n",
       "    <tr>\n",
       "      <th>0</th>\n",
       "      <td>73272</td>\n",
       "      <td>00000000006aba8ba340b7ae875b0b1be1af394b4a2610...</td>\n",
       "      <td>7</td>\n",
       "      <td>1281389711</td>\n",
       "      <td>98866</td>\n",
       "      <td>0</td>\n",
       "      <td>900000000000</td>\n",
       "      <td>1</td>\n",
       "      <td>2</td>\n",
       "      <td>98910</td>\n",
       "      <td>1</td>\n",
       "      <td>899900000000</td>\n",
       "      <td>1</td>\n",
       "      <td>101661</td>\n",
       "      <td>eb5b761c7380ed4c6adf688f9e5ab94953dcabeda47d9e...</td>\n",
       "    </tr>\n",
       "    <tr>\n",
       "      <th>1</th>\n",
       "      <td>73272</td>\n",
       "      <td>00000000006aba8ba340b7ae875b0b1be1af394b4a2610...</td>\n",
       "      <td>7</td>\n",
       "      <td>1281389711</td>\n",
       "      <td>98866</td>\n",
       "      <td>0</td>\n",
       "      <td>900000000000</td>\n",
       "      <td>1</td>\n",
       "      <td>2</td>\n",
       "      <td>98866</td>\n",
       "      <td>0</td>\n",
       "      <td>100000000</td>\n",
       "      <td>1</td>\n",
       "      <td>101661</td>\n",
       "      <td>eb5b761c7380ed4c6adf688f9e5ab94953dcabeda47d9e...</td>\n",
       "    </tr>\n",
       "    <tr>\n",
       "      <th>2</th>\n",
       "      <td>130560</td>\n",
       "      <td>00000000000015b9b2b91c82f5d95e7456b754cc188e58...</td>\n",
       "      <td>11</td>\n",
       "      <td>1307983943</td>\n",
       "      <td>51853</td>\n",
       "      <td>297</td>\n",
       "      <td>5000000000</td>\n",
       "      <td>478</td>\n",
       "      <td>2</td>\n",
       "      <td>794504</td>\n",
       "      <td>0</td>\n",
       "      <td>1000000</td>\n",
       "      <td>1</td>\n",
       "      <td>718648</td>\n",
       "      <td>4885ddf124a0f97b5a3775a12de0274d342d12842ebe59...</td>\n",
       "    </tr>\n",
       "    <tr>\n",
       "      <th>3</th>\n",
       "      <td>130560</td>\n",
       "      <td>00000000000015b9b2b91c82f5d95e7456b754cc188e58...</td>\n",
       "      <td>11</td>\n",
       "      <td>1307983943</td>\n",
       "      <td>51853</td>\n",
       "      <td>297</td>\n",
       "      <td>5000000000</td>\n",
       "      <td>478</td>\n",
       "      <td>2</td>\n",
       "      <td>787092</td>\n",
       "      <td>1</td>\n",
       "      <td>2500000000000</td>\n",
       "      <td>1</td>\n",
       "      <td>718648</td>\n",
       "      <td>4885ddf124a0f97b5a3775a12de0274d342d12842ebe59...</td>\n",
       "    </tr>\n",
       "    <tr>\n",
       "      <th>4</th>\n",
       "      <td>130560</td>\n",
       "      <td>00000000000015b9b2b91c82f5d95e7456b754cc188e58...</td>\n",
       "      <td>11</td>\n",
       "      <td>1307983943</td>\n",
       "      <td>43541</td>\n",
       "      <td>288</td>\n",
       "      <td>5000000000</td>\n",
       "      <td>478</td>\n",
       "      <td>2</td>\n",
       "      <td>794504</td>\n",
       "      <td>0</td>\n",
       "      <td>1000000</td>\n",
       "      <td>1</td>\n",
       "      <td>718648</td>\n",
       "      <td>4885ddf124a0f97b5a3775a12de0274d342d12842ebe59...</td>\n",
       "    </tr>\n",
       "  </tbody>\n",
       "</table>\n",
       "</div>"
      ],
      "text/plain": [
       "   blockID                                         block_hash  block_n_txs  \\\n",
       "0    73272  00000000006aba8ba340b7ae875b0b1be1af394b4a2610...            7   \n",
       "1    73272  00000000006aba8ba340b7ae875b0b1be1af394b4a2610...            7   \n",
       "2   130560  00000000000015b9b2b91c82f5d95e7456b754cc188e58...           11   \n",
       "3   130560  00000000000015b9b2b91c82f5d95e7456b754cc188e58...           11   \n",
       "4   130560  00000000000015b9b2b91c82f5d95e7456b754cc188e58...           11   \n",
       "\n",
       "   block_timestamp  input_addrID  input_seq     input_sum  n_inputs  \\\n",
       "0       1281389711         98866          0  900000000000         1   \n",
       "1       1281389711         98866          0  900000000000         1   \n",
       "2       1307983943         51853        297    5000000000       478   \n",
       "3       1307983943         51853        297    5000000000       478   \n",
       "4       1307983943         43541        288    5000000000       478   \n",
       "\n",
       "   n_outputs  output_addrID  output_seq     output_sum  risk    txID  \\\n",
       "0          2          98910           1   899900000000     1  101661   \n",
       "1          2          98866           0      100000000     1  101661   \n",
       "2          2         794504           0        1000000     1  718648   \n",
       "3          2         787092           1  2500000000000     1  718648   \n",
       "4          2         794504           0        1000000     1  718648   \n",
       "\n",
       "                                             tx_hash  \n",
       "0  eb5b761c7380ed4c6adf688f9e5ab94953dcabeda47d9e...  \n",
       "1  eb5b761c7380ed4c6adf688f9e5ab94953dcabeda47d9e...  \n",
       "2  4885ddf124a0f97b5a3775a12de0274d342d12842ebe59...  \n",
       "3  4885ddf124a0f97b5a3775a12de0274d342d12842ebe59...  \n",
       "4  4885ddf124a0f97b5a3775a12de0274d342d12842ebe59...  "
      ]
     },
     "execution_count": 21,
     "metadata": {},
     "output_type": "execute_result"
    }
   ],
   "source": [
    "tx_btc = tx_btc.append(tx_non_hack, ignore_index=True)\n",
    "print(tx_btc.shape)\n",
    "tx_btc.head()"
   ]
  },
  {
   "cell_type": "code",
   "execution_count": 22,
   "metadata": {},
   "outputs": [
    {
     "data": {
      "text/html": [
       "<div>\n",
       "<style>\n",
       "    .dataframe thead tr:only-child th {\n",
       "        text-align: right;\n",
       "    }\n",
       "\n",
       "    .dataframe thead th {\n",
       "        text-align: left;\n",
       "    }\n",
       "\n",
       "    .dataframe tbody tr th {\n",
       "        vertical-align: top;\n",
       "    }\n",
       "</style>\n",
       "<table border=\"1\" class=\"dataframe\">\n",
       "  <thead>\n",
       "    <tr style=\"text-align: right;\">\n",
       "      <th></th>\n",
       "      <th>blockID</th>\n",
       "      <th>block_hash</th>\n",
       "      <th>block_n_txs</th>\n",
       "      <th>block_timestamp</th>\n",
       "      <th>input_addrID</th>\n",
       "      <th>input_seq</th>\n",
       "      <th>input_sum</th>\n",
       "      <th>n_inputs</th>\n",
       "      <th>n_outputs</th>\n",
       "      <th>output_addrID</th>\n",
       "      <th>output_seq</th>\n",
       "      <th>output_sum</th>\n",
       "      <th>risk</th>\n",
       "      <th>txID</th>\n",
       "      <th>tx_hash</th>\n",
       "    </tr>\n",
       "  </thead>\n",
       "  <tbody>\n",
       "    <tr>\n",
       "      <th>207331</th>\n",
       "      <td>14604</td>\n",
       "      <td>00000000c34057b8ef87f95d467b9febb90e954d606a59...</td>\n",
       "      <td>2</td>\n",
       "      <td>1242427668</td>\n",
       "      <td>13609</td>\n",
       "      <td>0</td>\n",
       "      <td>5000000000</td>\n",
       "      <td>10</td>\n",
       "      <td>1</td>\n",
       "      <td>744</td>\n",
       "      <td>0</td>\n",
       "      <td>50000000000</td>\n",
       "      <td>0</td>\n",
       "      <td>14728</td>\n",
       "      <td>c5228406aca1f6b12e8617e069f7e1e466be71babc2876...</td>\n",
       "    </tr>\n",
       "    <tr>\n",
       "      <th>207332</th>\n",
       "      <td>14604</td>\n",
       "      <td>00000000c34057b8ef87f95d467b9febb90e954d606a59...</td>\n",
       "      <td>2</td>\n",
       "      <td>1242427668</td>\n",
       "      <td>13489</td>\n",
       "      <td>9</td>\n",
       "      <td>5000000000</td>\n",
       "      <td>10</td>\n",
       "      <td>1</td>\n",
       "      <td>744</td>\n",
       "      <td>0</td>\n",
       "      <td>50000000000</td>\n",
       "      <td>0</td>\n",
       "      <td>14728</td>\n",
       "      <td>c5228406aca1f6b12e8617e069f7e1e466be71babc2876...</td>\n",
       "    </tr>\n",
       "    <tr>\n",
       "      <th>207333</th>\n",
       "      <td>14604</td>\n",
       "      <td>00000000c34057b8ef87f95d467b9febb90e954d606a59...</td>\n",
       "      <td>2</td>\n",
       "      <td>1242427668</td>\n",
       "      <td>14551</td>\n",
       "      <td>8</td>\n",
       "      <td>5000000000</td>\n",
       "      <td>10</td>\n",
       "      <td>1</td>\n",
       "      <td>744</td>\n",
       "      <td>0</td>\n",
       "      <td>50000000000</td>\n",
       "      <td>0</td>\n",
       "      <td>14728</td>\n",
       "      <td>c5228406aca1f6b12e8617e069f7e1e466be71babc2876...</td>\n",
       "    </tr>\n",
       "    <tr>\n",
       "      <th>207334</th>\n",
       "      <td>14604</td>\n",
       "      <td>00000000c34057b8ef87f95d467b9febb90e954d606a59...</td>\n",
       "      <td>2</td>\n",
       "      <td>1242427668</td>\n",
       "      <td>13492</td>\n",
       "      <td>7</td>\n",
       "      <td>5000000000</td>\n",
       "      <td>10</td>\n",
       "      <td>1</td>\n",
       "      <td>744</td>\n",
       "      <td>0</td>\n",
       "      <td>50000000000</td>\n",
       "      <td>0</td>\n",
       "      <td>14728</td>\n",
       "      <td>c5228406aca1f6b12e8617e069f7e1e466be71babc2876...</td>\n",
       "    </tr>\n",
       "    <tr>\n",
       "      <th>207335</th>\n",
       "      <td>14604</td>\n",
       "      <td>00000000c34057b8ef87f95d467b9febb90e954d606a59...</td>\n",
       "      <td>2</td>\n",
       "      <td>1242427668</td>\n",
       "      <td>13480</td>\n",
       "      <td>6</td>\n",
       "      <td>5000000000</td>\n",
       "      <td>10</td>\n",
       "      <td>1</td>\n",
       "      <td>744</td>\n",
       "      <td>0</td>\n",
       "      <td>50000000000</td>\n",
       "      <td>0</td>\n",
       "      <td>14728</td>\n",
       "      <td>c5228406aca1f6b12e8617e069f7e1e466be71babc2876...</td>\n",
       "    </tr>\n",
       "  </tbody>\n",
       "</table>\n",
       "</div>"
      ],
      "text/plain": [
       "        blockID                                         block_hash  \\\n",
       "207331    14604  00000000c34057b8ef87f95d467b9febb90e954d606a59...   \n",
       "207332    14604  00000000c34057b8ef87f95d467b9febb90e954d606a59...   \n",
       "207333    14604  00000000c34057b8ef87f95d467b9febb90e954d606a59...   \n",
       "207334    14604  00000000c34057b8ef87f95d467b9febb90e954d606a59...   \n",
       "207335    14604  00000000c34057b8ef87f95d467b9febb90e954d606a59...   \n",
       "\n",
       "        block_n_txs  block_timestamp  input_addrID  input_seq   input_sum  \\\n",
       "207331            2       1242427668         13609          0  5000000000   \n",
       "207332            2       1242427668         13489          9  5000000000   \n",
       "207333            2       1242427668         14551          8  5000000000   \n",
       "207334            2       1242427668         13492          7  5000000000   \n",
       "207335            2       1242427668         13480          6  5000000000   \n",
       "\n",
       "        n_inputs  n_outputs  output_addrID  output_seq   output_sum  risk  \\\n",
       "207331        10          1            744           0  50000000000     0   \n",
       "207332        10          1            744           0  50000000000     0   \n",
       "207333        10          1            744           0  50000000000     0   \n",
       "207334        10          1            744           0  50000000000     0   \n",
       "207335        10          1            744           0  50000000000     0   \n",
       "\n",
       "         txID                                            tx_hash  \n",
       "207331  14728  c5228406aca1f6b12e8617e069f7e1e466be71babc2876...  \n",
       "207332  14728  c5228406aca1f6b12e8617e069f7e1e466be71babc2876...  \n",
       "207333  14728  c5228406aca1f6b12e8617e069f7e1e466be71babc2876...  \n",
       "207334  14728  c5228406aca1f6b12e8617e069f7e1e466be71babc2876...  \n",
       "207335  14728  c5228406aca1f6b12e8617e069f7e1e466be71babc2876...  "
      ]
     },
     "execution_count": 22,
     "metadata": {},
     "output_type": "execute_result"
    }
   ],
   "source": [
    "tx_btc = tx_btc.sort_values(by=['blockID', 'txID'])\n",
    "tx_btc.head()"
   ]
  },
  {
   "cell_type": "code",
   "execution_count": 23,
   "metadata": {},
   "outputs": [
    {
     "data": {
      "text/plain": [
       "blockID            False\n",
       "block_hash         False\n",
       "block_n_txs        False\n",
       "block_timestamp    False\n",
       "input_addrID       False\n",
       "input_seq          False\n",
       "input_sum          False\n",
       "n_inputs           False\n",
       "n_outputs          False\n",
       "output_addrID      False\n",
       "output_seq         False\n",
       "output_sum         False\n",
       "risk               False\n",
       "txID               False\n",
       "tx_hash            False\n",
       "dtype: bool"
      ]
     },
     "execution_count": 23,
     "metadata": {},
     "output_type": "execute_result"
    }
   ],
   "source": [
    "tx_btc.isnull().any()"
   ]
  },
  {
   "cell_type": "markdown",
   "metadata": {},
   "source": [
    "#### 3.3. Split Train & Test Data"
   ]
  },
  {
   "cell_type": "code",
   "execution_count": 24,
   "metadata": {},
   "outputs": [
    {
     "data": {
      "text/plain": [
       "(864789,)"
      ]
     },
     "execution_count": 24,
     "metadata": {},
     "output_type": "execute_result"
    }
   ],
   "source": [
    "y = tx_btc['risk']\n",
    "y.shape"
   ]
  },
  {
   "cell_type": "code",
   "execution_count": 25,
   "metadata": {},
   "outputs": [
    {
     "data": {
      "text/plain": [
       "(864789, 10)"
      ]
     },
     "execution_count": 25,
     "metadata": {},
     "output_type": "execute_result"
    }
   ],
   "source": [
    "x = tx_btc.drop(['risk', 'blockID', 'block_hash', 'txID', 'tx_hash'], axis = 1)\n",
    "x.shape"
   ]
  },
  {
   "cell_type": "code",
   "execution_count": 26,
   "metadata": {},
   "outputs": [],
   "source": [
    "# Split train & test \n",
    "\n",
    "x_train, x_test, y_train, y_test = train_test_split(x, y, test_size=0.2, random_state=100)"
   ]
  },
  {
   "cell_type": "markdown",
   "metadata": {},
   "source": [
    "### 4. Modeling Algorithm"
   ]
  },
  {
   "cell_type": "markdown",
   "metadata": {},
   "source": [
    "#### 4.1. Random Forest"
   ]
  },
  {
   "cell_type": "code",
   "execution_count": 27,
   "metadata": {},
   "outputs": [],
   "source": [
    "rf = RandomForestClassifier(n_estimators=25, random_state=100)"
   ]
  },
  {
   "cell_type": "code",
   "execution_count": 28,
   "metadata": {},
   "outputs": [
    {
     "data": {
      "text/plain": [
       "RandomForestClassifier(bootstrap=True, class_weight=None, criterion='gini',\n",
       "            max_depth=None, max_features='auto', max_leaf_nodes=None,\n",
       "            min_impurity_decrease=0.0, min_impurity_split=None,\n",
       "            min_samples_leaf=1, min_samples_split=2,\n",
       "            min_weight_fraction_leaf=0.0, n_estimators=25, n_jobs=1,\n",
       "            oob_score=False, random_state=100, verbose=0, warm_start=False)"
      ]
     },
     "execution_count": 28,
     "metadata": {},
     "output_type": "execute_result"
    }
   ],
   "source": [
    "rf.fit(x_train,y_train)"
   ]
  },
  {
   "cell_type": "code",
   "execution_count": 29,
   "metadata": {},
   "outputs": [],
   "source": [
    "y_hat = rf.predict(x_test)"
   ]
  },
  {
   "cell_type": "code",
   "execution_count": 30,
   "metadata": {},
   "outputs": [],
   "source": [
    "pred = rf.predict(x_test)"
   ]
  },
  {
   "cell_type": "code",
   "execution_count": 31,
   "metadata": {},
   "outputs": [
    {
     "name": "stdout",
     "output_type": "stream",
     "text": [
      "0.9999537459961378\n"
     ]
    }
   ],
   "source": [
    "acc=rf.score(x_test,y_test)\n",
    "print(acc)"
   ]
  },
  {
   "cell_type": "code",
   "execution_count": 32,
   "metadata": {},
   "outputs": [
    {
     "name": "stdout",
     "output_type": "stream",
     "text": [
      "             precision    recall  f1-score   support\n",
      "\n",
      "          0       1.00      1.00      1.00    172524\n",
      "          1       1.00      0.98      0.99       434\n",
      "\n",
      "avg / total       1.00      1.00      1.00    172958\n",
      "\n"
     ]
    }
   ],
   "source": [
    "metrics_rf = classification_report(y_test,y_hat)\n",
    "print(metrics_rf)"
   ]
  },
  {
   "cell_type": "markdown",
   "metadata": {},
   "source": [
    "#### 4.2. K-Nearest Neighbors"
   ]
  },
  {
   "cell_type": "code",
   "execution_count": 33,
   "metadata": {},
   "outputs": [],
   "source": [
    "KNN = KNeighborsClassifier(n_neighbors=10, n_jobs=5)"
   ]
  },
  {
   "cell_type": "code",
   "execution_count": 34,
   "metadata": {},
   "outputs": [
    {
     "data": {
      "text/plain": [
       "KNeighborsClassifier(algorithm='auto', leaf_size=30, metric='minkowski',\n",
       "           metric_params=None, n_jobs=5, n_neighbors=10, p=2,\n",
       "           weights='uniform')"
      ]
     },
     "execution_count": 34,
     "metadata": {},
     "output_type": "execute_result"
    }
   ],
   "source": [
    "KNN.fit(x,y)"
   ]
  },
  {
   "cell_type": "code",
   "execution_count": 35,
   "metadata": {},
   "outputs": [],
   "source": [
    "y_hat = KNN.predict(x_test)"
   ]
  },
  {
   "cell_type": "code",
   "execution_count": 36,
   "metadata": {},
   "outputs": [
    {
     "name": "stdout",
     "output_type": "stream",
     "text": [
      "0.9995258964604123\n"
     ]
    }
   ],
   "source": [
    "accuracy_KNN = mt.accuracy_score(y_test,y_hat)\n",
    "print(accuracy_KNN)"
   ]
  },
  {
   "cell_type": "code",
   "execution_count": 37,
   "metadata": {},
   "outputs": [
    {
     "name": "stdout",
     "output_type": "stream",
     "text": [
      "             precision    recall  f1-score   support\n",
      "\n",
      "          0       1.00      1.00      1.00    172524\n",
      "          1       0.98      0.83      0.90       434\n",
      "\n",
      "avg / total       1.00      1.00      1.00    172958\n",
      "\n"
     ]
    }
   ],
   "source": [
    "metrics_KNN = classification_report(y_test,y_hat)\n",
    "print(metrics_KNN)"
   ]
  },
  {
   "cell_type": "markdown",
   "metadata": {},
   "source": [
    "#### 4.3. Support Vector Machine"
   ]
  },
  {
   "cell_type": "code",
   "execution_count": 41,
   "metadata": {},
   "outputs": [],
   "source": [
    "x_svm = x.values\n",
    "y_svm = y.values"
   ]
  },
  {
   "cell_type": "code",
   "execution_count": 42,
   "metadata": {},
   "outputs": [],
   "source": [
    "# Stratified KFold object\n",
    "\n",
    "skf = StratifiedShuffleSplit(n_splits=10, test_size = 0.2, random_state = 31743).split(x, y)"
   ]
  },
  {
   "cell_type": "code",
   "execution_count": 43,
   "metadata": {},
   "outputs": [],
   "source": [
    "scores = []"
   ]
  },
  {
   "cell_type": "code",
   "execution_count": 45,
   "metadata": {},
   "outputs": [],
   "source": [
    "for i, (train, test) in enumerate(skf):\n",
    "    model = LinearSVC().fit(x_svm[train], y_svm[train])\n",
    "    score = model.score(x_svm[test], y_svm[test])\n",
    "    scores.append(score)"
   ]
  },
  {
   "cell_type": "code",
   "execution_count": 46,
   "metadata": {},
   "outputs": [
    {
     "name": "stdout",
     "output_type": "stream",
     "text": [
      "The average accuracy of the model was 0.9958923874903477\n"
     ]
    }
   ],
   "source": [
    "print('The average accuracy of the model was {}'.format(np.mean(scores)))"
   ]
  },
  {
   "cell_type": "code",
   "execution_count": 47,
   "metadata": {},
   "outputs": [
    {
     "name": "stdout",
     "output_type": "stream",
     "text": [
      "             precision    recall  f1-score   support\n",
      "\n",
      "          0       1.00      1.00      1.00    172524\n",
      "          1       0.00      0.00      0.00       434\n",
      "\n",
      "avg / total       0.99      1.00      1.00    172958\n",
      "\n"
     ]
    },
    {
     "name": "stderr",
     "output_type": "stream",
     "text": [
      "C:\\Users\\Sudip\\Anaconda3\\envs\\python3\\lib\\site-packages\\sklearn\\metrics\\classification.py:1135: UndefinedMetricWarning: Precision and F-score are ill-defined and being set to 0.0 in labels with no predicted samples.\n",
      "  'precision', 'predicted', average, warn_for)\n"
     ]
    }
   ],
   "source": [
    "print(classification_report(y_svm[test], model.predict(x_svm[test])))"
   ]
  },
  {
   "cell_type": "markdown",
   "metadata": {},
   "source": [
    "#### 4.4. Neural Network Model"
   ]
  },
  {
   "cell_type": "code",
   "execution_count": 49,
   "metadata": {},
   "outputs": [],
   "source": [
    "# Stratified KFold object\n",
    "\n",
    "skf = StratifiedShuffleSplit(n_splits=10, test_size = 0.2, random_state = 31743).split(x_svm, y_svm)\n",
    "scores = []"
   ]
  },
  {
   "cell_type": "code",
   "execution_count": 52,
   "metadata": {},
   "outputs": [],
   "source": [
    "for i, (train, test) in enumerate(skf):\n",
    "    model = MLPClassifier().fit(x_svm[train], y_svm[train])\n",
    "    score = model.score(x_svm[test], y_svm[test])\n",
    "    scores.append(score)"
   ]
  },
  {
   "cell_type": "code",
   "execution_count": 53,
   "metadata": {},
   "outputs": [
    {
     "name": "stdout",
     "output_type": "stream",
     "text": [
      "The average accuracy of the model was 0.9976179188010962\n"
     ]
    }
   ],
   "source": [
    "print('The average accuracy of the model was {}'.format(np.mean(scores)))"
   ]
  },
  {
   "cell_type": "code",
   "execution_count": 55,
   "metadata": {},
   "outputs": [
    {
     "name": "stdout",
     "output_type": "stream",
     "text": [
      "             precision    recall  f1-score   support\n",
      "\n",
      "          0       1.00      1.00      1.00    172524\n",
      "          1       0.56      0.32      0.41       434\n",
      "\n",
      "avg / total       1.00      1.00      1.00    172958\n",
      "\n"
     ]
    }
   ],
   "source": [
    "print(classification_report(y_svm[test], model.predict(x_svm[test])))"
   ]
  },
  {
   "cell_type": "markdown",
   "metadata": {},
   "source": [
    "#### 4.5. Logistic Regression Model"
   ]
  },
  {
   "cell_type": "code",
   "execution_count": 108,
   "metadata": {},
   "outputs": [
    {
     "data": {
      "text/plain": [
       "LogisticRegression(C=1.0, class_weight=None, dual=False, fit_intercept=True,\n",
       "          intercept_scaling=1, max_iter=100, multi_class='ovr', n_jobs=1,\n",
       "          penalty='l2', random_state=None, solver='liblinear', tol=0.0001,\n",
       "          verbose=0, warm_start=False)"
      ]
     },
     "execution_count": 108,
     "metadata": {},
     "output_type": "execute_result"
    }
   ],
   "source": [
    "# Logistic Regression object\n",
    "lr_clf = LogisticRegression(penalty='l2',C=1.0)  # C=1.0 is the default \n",
    "\n",
    "# fit model\n",
    "lr_clf.fit(x_train, y_train)"
   ]
  },
  {
   "cell_type": "code",
   "execution_count": 109,
   "metadata": {},
   "outputs": [
    {
     "data": {
      "text/plain": [
       "'Accuracy of the logistic linear model is 0.99812'"
      ]
     },
     "execution_count": 109,
     "metadata": {},
     "output_type": "execute_result"
    }
   ],
   "source": [
    "# score against test data\n",
    "score = lr_clf.score(x_test, y_test)\n",
    "'Accuracy of the logistic linear model is {}'.format(round(score,5))"
   ]
  },
  {
   "cell_type": "code",
   "execution_count": 110,
   "metadata": {},
   "outputs": [
    {
     "data": {
      "text/plain": [
       "array([[172523,      1],\n",
       "       [   325,    109]], dtype=int64)"
      ]
     },
     "execution_count": 110,
     "metadata": {},
     "output_type": "execute_result"
    }
   ],
   "source": [
    "y_hat = lr_clf.predict(x_test) # get test set precitions\n",
    "\n",
    "# now let's get the accuracy and confusion matrix for training and test data\n",
    "acc = mt.accuracy_score(y_test,y_hat)\n",
    "conf = mt.confusion_matrix(y_test,y_hat)\n",
    "'Accuracy Logistic Model: {}'.format(round(acc,5))\n",
    "'Confusion Matrix: '\n",
    "conf"
   ]
  },
  {
   "cell_type": "code",
   "execution_count": 112,
   "metadata": {},
   "outputs": [],
   "source": [
    "weight_odds = pd.DataFrame({'weights': lr_clf.coef_.flatten(), 'odds': np.exp(lr_clf.coef_.flatten())}, \\\n",
    "                      index=x_train.columns).sort_values(ascending=False, by='weights')"
   ]
  },
  {
   "cell_type": "code",
   "execution_count": 115,
   "metadata": {},
   "outputs": [
    {
     "name": "stdout",
     "output_type": "stream",
     "text": [
      "Weights\n"
     ]
    },
    {
     "data": {
      "text/html": [
       "<div>\n",
       "<style>\n",
       "    .dataframe thead tr:only-child th {\n",
       "        text-align: right;\n",
       "    }\n",
       "\n",
       "    .dataframe thead th {\n",
       "        text-align: left;\n",
       "    }\n",
       "\n",
       "    .dataframe tbody tr th {\n",
       "        vertical-align: top;\n",
       "    }\n",
       "</style>\n",
       "<table border=\"1\" class=\"dataframe\">\n",
       "  <thead>\n",
       "    <tr style=\"text-align: right;\">\n",
       "      <th></th>\n",
       "      <th>odds</th>\n",
       "      <th>weights</th>\n",
       "    </tr>\n",
       "  </thead>\n",
       "  <tbody>\n",
       "    <tr>\n",
       "      <th>n_inputs</th>\n",
       "      <td>1.0</td>\n",
       "      <td>1.629301e-11</td>\n",
       "    </tr>\n",
       "    <tr>\n",
       "      <th>input_seq</th>\n",
       "      <td>1.0</td>\n",
       "      <td>8.309137e-12</td>\n",
       "    </tr>\n",
       "    <tr>\n",
       "      <th>output_sum</th>\n",
       "      <td>1.0</td>\n",
       "      <td>2.478019e-12</td>\n",
       "    </tr>\n",
       "    <tr>\n",
       "      <th>output_seq</th>\n",
       "      <td>1.0</td>\n",
       "      <td>-5.599531e-13</td>\n",
       "    </tr>\n",
       "    <tr>\n",
       "      <th>n_outputs</th>\n",
       "      <td>1.0</td>\n",
       "      <td>-1.104174e-12</td>\n",
       "    </tr>\n",
       "    <tr>\n",
       "      <th>input_sum</th>\n",
       "      <td>1.0</td>\n",
       "      <td>-2.461466e-12</td>\n",
       "    </tr>\n",
       "    <tr>\n",
       "      <th>block_n_txs</th>\n",
       "      <td>1.0</td>\n",
       "      <td>-1.352141e-11</td>\n",
       "    </tr>\n",
       "    <tr>\n",
       "      <th>block_timestamp</th>\n",
       "      <td>1.0</td>\n",
       "      <td>-1.210135e-09</td>\n",
       "    </tr>\n",
       "    <tr>\n",
       "      <th>output_addrID</th>\n",
       "      <td>1.0</td>\n",
       "      <td>-1.576395e-07</td>\n",
       "    </tr>\n",
       "    <tr>\n",
       "      <th>input_addrID</th>\n",
       "      <td>1.0</td>\n",
       "      <td>-2.441658e-07</td>\n",
       "    </tr>\n",
       "  </tbody>\n",
       "</table>\n",
       "</div>"
      ],
      "text/plain": [
       "                 odds       weights\n",
       "n_inputs          1.0  1.629301e-11\n",
       "input_seq         1.0  8.309137e-12\n",
       "output_sum        1.0  2.478019e-12\n",
       "output_seq        1.0 -5.599531e-13\n",
       "n_outputs         1.0 -1.104174e-12\n",
       "input_sum         1.0 -2.461466e-12\n",
       "block_n_txs       1.0 -1.352141e-11\n",
       "block_timestamp   1.0 -1.210135e-09\n",
       "output_addrID     1.0 -1.576395e-07\n",
       "input_addrID      1.0 -2.441658e-07"
      ]
     },
     "execution_count": 115,
     "metadata": {},
     "output_type": "execute_result"
    }
   ],
   "source": [
    "print(\"Weights\")\n",
    "weight_odds"
   ]
  },
  {
   "cell_type": "code",
   "execution_count": 118,
   "metadata": {},
   "outputs": [
    {
     "data": {
      "text/plain": [
       "<matplotlib.axes._subplots.AxesSubplot at 0x23980cf52b0>"
      ]
     },
     "execution_count": 118,
     "metadata": {},
     "output_type": "execute_result"
    },
    {
     "data": {
      "image/png": "[encoded data removed]",
      "text/plain": [
       "<Figure size 936x504 with 1 Axes>"
      ]
     },
     "metadata": {},
     "output_type": "display_data"
    }
   ],
   "source": [
    "# bar chart plot of weights\n",
    "weight_odds['weights'].plot.bar(figsize=(13,7))"
   ]
  },
  {
   "cell_type": "code",
   "execution_count": null,
   "metadata": {},
   "outputs": [],
   "source": []
  }
 ],
 "metadata": {
  "anaconda-cloud": {},
  "kernelspec": {
   "display_name": "Python [conda env:python3]",
   "language": "python",
   "name": "conda-env-python3-py"
  },
  "language_info": {
   "codemirror_mode": {
    "name": "ipython",
    "version": 3
   },
   "file_extension": ".py",
   "mimetype": "text/x-python",
   "name": "python",
   "nbconvert_exporter": "python",
   "pygments_lexer": "ipython3",
   "version": "3.6.5"
  }
 },
 "nbformat": 4,
 "nbformat_minor": 2
}
